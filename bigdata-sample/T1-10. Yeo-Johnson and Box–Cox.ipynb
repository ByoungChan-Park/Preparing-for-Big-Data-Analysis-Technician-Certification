{
 "cells": [
  {
   "cell_type": "code",
   "execution_count": 1,
   "id": "constant-assault",
   "metadata": {},
   "outputs": [],
   "source": [
    "import numpy as np\n",
    "import pandas as pd\n",
    "\n",
    "from sklearn.preprocessing import power_transform"
   ]
  },
  {
   "cell_type": "code",
   "execution_count": 2,
   "id": "thousand-maine",
   "metadata": {},
   "outputs": [
    {
     "data": {
      "text/plain": [
       "0.05"
      ]
     },
     "execution_count": 2,
     "metadata": {},
     "output_type": "execute_result"
    }
   ],
   "source": [
    "df = pd.read_csv('./data/basic1.csv')\n",
    "df1 = df.loc[df['age'] >=20, :]\n",
    "df2 = df1.fillna({'f1': df1['f1'].mode()[0]})\n",
    "df2.loc[:, 'y'] = power_transform(df2[['f1']])\n",
    "df2.loc[:, 'b'] = power_transform(df2[['f1']], method='box-cox')\n",
    "round(sum(abs(df2['y']-df2['b'])),2)"
   ]
  }
 ],
 "metadata": {
  "kernelspec": {
   "display_name": "Enjoy Data Science",
   "language": "python",
   "name": "enjoy-data-science"
  },
  "language_info": {
   "codemirror_mode": {
    "name": "ipython",
    "version": 3
   },
   "file_extension": ".py",
   "mimetype": "text/x-python",
   "name": "python",
   "nbconvert_exporter": "python",
   "pygments_lexer": "ipython3",
   "version": "3.8.5"
  }
 },
 "nbformat": 4,
 "nbformat_minor": 5
}
