{
 "cells": [
  {
   "cell_type": "code",
   "execution_count": 1,
   "id": "unusual-fireplace",
   "metadata": {},
   "outputs": [],
   "source": [
    "import pandas as pd\n",
    "import numpy as np\n",
    "from sklearn.preprocessing import Normalizer\n",
    "from sklearn.preprocessing import StandardScaler"
   ]
  },
  {
   "cell_type": "code",
   "execution_count": 2,
   "id": "religious-analysis",
   "metadata": {},
   "outputs": [
    {
     "data": {
      "text/plain": [
       "0.260619629559015"
      ]
     },
     "execution_count": 2,
     "metadata": {},
     "output_type": "execute_result"
    }
   ],
   "source": [
    "df = pd.read_csv('./data/basic1.csv')\n",
    "df['f5'] = StandardScaler().fit_transform(df[['f5']])\n",
    "df['f5'].median()"
   ]
  },
  {
   "cell_type": "code",
   "execution_count": 3,
   "id": "better-destination",
   "metadata": {},
   "outputs": [
    {
     "data": {
      "text/plain": [
       "0.260619629559015"
      ]
     },
     "execution_count": 3,
     "metadata": {},
     "output_type": "execute_result"
    }
   ],
   "source": [
    "df1 = pd.read_csv('./data/basic1.csv')\n",
    "f5 = StandardScaler().fit_transform(df1[['f5']])\n",
    "np.median(f5)"
   ]
  },
  {
   "cell_type": "code",
   "execution_count": 7,
   "id": "caroline-vancouver",
   "metadata": {},
   "outputs": [],
   "source": [
    "def standard_scaler(series):\n",
    "    mean = series.mean()\n",
    "    std = series.std()\n",
    "    result = (series - mean) / std\n",
    "    return result"
   ]
  },
  {
   "cell_type": "code",
   "execution_count": 8,
   "id": "built-vitamin",
   "metadata": {},
   "outputs": [],
   "source": [
    "df2 = pd.read_csv('./data/basic1.csv')\n",
    "f5 = standard_scaler(df2['f5'])"
   ]
  },
  {
   "cell_type": "code",
   "execution_count": 9,
   "id": "worldwide-snowboard",
   "metadata": {},
   "outputs": [
    {
     "data": {
      "text/plain": [
       "0.25931325727460103"
      ]
     },
     "execution_count": 9,
     "metadata": {},
     "output_type": "execute_result"
    }
   ],
   "source": [
    "f5.median()"
   ]
  },
  {
   "cell_type": "code",
   "execution_count": null,
   "id": "desperate-michael",
   "metadata": {},
   "outputs": [],
   "source": []
  }
 ],
 "metadata": {
  "kernelspec": {
   "display_name": "Enjoy Data Science",
   "language": "python",
   "name": "enjoy-data-science"
  },
  "language_info": {
   "codemirror_mode": {
    "name": "ipython",
    "version": 3
   },
   "file_extension": ".py",
   "mimetype": "text/x-python",
   "name": "python",
   "nbconvert_exporter": "python",
   "pygments_lexer": "ipython3",
   "version": "3.8.5"
  }
 },
 "nbformat": 4,
 "nbformat_minor": 5
}
