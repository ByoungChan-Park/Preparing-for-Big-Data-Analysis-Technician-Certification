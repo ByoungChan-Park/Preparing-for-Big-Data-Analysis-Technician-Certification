{
 "cells": [
  {
   "cell_type": "code",
   "execution_count": 1,
   "id": "nutritional-alliance",
   "metadata": {},
   "outputs": [],
   "source": [
    "import pandas as pd\n",
    "import numpy as np\n",
    "from sklearn.preprocessing import MinMaxScaler "
   ]
  },
  {
   "cell_type": "code",
   "execution_count": 2,
   "id": "republican-typing",
   "metadata": {},
   "outputs": [],
   "source": [
    "df = pd.read_csv('./data/basic1.csv')"
   ]
  },
  {
   "cell_type": "code",
   "execution_count": 3,
   "id": "therapeutic-minutes",
   "metadata": {},
   "outputs": [],
   "source": [
    "scaler = MinMaxScaler()"
   ]
  },
  {
   "cell_type": "code",
   "execution_count": 4,
   "id": "given-correlation",
   "metadata": {},
   "outputs": [],
   "source": [
    "df['f5_std'] = scaler.fit_transform(df[['f5']])"
   ]
  },
  {
   "cell_type": "code",
   "execution_count": 5,
   "id": "greatest-conditioning",
   "metadata": {},
   "outputs": [],
   "source": [
    "upper = df['f5_std'].quantile(0.05)\n",
    "lower = df['f5_std'].quantile(0.95)"
   ]
  },
  {
   "cell_type": "code",
   "execution_count": 6,
   "id": "christian-interval",
   "metadata": {},
   "outputs": [
    {
     "data": {
      "text/plain": [
       "1.0248740983597389"
      ]
     },
     "execution_count": 6,
     "metadata": {},
     "output_type": "execute_result"
    }
   ],
   "source": [
    "upper+lower"
   ]
  },
  {
   "cell_type": "code",
   "execution_count": 7,
   "id": "better-cotton",
   "metadata": {},
   "outputs": [],
   "source": [
    "upper = np.percentile(df['f5_std'], 5)\n",
    "lower = np.percentile(df['f5_std'], 95)"
   ]
  },
  {
   "cell_type": "code",
   "execution_count": 8,
   "id": "defensive-basket",
   "metadata": {},
   "outputs": [
    {
     "data": {
      "text/plain": [
       "1.0248740983597389"
      ]
     },
     "execution_count": 8,
     "metadata": {},
     "output_type": "execute_result"
    }
   ],
   "source": [
    "upper+lower"
   ]
  },
  {
   "cell_type": "code",
   "execution_count": null,
   "id": "bizarre-toddler",
   "metadata": {},
   "outputs": [],
   "source": []
  }
 ],
 "metadata": {
  "kernelspec": {
   "display_name": "Enjoy Data Science",
   "language": "python",
   "name": "enjoy-data-science"
  },
  "language_info": {
   "codemirror_mode": {
    "name": "ipython",
    "version": 3
   },
   "file_extension": ".py",
   "mimetype": "text/x-python",
   "name": "python",
   "nbconvert_exporter": "python",
   "pygments_lexer": "ipython3",
   "version": "3.8.5"
  }
 },
 "nbformat": 4,
 "nbformat_minor": 5
}
