{
 "cells": [
  {
   "cell_type": "code",
   "execution_count": 1,
   "id": "genetic-parks",
   "metadata": {},
   "outputs": [],
   "source": [
    "import pandas as pd\n",
    "import numpy as np\n",
    "\n",
    "from sklearn.model_selection import train_test_split\n",
    "from sklearn.metrics import roc_auc_score, roc_curve\n",
    "from sklearn.linear_model import LogisticRegression\n",
    "from sklearn.tree import DecisionTreeClassifier\n",
    "from sklearn.ensemble import RandomForestClassifier, AdaBoostClassifier\n",
    "from sklearn.preprocessing import StandardScaler\n",
    "from xgboost import XGBClassifier"
   ]
  },
  {
   "cell_type": "markdown",
   "id": "falling-fields",
   "metadata": {},
   "source": [
    "### 데이터 불러오기"
   ]
  },
  {
   "cell_type": "code",
   "execution_count": 2,
   "id": "funny-stuff",
   "metadata": {},
   "outputs": [],
   "source": [
    "x = pd.read_csv('./data/X_train.csv', encoding='euc-kr')\n",
    "y = pd.read_csv('./data/y_train.csv', encoding='euc-kr')\n",
    "validation = pd.read_csv('./data/X_test.csv', encoding='euc-kr')"
   ]
  },
  {
   "cell_type": "code",
   "execution_count": 3,
   "id": "built-utilization",
   "metadata": {},
   "outputs": [],
   "source": [
    "#X_train.info()"
   ]
  },
  {
   "cell_type": "markdown",
   "id": "literary-script",
   "metadata": {},
   "source": [
    "### 결측치 처리"
   ]
  },
  {
   "cell_type": "code",
   "execution_count": 4,
   "id": "distributed-active",
   "metadata": {},
   "outputs": [
    {
     "data": {
      "text/plain": [
       "cust_id       0\n",
       "총구매액          0\n",
       "최대구매액         0\n",
       "환불금액       2295\n",
       "주구매상품         0\n",
       "주구매지점         0\n",
       "내점일수          0\n",
       "내점당구매건수       0\n",
       "주말방문비율        0\n",
       "구매주기          0\n",
       "dtype: int64"
      ]
     },
     "execution_count": 4,
     "metadata": {},
     "output_type": "execute_result"
    }
   ],
   "source": [
    "x.isnull().sum()"
   ]
  },
  {
   "cell_type": "code",
   "execution_count": 6,
   "id": "fabulous-asset",
   "metadata": {},
   "outputs": [],
   "source": [
    "x['환불금액'] = x['환불금액'].fillna(0)\n",
    "validation['환불금액'] = validation['환불금액'].fillna(0)\n",
    "x = x.drop('cust_id', axis=1)\n",
    "validation = validation.drop('cust_id', axis=1)\n",
    "y = y['gender']"
   ]
  },
  {
   "cell_type": "markdown",
   "id": "green-transformation",
   "metadata": {},
   "source": [
    "### 명목형 데이터 수정"
   ]
  },
  {
   "cell_type": "code",
   "execution_count": 7,
   "id": "mediterranean-junction",
   "metadata": {},
   "outputs": [],
   "source": [
    "category = np.union1d(x['주구매상품'].unique(), validation['주구매상품'].unique())\n",
    "store = np.union1d(x['주구매지점'].unique(), validation['주구매지점'].unique())"
   ]
  },
  {
   "cell_type": "code",
   "execution_count": 8,
   "id": "unnecessary-spencer",
   "metadata": {},
   "outputs": [],
   "source": [
    "x['주구매상품'] = x['주구매상품'].apply(lambda x: np.where(category == x)[0][0])\n",
    "validation['주구매상품'] = validation['주구매상품'].apply(lambda x: np.where(category == x)[0][0])\n",
    "\n",
    "x['주구매지점'] = x['주구매지점'].apply(lambda x: np.where(store == x)[0][0])\n",
    "validation['주구매지점'] = validation['주구매지점'].apply(lambda x: np.where(store == x)[0][0])"
   ]
  },
  {
   "cell_type": "markdown",
   "id": "reasonable-tyler",
   "metadata": {},
   "source": [
    "### 정규화"
   ]
  },
  {
   "cell_type": "code",
   "execution_count": 9,
   "id": "thrown-chassis",
   "metadata": {},
   "outputs": [],
   "source": [
    "sc = StandardScaler()\n",
    "sc.fit(x)\n",
    "x_sc = sc.transform(x)\n",
    "val_sc = sc.transform(validation)"
   ]
  },
  {
   "cell_type": "markdown",
   "id": "danish-matthew",
   "metadata": {},
   "source": [
    "### 데이터 분할"
   ]
  },
  {
   "cell_type": "code",
   "execution_count": 10,
   "id": "returning-trail",
   "metadata": {},
   "outputs": [],
   "source": [
    "X_train, X_test, y_train, y_test = train_test_split(x_sc, y, test_size=0.3, random_state=60, stratify=y)"
   ]
  },
  {
   "cell_type": "markdown",
   "id": "prescription-principal",
   "metadata": {},
   "source": [
    "### 모델학습"
   ]
  },
  {
   "cell_type": "code",
   "execution_count": 15,
   "id": "specialized-parade",
   "metadata": {},
   "outputs": [
    {
     "data": {
      "text/plain": [
       "0.6311759590298579"
      ]
     },
     "execution_count": 15,
     "metadata": {},
     "output_type": "execute_result"
    }
   ],
   "source": [
    "lr = LogisticRegression().fit(X_train, y_train)\n",
    "probs_lr = lr.predict_proba(X_test)[:,1]\n",
    "roc_auc_score(y_test, probs_lr)"
   ]
  },
  {
   "cell_type": "markdown",
   "id": "outdoor-stranger",
   "metadata": {},
   "source": [
    "### 검증"
   ]
  },
  {
   "cell_type": "code",
   "execution_count": 20,
   "id": "divided-furniture",
   "metadata": {},
   "outputs": [],
   "source": [
    "result = pd.concat([validation['cust_id'], pd.DataFrame(lr.predict_proba(val_sc)[:, 1])], axis=1)\n",
    "result.columns = ['cust_id','gener']"
   ]
  },
  {
   "cell_type": "code",
   "execution_count": 21,
   "id": "international-casting",
   "metadata": {},
   "outputs": [],
   "source": [
    "result.to_csv('20211026.csv', index = False)"
   ]
  },
  {
   "cell_type": "code",
   "execution_count": null,
   "id": "painful-sampling",
   "metadata": {},
   "outputs": [],
   "source": []
  }
 ],
 "metadata": {
  "kernelspec": {
   "display_name": "Enjoy Data Science",
   "language": "python",
   "name": "enjoy-data-science"
  },
  "language_info": {
   "codemirror_mode": {
    "name": "ipython",
    "version": 3
   },
   "file_extension": ".py",
   "mimetype": "text/x-python",
   "name": "python",
   "nbconvert_exporter": "python",
   "pygments_lexer": "ipython3",
   "version": "3.8.5"
  }
 },
 "nbformat": 4,
 "nbformat_minor": 5
}
