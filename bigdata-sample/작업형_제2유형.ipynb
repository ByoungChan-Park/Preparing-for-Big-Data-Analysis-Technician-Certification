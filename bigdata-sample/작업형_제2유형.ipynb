{
 "cells": [
  {
   "cell_type": "code",
   "execution_count": 1,
   "id": "danish-string",
   "metadata": {},
   "outputs": [],
   "source": [
    "import pandas as pd\n",
    "import numpy as np\n",
    "\n",
    "from sklearn.model_selection import train_test_split\n",
    "from sklearn.metrics import roc_auc_score, roc_curve, f1_score\n",
    "from sklearn.linear_model import LogisticRegression\n",
    "from sklearn.tree import DecisionTreeClassifier\n",
    "from sklearn.ensemble import RandomForestClassifier, AdaBoostClassifier\n",
    "from sklearn.preprocessing import StandardScaler, LabelEncoder\n",
    "from xgboost import XGBClassifier"
   ]
  },
  {
   "cell_type": "markdown",
   "id": "human-green",
   "metadata": {},
   "source": [
    "### 데이터 불러오기"
   ]
  },
  {
   "cell_type": "code",
   "execution_count": 2,
   "id": "convenient-promise",
   "metadata": {},
   "outputs": [],
   "source": [
    "x = pd.read_csv('./data/X_train.csv', encoding='euc-kr')\n",
    "y = pd.read_csv('./data/y_train.csv', encoding='euc-kr')\n",
    "validation = pd.read_csv('./data/X_test.csv', encoding='euc-kr')"
   ]
  },
  {
   "cell_type": "code",
   "execution_count": 3,
   "id": "compressed-elements",
   "metadata": {},
   "outputs": [],
   "source": [
    "#X_train.info()"
   ]
  },
  {
   "cell_type": "markdown",
   "id": "funded-cement",
   "metadata": {},
   "source": [
    "### 결측치 처리"
   ]
  },
  {
   "cell_type": "code",
   "execution_count": 4,
   "id": "ancient-confidentiality",
   "metadata": {},
   "outputs": [],
   "source": [
    "# x.isnull().sum()"
   ]
  },
  {
   "cell_type": "code",
   "execution_count": 5,
   "id": "ambient-modeling",
   "metadata": {},
   "outputs": [],
   "source": [
    "x['환불금액'] = x['환불금액'].fillna(0)\n",
    "validation['환불금액'] = validation['환불금액'].fillna(0)\n",
    "x = x.drop('cust_id', axis=1)\n",
    "validation_id = validation['cust_id']\n",
    "validation = validation.drop('cust_id', axis=1)\n",
    "y = y['gender']"
   ]
  },
  {
   "cell_type": "markdown",
   "id": "comfortable-nickname",
   "metadata": {},
   "source": [
    "### 명목형 데이터 수정"
   ]
  },
  {
   "cell_type": "code",
   "execution_count": 6,
   "id": "reduced-velvet",
   "metadata": {},
   "outputs": [],
   "source": [
    "x[['주구매상품','주구매지점']] = x[['주구매상품','주구매지점']].apply(LabelEncoder().fit_transform)\n",
    "validation[['주구매상품','주구매지점']] = validation[['주구매상품','주구매지점']].apply(LabelEncoder().fit_transform)"
   ]
  },
  {
   "cell_type": "markdown",
   "id": "beginning-might",
   "metadata": {},
   "source": [
    "### 정규화"
   ]
  },
  {
   "cell_type": "code",
   "execution_count": 7,
   "id": "stylish-creativity",
   "metadata": {},
   "outputs": [],
   "source": [
    "sc = StandardScaler()\n",
    "x_sc = sc.fit_transform(x)\n",
    "val_sc = sc.fit_transform(validation)"
   ]
  },
  {
   "cell_type": "markdown",
   "id": "stupid-nebraska",
   "metadata": {},
   "source": [
    "### 데이터 분할"
   ]
  },
  {
   "cell_type": "code",
   "execution_count": null,
   "id": "heavy-graduation",
   "metadata": {},
   "outputs": [],
   "source": [
    "X_train, X_test, y_train, y_test = train_test_split(x_sc, y, test_size=0.3, random_state=60, stratify=y)"
   ]
  },
  {
   "cell_type": "markdown",
   "id": "mounted-worth",
   "metadata": {},
   "source": [
    "### 모델학습"
   ]
  },
  {
   "cell_type": "code",
   "execution_count": null,
   "id": "interpreted-foster",
   "metadata": {},
   "outputs": [],
   "source": [
    "lr = LogisticRegression().fit(X_train, y_train)"
   ]
  },
  {
   "cell_type": "markdown",
   "id": "delayed-atlanta",
   "metadata": {},
   "source": [
    "### 검증"
   ]
  },
  {
   "cell_type": "code",
   "execution_count": null,
   "id": "stunning-sweet",
   "metadata": {},
   "outputs": [],
   "source": [
    "probs_lr = lr.predict_proba(X_test)[:,1]\n",
    "roc_auc_score(y_test, probs_lr)"
   ]
  },
  {
   "cell_type": "markdown",
   "id": "naughty-sentence",
   "metadata": {},
   "source": [
    "### 결과 저장"
   ]
  },
  {
   "cell_type": "code",
   "execution_count": null,
   "id": "august-acting",
   "metadata": {},
   "outputs": [],
   "source": [
    "result = pd.concat([validation_id, pd.DataFrame(lr.predict_proba(val_sc)[:, 1])], axis=1)\n",
    "result.columns = ['cust_id','gener']"
   ]
  },
  {
   "cell_type": "code",
   "execution_count": null,
   "id": "above-demographic",
   "metadata": {},
   "outputs": [],
   "source": [
    "result.head(5)"
   ]
  },
  {
   "cell_type": "code",
   "execution_count": null,
   "id": "adjacent-bridges",
   "metadata": {},
   "outputs": [],
   "source": [
    "result.to_csv('20211026.csv', index = False)"
   ]
  },
  {
   "cell_type": "code",
   "execution_count": null,
   "id": "rapid-australia",
   "metadata": {},
   "outputs": [],
   "source": []
  }
 ],
 "metadata": {
  "kernelspec": {
   "display_name": "Enjoy Data Science",
   "language": "python",
   "name": "enjoy-data-science"
  },
  "language_info": {
   "codemirror_mode": {
    "name": "ipython",
    "version": 3
   },
   "file_extension": ".py",
   "mimetype": "text/x-python",
   "name": "python",
   "nbconvert_exporter": "python",
   "pygments_lexer": "ipython3",
   "version": "3.8.10"
  }
 },
 "nbformat": 4,
 "nbformat_minor": 5
}
