{
 "cells": [
  {
   "cell_type": "code",
   "execution_count": 1,
   "id": "organizational-manchester",
   "metadata": {},
   "outputs": [],
   "source": [
    "import pandas as pd\n",
    "import numpy as np\n",
    "\n",
    "from sklearn.model_selection import train_test_split\n",
    "from sklearn.metrics import roc_auc_score, roc_curve, f1_score\n",
    "from sklearn.linear_model import LogisticRegression\n",
    "from sklearn.tree import DecisionTreeClassifier\n",
    "from sklearn.ensemble import RandomForestClassifier, AdaBoostClassifier\n",
    "from sklearn.preprocessing import StandardScaler, LabelEncoder\n",
    "from xgboost import XGBClassifier"
   ]
  },
  {
   "cell_type": "markdown",
   "id": "straight-satin",
   "metadata": {},
   "source": [
    "### 데이터 불러오기"
   ]
  },
  {
   "cell_type": "code",
   "execution_count": 2,
   "id": "quality-gravity",
   "metadata": {},
   "outputs": [],
   "source": [
    "x = pd.read_csv('./data/X_train.csv', encoding='euc-kr')\n",
    "y = pd.read_csv('./data/y_train.csv', encoding='euc-kr')\n",
    "validation = pd.read_csv('./data/X_test.csv', encoding='euc-kr')"
   ]
  },
  {
   "cell_type": "code",
   "execution_count": 3,
   "id": "facial-rebate",
   "metadata": {},
   "outputs": [],
   "source": [
    "#X_train.info()"
   ]
  },
  {
   "cell_type": "markdown",
   "id": "wrapped-brighton",
   "metadata": {},
   "source": [
    "### 결측치 처리"
   ]
  },
  {
   "cell_type": "code",
   "execution_count": 4,
   "id": "satellite-florist",
   "metadata": {},
   "outputs": [],
   "source": [
    "# x.isnull().sum()"
   ]
  },
  {
   "cell_type": "code",
   "execution_count": 5,
   "id": "academic-execution",
   "metadata": {},
   "outputs": [],
   "source": [
    "x['환불금액'] = x['환불금액'].fillna(0)\n",
    "validation['환불금액'] = validation['환불금액'].fillna(0)\n",
    "x = x.drop('cust_id', axis=1)\n",
    "validation_id = validation['cust_id']\n",
    "validation = validation.drop('cust_id', axis=1)\n",
    "y = y['gender']"
   ]
  },
  {
   "cell_type": "markdown",
   "id": "double-renewal",
   "metadata": {},
   "source": [
    "### 명목형 데이터 수정"
   ]
  },
  {
   "cell_type": "code",
   "execution_count": 6,
   "id": "aerial-future",
   "metadata": {},
   "outputs": [],
   "source": [
    "x[['주구매상품','주구매지점']] = x[['주구매상품','주구매지점']].apply(LabelEncoder().fit_transform)\n",
    "validation[['주구매상품','주구매지점']] = validation[['주구매상품','주구매지점']].apply(LabelEncoder().fit_transform)"
   ]
  },
  {
   "cell_type": "markdown",
   "id": "french-picnic",
   "metadata": {},
   "source": [
    "### 정규화"
   ]
  },
  {
   "cell_type": "code",
   "execution_count": 7,
   "id": "further-riding",
   "metadata": {},
   "outputs": [],
   "source": [
    "sc = StandardScaler()\n",
    "x_sc = sc.fit_transform(x)\n",
    "val_sc = sc.fit_transform(validation)"
   ]
  },
  {
   "cell_type": "markdown",
   "id": "laughing-chain",
   "metadata": {},
   "source": [
    "### 데이터 분할"
   ]
  },
  {
   "cell_type": "code",
   "execution_count": 8,
   "id": "necessary-burke",
   "metadata": {},
   "outputs": [],
   "source": [
    "X_train, X_test, y_train, y_test = train_test_split(x_sc, y, test_size=0.3, random_state=60, stratify=y)"
   ]
  },
  {
   "cell_type": "markdown",
   "id": "entitled-backing",
   "metadata": {},
   "source": [
    "### 모델학습"
   ]
  },
  {
   "cell_type": "code",
   "execution_count": 9,
   "id": "exact-engineering",
   "metadata": {},
   "outputs": [],
   "source": [
    "lr = LogisticRegression().fit(X_train, y_train)"
   ]
  },
  {
   "cell_type": "markdown",
   "id": "dated-portfolio",
   "metadata": {},
   "source": [
    "### 검증"
   ]
  },
  {
   "cell_type": "code",
   "execution_count": 10,
   "id": "dimensional-management",
   "metadata": {},
   "outputs": [
    {
     "data": {
      "text/plain": [
       "0.6311759590298579"
      ]
     },
     "execution_count": 10,
     "metadata": {},
     "output_type": "execute_result"
    }
   ],
   "source": [
    "probs_lr = lr.predict_proba(X_test)[:,1]\n",
    "roc_auc_score(y_test, probs_lr)"
   ]
  },
  {
   "cell_type": "markdown",
   "id": "labeled-highland",
   "metadata": {},
   "source": [
    "### 결과 저장"
   ]
  },
  {
   "cell_type": "code",
   "execution_count": 11,
   "id": "protecting-substitute",
   "metadata": {},
   "outputs": [],
   "source": [
    "result = pd.concat([validation_id, pd.DataFrame(lr.predict_proba(val_sc)[:, 1])], axis=1)\n",
    "result.columns = ['cust_id','gener']"
   ]
  },
  {
   "cell_type": "code",
   "execution_count": 12,
   "id": "intimate-official",
   "metadata": {},
   "outputs": [
    {
     "data": {
      "text/html": [
       "<div>\n",
       "<style scoped>\n",
       "    .dataframe tbody tr th:only-of-type {\n",
       "        vertical-align: middle;\n",
       "    }\n",
       "\n",
       "    .dataframe tbody tr th {\n",
       "        vertical-align: top;\n",
       "    }\n",
       "\n",
       "    .dataframe thead th {\n",
       "        text-align: right;\n",
       "    }\n",
       "</style>\n",
       "<table border=\"1\" class=\"dataframe\">\n",
       "  <thead>\n",
       "    <tr style=\"text-align: right;\">\n",
       "      <th></th>\n",
       "      <th>cust_id</th>\n",
       "      <th>gener</th>\n",
       "    </tr>\n",
       "  </thead>\n",
       "  <tbody>\n",
       "    <tr>\n",
       "      <th>0</th>\n",
       "      <td>3500</td>\n",
       "      <td>0.499603</td>\n",
       "    </tr>\n",
       "    <tr>\n",
       "      <th>1</th>\n",
       "      <td>3501</td>\n",
       "      <td>0.164047</td>\n",
       "    </tr>\n",
       "    <tr>\n",
       "      <th>2</th>\n",
       "      <td>3502</td>\n",
       "      <td>0.118909</td>\n",
       "    </tr>\n",
       "    <tr>\n",
       "      <th>3</th>\n",
       "      <td>3503</td>\n",
       "      <td>0.351902</td>\n",
       "    </tr>\n",
       "    <tr>\n",
       "      <th>4</th>\n",
       "      <td>3504</td>\n",
       "      <td>0.405498</td>\n",
       "    </tr>\n",
       "  </tbody>\n",
       "</table>\n",
       "</div>"
      ],
      "text/plain": [
       "   cust_id     gener\n",
       "0     3500  0.499603\n",
       "1     3501  0.164047\n",
       "2     3502  0.118909\n",
       "3     3503  0.351902\n",
       "4     3504  0.405498"
      ]
     },
     "execution_count": 12,
     "metadata": {},
     "output_type": "execute_result"
    }
   ],
   "source": [
    "result.head(5)"
   ]
  },
  {
   "cell_type": "code",
   "execution_count": 13,
   "id": "technical-austria",
   "metadata": {},
   "outputs": [],
   "source": [
    "result.to_csv('20211026.csv', index = False)"
   ]
  },
  {
   "cell_type": "code",
   "execution_count": null,
   "id": "medical-mountain",
   "metadata": {},
   "outputs": [],
   "source": []
  }
 ],
 "metadata": {
  "kernelspec": {
   "display_name": "Enjoy Data Science",
   "language": "python",
   "name": "enjoy-data-science"
  },
  "language_info": {
   "codemirror_mode": {
    "name": "ipython",
    "version": 3
   },
   "file_extension": ".py",
   "mimetype": "text/x-python",
   "name": "python",
   "nbconvert_exporter": "python",
   "pygments_lexer": "ipython3",
   "version": "3.8.5"
  }
 },
 "nbformat": 4,
 "nbformat_minor": 5
}
