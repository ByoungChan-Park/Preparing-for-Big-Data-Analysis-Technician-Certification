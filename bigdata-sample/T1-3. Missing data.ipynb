{
 "cells": [
  {
   "cell_type": "code",
   "execution_count": 1,
   "id": "pointed-renaissance",
   "metadata": {},
   "outputs": [],
   "source": [
    "import numpy as np\n",
    "import pandas as pd"
   ]
  },
  {
   "cell_type": "code",
   "execution_count": 2,
   "id": "exclusive-enemy",
   "metadata": {},
   "outputs": [],
   "source": [
    "df = pd.read_csv('./data/basic1.csv')"
   ]
  },
  {
   "cell_type": "code",
   "execution_count": 4,
   "id": "alive-serve",
   "metadata": {},
   "outputs": [],
   "source": [
    "null_ratio_ge = (df.isnull().sum() / df.shape[0]) >= 0.8"
   ]
  },
  {
   "cell_type": "code",
   "execution_count": 5,
   "id": "fatty-ambassador",
   "metadata": {},
   "outputs": [],
   "source": [
    "drop_columns = list(filter(lambda s: null_ratio_ge[s], null_ratio_ge.index))\n",
    "fill_columns = list(filter(lambda s: null_ratio_ge[s] == False, null_ratio_ge.index))"
   ]
  },
  {
   "cell_type": "code",
   "execution_count": 6,
   "id": "infectious-vault",
   "metadata": {},
   "outputs": [
    {
     "data": {
      "text/plain": [
       "(['f3'], ['id', 'age', 'city', 'f1', 'f2', 'f4', 'f5'])"
      ]
     },
     "execution_count": 6,
     "metadata": {},
     "output_type": "execute_result"
    }
   ],
   "source": [
    "drop_columns, fill_columns"
   ]
  },
  {
   "cell_type": "code",
   "execution_count": 7,
   "id": "ordered-twins",
   "metadata": {},
   "outputs": [],
   "source": [
    "df1 = df.drop(columns = drop_columns, axis=1)"
   ]
  },
  {
   "cell_type": "code",
   "execution_count": 8,
   "id": "hidden-singing",
   "metadata": {},
   "outputs": [],
   "source": [
    "series_city_median = df1.dropna().groupby('city')['f1'].median()"
   ]
  },
  {
   "cell_type": "code",
   "execution_count": 9,
   "id": "sized-butterfly",
   "metadata": {},
   "outputs": [],
   "source": [
    "df1.loc[df['id'].isnull(),'id'] = df.loc[df['id'].isnull(), 'city'].map(series_city_median)\n",
    "df1.loc[df['f1'].isnull(),'f1'] = df.loc[df['f1'].isnull(), 'city'].map(series_city_median)"
   ]
  },
  {
   "cell_type": "code",
   "execution_count": 10,
   "id": "attractive-filename",
   "metadata": {},
   "outputs": [
    {
     "data": {
      "text/plain": [
       "65.52"
      ]
     },
     "execution_count": 10,
     "metadata": {},
     "output_type": "execute_result"
    }
   ],
   "source": [
    "df1['f1'].mean()"
   ]
  },
  {
   "cell_type": "code",
   "execution_count": null,
   "id": "applied-retirement",
   "metadata": {},
   "outputs": [],
   "source": []
  }
 ],
 "metadata": {
  "kernelspec": {
   "display_name": "Enjoy Data Science",
   "language": "python",
   "name": "enjoy-data-science"
  },
  "language_info": {
   "codemirror_mode": {
    "name": "ipython",
    "version": 3
   },
   "file_extension": ".py",
   "mimetype": "text/x-python",
   "name": "python",
   "nbconvert_exporter": "python",
   "pygments_lexer": "ipython3",
   "version": "3.8.5"
  }
 },
 "nbformat": 4,
 "nbformat_minor": 5
}
