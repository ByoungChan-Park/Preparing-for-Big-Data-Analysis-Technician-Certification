{
 "cells": [
  {
   "cell_type": "code",
   "execution_count": 1,
   "id": "embedded-damages",
   "metadata": {},
   "outputs": [],
   "source": [
    "import numpy as np\n",
    "import scipy as sp\n",
    "import pandas as pd"
   ]
  },
  {
   "cell_type": "code",
   "execution_count": 2,
   "id": "violent-demand",
   "metadata": {},
   "outputs": [],
   "source": [
    "df = pd.read_csv('./data/titanic.csv')"
   ]
  },
  {
   "cell_type": "code",
   "execution_count": 3,
   "id": "listed-lighting",
   "metadata": {},
   "outputs": [],
   "source": [
    "min = df['Fare'].quantile(.25) - (np.percentile(df['Fare'], 75) - np.percentile(df['Fare'], 25)) * 1.5\n",
    "max = df['Fare'].quantile(.75) + (np.percentile(df['Fare'], 75) - np.percentile(df['Fare'], 25)) * 1.5\n",
    "\n",
    "df_max = df.loc[df['Fare'] > max, :]\n",
    "df_min = df.loc[df['Fare'] < min, :]"
   ]
  },
  {
   "cell_type": "code",
   "execution_count": 4,
   "id": "fundamental-college",
   "metadata": {},
   "outputs": [
    {
     "data": {
      "text/plain": [
       "(70, 0)"
      ]
     },
     "execution_count": 4,
     "metadata": {},
     "output_type": "execute_result"
    }
   ],
   "source": [
    "len(df_max[df_max['Sex'] == 'female']), len(df_min[df_min['Sex'] == 'female'])"
   ]
  }
 ],
 "metadata": {
  "kernelspec": {
   "display_name": "Enjoy Data Science",
   "language": "python",
   "name": "enjoy-data-science"
  },
  "language_info": {
   "codemirror_mode": {
    "name": "ipython",
    "version": 3
   },
   "file_extension": ".py",
   "mimetype": "text/x-python",
   "name": "python",
   "nbconvert_exporter": "python",
   "pygments_lexer": "ipython3",
   "version": "3.8.5"
  }
 },
 "nbformat": 4,
 "nbformat_minor": 5
}
