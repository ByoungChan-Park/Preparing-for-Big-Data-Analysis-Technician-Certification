{
 "cells": [
  {
   "cell_type": "code",
   "execution_count": 1,
   "id": "hungry-treasurer",
   "metadata": {},
   "outputs": [],
   "source": [
    "import pandas as pd\n",
    "\n",
    "from sklearn.model_selection import train_test_split\n",
    "from sklearn.preprocessing import StandardScaler\n",
    "from sklearn.preprocessing import LabelEncoder\n",
    "\n",
    "from sklearn.tree import DecisionTreeClassifier\n",
    "from sklearn.ensemble import RandomForestClassifier\n",
    "from sklearn.ensemble import GradientBoostingClassifier\n",
    "from sklearn.linear_model import LogisticRegression\n",
    "from sklearn.svm import SVC\n",
    "from sklearn.neighbors import KNeighborsClassifier\n",
    "\n",
    "from xgboost import XGBClassifier"
   ]
  },
  {
   "cell_type": "code",
   "execution_count": 2,
   "id": "about-industry",
   "metadata": {
    "collapsed": true,
    "jupyter": {
     "outputs_hidden": true
    }
   },
   "outputs": [
    {
     "data": {
      "text/plain": [
       "['AdaBoostClassifier',\n",
       " 'AdaBoostRegressor',\n",
       " 'BaggingClassifier',\n",
       " 'BaggingRegressor',\n",
       " 'BaseEnsemble',\n",
       " 'ExtraTreesClassifier',\n",
       " 'ExtraTreesRegressor',\n",
       " 'GradientBoostingClassifier',\n",
       " 'GradientBoostingRegressor',\n",
       " 'IsolationForest',\n",
       " 'RandomForestClassifier',\n",
       " 'RandomForestRegressor',\n",
       " 'RandomTreesEmbedding',\n",
       " 'StackingClassifier',\n",
       " 'StackingRegressor',\n",
       " 'VotingClassifier',\n",
       " 'VotingRegressor',\n",
       " '__all__',\n",
       " '__builtins__',\n",
       " '__cached__',\n",
       " '__doc__',\n",
       " '__file__',\n",
       " '__loader__',\n",
       " '__name__',\n",
       " '__package__',\n",
       " '__path__',\n",
       " '__spec__',\n",
       " '_bagging',\n",
       " '_base',\n",
       " '_forest',\n",
       " '_gb',\n",
       " '_gb_losses',\n",
       " '_gradient_boosting',\n",
       " '_iforest',\n",
       " '_stacking',\n",
       " '_voting',\n",
       " '_weight_boosting',\n",
       " 'typing']"
      ]
     },
     "execution_count": 2,
     "metadata": {},
     "output_type": "execute_result"
    }
   ],
   "source": [
    "# import sklearn.ensemble\n",
    "# dir(sklearn.ensemble)"
   ]
  },
  {
   "cell_type": "code",
   "execution_count": 3,
   "id": "personal-poultry",
   "metadata": {},
   "outputs": [],
   "source": [
    "df = pd.read_csv('./data/commerce/Train.csv')"
   ]
  },
  {
   "cell_type": "code",
   "execution_count": 4,
   "id": "marine-planet",
   "metadata": {},
   "outputs": [],
   "source": [
    "X_train, X_test = train_test_split(df, test_size=0.2, random_state=2021)"
   ]
  },
  {
   "cell_type": "code",
   "execution_count": 5,
   "id": "victorian-senate",
   "metadata": {},
   "outputs": [],
   "source": [
    "y_train = X_train[['ID','Reached.on.Time_Y.N']]\n",
    "X_train = X_train.drop(columns=['ID', 'Reached.on.Time_Y.N'])\n",
    "\n",
    "y_test = X_test[['ID','Reached.on.Time_Y.N']]\n",
    "X_test = X_test.drop(columns=['ID', 'Reached.on.Time_Y.N'])"
   ]
  },
  {
   "cell_type": "code",
   "execution_count": 6,
   "id": "green-documentation",
   "metadata": {},
   "outputs": [],
   "source": [
    "label = LabelEncoder()\n",
    "\n",
    "X_train.loc[:, 'Warehouse_block'] = label.fit_transform(X_train['Warehouse_block'])\n",
    "X_train.loc[:, 'Mode_of_Shipment'] = label.fit_transform(X_train['Mode_of_Shipment'])\n",
    "X_train.loc[:, 'Product_importance'] = label.fit_transform(X_train['Product_importance'])\n",
    "X_train.loc[:, 'Gender'] = label.fit_transform(X_train['Gender'])\n",
    "\n",
    "X_test.loc[:, 'Warehouse_block'] = label.fit_transform(X_test['Warehouse_block'])\n",
    "X_test.loc[:, 'Mode_of_Shipment'] = label.fit_transform(X_test['Mode_of_Shipment'])\n",
    "X_test.loc[:, 'Product_importance'] = label.fit_transform(X_test['Product_importance'])\n",
    "X_test.loc[:, 'Gender'] = label.fit_transform(X_test['Gender'])"
   ]
  },
  {
   "cell_type": "code",
   "execution_count": 7,
   "id": "lined-retreat",
   "metadata": {},
   "outputs": [],
   "source": [
    "X_train = X_train.drop(columns=['Warehouse_block','Mode_of_Shipment', 'Product_importance', 'Gender'])\n",
    "X_test = X_test.drop(columns=['Warehouse_block','Mode_of_Shipment', 'Product_importance', 'Gender'])"
   ]
  },
  {
   "cell_type": "code",
   "execution_count": 8,
   "id": "julian-marking",
   "metadata": {},
   "outputs": [],
   "source": [
    "scaler = StandardScaler()\n",
    "X_train_scale = scaler.fit_transform(X_train)\n",
    "X_test_scale = scaler.fit_transform(X_test)"
   ]
  },
  {
   "cell_type": "code",
   "execution_count": 9,
   "id": "valuable-purse",
   "metadata": {},
   "outputs": [],
   "source": [
    "X_tr, X_val, y_tr, y_val = train_test_split(X_train_scale, y_train['Reached.on.Time_Y.N'], test_size=0.2, random_state=2021)"
   ]
  },
  {
   "cell_type": "code",
   "execution_count": 10,
   "id": "considered-queue",
   "metadata": {},
   "outputs": [
    {
     "data": {
      "text/plain": [
       "0.6727272727272727"
      ]
     },
     "execution_count": 10,
     "metadata": {},
     "output_type": "execute_result"
    }
   ],
   "source": [
    "rfc = RandomForestClassifier(n_estimators=200, max_depth=10)\n",
    "rfc.fit(X_tr, y_tr)\n",
    "rfc.score(X_val, y_val)"
   ]
  },
  {
   "cell_type": "code",
   "execution_count": 11,
   "id": "piano-somerset",
   "metadata": {},
   "outputs": [
    {
     "data": {
      "text/plain": [
       "0.66875"
      ]
     },
     "execution_count": 11,
     "metadata": {},
     "output_type": "execute_result"
    }
   ],
   "source": [
    "gbc = GradientBoostingClassifier(n_estimators=200, max_depth=10)\n",
    "rfc.fit(X_tr, y_tr)\n",
    "rfc.score(X_val, y_val)"
   ]
  },
  {
   "cell_type": "code",
   "execution_count": 12,
   "id": "absent-shame",
   "metadata": {},
   "outputs": [
    {
     "data": {
      "text/plain": [
       "0.6488636363636363"
      ]
     },
     "execution_count": 12,
     "metadata": {},
     "output_type": "execute_result"
    }
   ],
   "source": [
    "dtc = DecisionTreeClassifier()\n",
    "dtc.fit(X_tr, y_tr)\n",
    "dtc.score(X_val, y_val)"
   ]
  },
  {
   "cell_type": "code",
   "execution_count": 13,
   "id": "corresponding-discrimination",
   "metadata": {},
   "outputs": [
    {
     "data": {
      "text/plain": [
       "0.6744318181818182"
      ]
     },
     "execution_count": 13,
     "metadata": {},
     "output_type": "execute_result"
    }
   ],
   "source": [
    "svc = SVC()\n",
    "svc.fit(X_tr, y_tr)\n",
    "svc.score(X_val, y_val)"
   ]
  },
  {
   "cell_type": "code",
   "execution_count": 14,
   "id": "occupied-bubble",
   "metadata": {},
   "outputs": [
    {
     "data": {
      "text/plain": [
       "0.6409090909090909"
      ]
     },
     "execution_count": 14,
     "metadata": {},
     "output_type": "execute_result"
    }
   ],
   "source": [
    "lr = LogisticRegression()\n",
    "lr.fit(X_tr, y_tr)\n",
    "lr.score(X_val, y_val)"
   ]
  },
  {
   "cell_type": "code",
   "execution_count": 15,
   "id": "physical-breakdown",
   "metadata": {},
   "outputs": [
    {
     "data": {
      "text/plain": [
       "0.6403409090909091"
      ]
     },
     "execution_count": 15,
     "metadata": {},
     "output_type": "execute_result"
    }
   ],
   "source": [
    "knc = KNeighborsClassifier()\n",
    "knc.fit(X_tr, y_tr)\n",
    "knc.score(X_val, y_val)"
   ]
  },
  {
   "cell_type": "code",
   "execution_count": 20,
   "id": "indirect-compound",
   "metadata": {},
   "outputs": [],
   "source": [
    "pred = rfc.predict(X_test)"
   ]
  },
  {
   "cell_type": "code",
   "execution_count": 21,
   "id": "international-senegal",
   "metadata": {},
   "outputs": [],
   "source": [
    "submission = pd.DataFrame({'ID': y_test['ID'] ,'Reached.on.Time_Y.N': pred})"
   ]
  },
  {
   "cell_type": "code",
   "execution_count": 22,
   "id": "lesser-offering",
   "metadata": {},
   "outputs": [],
   "source": [
    "submission.to_csv('123456789.csv', index=False)"
   ]
  },
  {
   "cell_type": "code",
   "execution_count": 23,
   "id": "color-cutting",
   "metadata": {},
   "outputs": [
    {
     "data": {
      "text/plain": [
       "0.65"
      ]
     },
     "execution_count": 23,
     "metadata": {},
     "output_type": "execute_result"
    }
   ],
   "source": [
    "rfc.score(X_test_scale, y_test['Reached.on.Time_Y.N'])"
   ]
  },
  {
   "cell_type": "code",
   "execution_count": null,
   "id": "auburn-listening",
   "metadata": {},
   "outputs": [],
   "source": []
  }
 ],
 "metadata": {
  "kernelspec": {
   "display_name": "Enjoy Data Science",
   "language": "python",
   "name": "enjoy-data-science"
  },
  "language_info": {
   "codemirror_mode": {
    "name": "ipython",
    "version": 3
   },
   "file_extension": ".py",
   "mimetype": "text/x-python",
   "name": "python",
   "nbconvert_exporter": "python",
   "pygments_lexer": "ipython3",
   "version": "3.8.5"
  }
 },
 "nbformat": 4,
 "nbformat_minor": 5
}
