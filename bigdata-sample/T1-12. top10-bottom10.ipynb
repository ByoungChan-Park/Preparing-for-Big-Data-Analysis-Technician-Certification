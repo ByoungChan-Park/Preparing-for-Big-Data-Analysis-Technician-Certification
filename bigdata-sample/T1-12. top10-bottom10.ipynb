{
 "cells": [
  {
   "cell_type": "code",
   "execution_count": 1,
   "id": "former-distributor",
   "metadata": {},
   "outputs": [],
   "source": [
    "import pandas as pd"
   ]
  },
  {
   "cell_type": "code",
   "execution_count": 2,
   "id": "juvenile-constraint",
   "metadata": {},
   "outputs": [],
   "source": [
    "df = pd.read_csv('./data/covid_vaccination_vs_death_ratio.csv')"
   ]
  },
  {
   "cell_type": "code",
   "execution_count": 3,
   "id": "three-inspection",
   "metadata": {},
   "outputs": [
    {
     "data": {
      "text/plain": [
       "84.2"
      ]
     },
     "execution_count": 3,
     "metadata": {},
     "output_type": "execute_result"
    }
   ],
   "source": [
    "df2 = df.groupby('country').max()\n",
    "df3 = df2.loc[df2['ratio'] <= 100]\n",
    "df4 = df3.sort_values(by='ratio', ascending=False)\n",
    "df4.head(10)['ratio'].mean(), df4.tail(10)['ratio'].mean()\n",
    "round(df4.head(10)['ratio'].mean() - df4.tail(10)['ratio'].mean(),1)"
   ]
  },
  {
   "cell_type": "code",
   "execution_count": null,
   "id": "automotive-christopher",
   "metadata": {},
   "outputs": [],
   "source": []
  }
 ],
 "metadata": {
  "kernelspec": {
   "display_name": "Enjoy Data Science",
   "language": "python",
   "name": "enjoy-data-science"
  },
  "language_info": {
   "codemirror_mode": {
    "name": "ipython",
    "version": 3
   },
   "file_extension": ".py",
   "mimetype": "text/x-python",
   "name": "python",
   "nbconvert_exporter": "python",
   "pygments_lexer": "ipython3",
   "version": "3.8.5"
  }
 },
 "nbformat": 4,
 "nbformat_minor": 5
}
