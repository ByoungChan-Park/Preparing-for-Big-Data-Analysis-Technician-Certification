{
 "cells": [
  {
   "cell_type": "code",
   "execution_count": 1,
   "id": "israeli-child",
   "metadata": {},
   "outputs": [],
   "source": [
    "import numpy as np\n",
    "import scipy as sp\n",
    "import pandas as pd"
   ]
  },
  {
   "cell_type": "code",
   "execution_count": 2,
   "id": "distant-obligation",
   "metadata": {},
   "outputs": [],
   "source": [
    "df = pd.read_csv(\"./data/basic1.csv\")\n",
    "df2 = df[df['age'] - np.floor(df['age']) > 0]"
   ]
  },
  {
   "cell_type": "code",
   "execution_count": 3,
   "id": "unauthorized-chassis",
   "metadata": {},
   "outputs": [],
   "source": [
    "ceil = np.ceil(df2['age'])\n",
    "floor = np.floor(df2['age'])\n",
    "trunc = np.trunc(df2['age'])"
   ]
  },
  {
   "cell_type": "code",
   "execution_count": 4,
   "id": "herbal-herald",
   "metadata": {},
   "outputs": [
    {
     "data": {
      "text/plain": [
       "69.5"
      ]
     },
     "execution_count": 4,
     "metadata": {},
     "output_type": "execute_result"
    }
   ],
   "source": [
    "ceil.mean() + floor.mean() + trunc.mean()"
   ]
  },
  {
   "cell_type": "code",
   "execution_count": null,
   "id": "subtle-equipment",
   "metadata": {},
   "outputs": [],
   "source": []
  }
 ],
 "metadata": {
  "kernelspec": {
   "display_name": "Enjoy Data Science",
   "language": "python",
   "name": "enjoy-data-science"
  },
  "language_info": {
   "codemirror_mode": {
    "name": "ipython",
    "version": 3
   },
   "file_extension": ".py",
   "mimetype": "text/x-python",
   "name": "python",
   "nbconvert_exporter": "python",
   "pygments_lexer": "ipython3",
   "version": "3.8.5"
  }
 },
 "nbformat": 4,
 "nbformat_minor": 5
}
