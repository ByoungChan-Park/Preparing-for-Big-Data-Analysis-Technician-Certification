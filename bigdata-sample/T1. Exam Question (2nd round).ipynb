{
 "cells": [
  {
   "cell_type": "code",
   "execution_count": 1,
   "id": "looking-geography",
   "metadata": {},
   "outputs": [],
   "source": [
    "import numpy as np\n",
    "import pandas as pd"
   ]
  },
  {
   "cell_type": "code",
   "execution_count": 2,
   "id": "sublime-monitoring",
   "metadata": {},
   "outputs": [],
   "source": [
    "df = pd.read_csv('./data/basic1.csv')\n",
    "df1 = df.sort_values(by=['f5'], ascending=False)\n",
    "df1.iloc[:10, 7] = df1['f5'][:10].min()"
   ]
  },
  {
   "cell_type": "code",
   "execution_count": 3,
   "id": "forty-meditation",
   "metadata": {},
   "outputs": [
    {
     "data": {
      "text/plain": [
       "62.49774712521738"
      ]
     },
     "execution_count": 3,
     "metadata": {},
     "output_type": "execute_result"
    }
   ],
   "source": [
    "df2 = df1.loc[(df1['age'] >= 80), ['f5']]\n",
    "df2.mean()[0]"
   ]
  },
  {
   "cell_type": "code",
   "execution_count": 4,
   "id": "optional-roots",
   "metadata": {},
   "outputs": [
    {
     "data": {
      "text/plain": [
       "3.2965018033960725"
      ]
     },
     "execution_count": 4,
     "metadata": {},
     "output_type": "execute_result"
    }
   ],
   "source": [
    "index = int(len(df) * 0.7)\n",
    "df3 = df.iloc[:index,:]\n",
    "df4 = df3.fillna(df3['f1'].median())\n",
    "df3['f1'].std() - df4['f1'].std()"
   ]
  },
  {
   "cell_type": "code",
   "execution_count": 5,
   "id": "abstract-bride",
   "metadata": {},
   "outputs": [
    {
     "data": {
      "text/plain": [
       "473.5"
      ]
     },
     "execution_count": 5,
     "metadata": {},
     "output_type": "execute_result"
    }
   ],
   "source": [
    "high = df['age'].mean() + df['age'].std() * 1.5\n",
    "low = df['age'].mean() - df['age'].std() * 1.5\n",
    "df.loc[(df['age'] > high) | (df['age'] < low), 'age'].sum()"
   ]
  }
 ],
 "metadata": {
  "kernelspec": {
   "display_name": "Enjoy Data Science",
   "language": "python",
   "name": "enjoy-data-science"
  },
  "language_info": {
   "codemirror_mode": {
    "name": "ipython",
    "version": 3
   },
   "file_extension": ".py",
   "mimetype": "text/x-python",
   "name": "python",
   "nbconvert_exporter": "python",
   "pygments_lexer": "ipython3",
   "version": "3.8.5"
  }
 },
 "nbformat": 4,
 "nbformat_minor": 5
}
