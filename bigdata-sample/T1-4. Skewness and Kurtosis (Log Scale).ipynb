{
 "cells": [
  {
   "cell_type": "code",
   "execution_count": 1,
   "id": "patient-andrews",
   "metadata": {},
   "outputs": [],
   "source": [
    "import numpy as np\n",
    "import scipy as sp\n",
    "import pandas as pd"
   ]
  },
  {
   "cell_type": "code",
   "execution_count": 2,
   "id": "official-magnet",
   "metadata": {},
   "outputs": [],
   "source": [
    "df = pd.read_csv('./data/house-prices-advanced-regression-techniques/train.csv')"
   ]
  },
  {
   "cell_type": "code",
   "execution_count": 3,
   "id": "nominated-defensive",
   "metadata": {},
   "outputs": [],
   "source": [
    "sk1 = df['SalePrice'].skew()\n",
    "ku1 = df['SalePrice'].kurt()"
   ]
  },
  {
   "cell_type": "code",
   "execution_count": 4,
   "id": "potential-rough",
   "metadata": {},
   "outputs": [],
   "source": [
    "# df['SalePrice'] = np.log1p(df['SalePrice'])\n",
    "df['SalePrice_'] = df['SalePrice'].map(lambda x: np.log1p(x))"
   ]
  },
  {
   "cell_type": "code",
   "execution_count": 5,
   "id": "outdoor-conviction",
   "metadata": {},
   "outputs": [],
   "source": [
    "sk2 = df['SalePrice_'].skew()\n",
    "ku2 = df['SalePrice_'].kurt()"
   ]
  },
  {
   "cell_type": "code",
   "execution_count": 6,
   "id": "forced-conducting",
   "metadata": {},
   "outputs": [
    {
     "data": {
      "text/plain": [
       "9.35"
      ]
     },
     "execution_count": 6,
     "metadata": {},
     "output_type": "execute_result"
    }
   ],
   "source": [
    "round(sk1+ku1+sk2+ku2,2)"
   ]
  },
  {
   "cell_type": "code",
   "execution_count": null,
   "id": "moving-headquarters",
   "metadata": {},
   "outputs": [],
   "source": []
  }
 ],
 "metadata": {
  "kernelspec": {
   "display_name": "Enjoy Data Science",
   "language": "python",
   "name": "enjoy-data-science"
  },
  "language_info": {
   "codemirror_mode": {
    "name": "ipython",
    "version": 3
   },
   "file_extension": ".py",
   "mimetype": "text/x-python",
   "name": "python",
   "nbconvert_exporter": "python",
   "pygments_lexer": "ipython3",
   "version": "3.8.5"
  }
 },
 "nbformat": 4,
 "nbformat_minor": 5
}
