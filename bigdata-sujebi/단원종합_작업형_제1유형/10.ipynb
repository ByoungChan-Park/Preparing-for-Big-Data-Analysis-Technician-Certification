{
 "cells": [
  {
   "cell_type": "code",
   "execution_count": 1,
   "id": "686e6784-697f-4d36-b83d-dea8126463a5",
   "metadata": {},
   "outputs": [],
   "source": [
    "import pandas as pd"
   ]
  },
  {
   "cell_type": "code",
   "execution_count": 2,
   "id": "acee2331-bc77-482c-9a37-6dd0b2025499",
   "metadata": {},
   "outputs": [],
   "source": [
    "df = pd.read_csv('./data/diamonds.csv')"
   ]
  },
  {
   "cell_type": "code",
   "execution_count": 7,
   "id": "087bcc55-1dc4-43fb-a66d-38ef0fc89c7c",
   "metadata": {},
   "outputs": [],
   "source": [
    "nrow = int(len(df) * 0.8)"
   ]
  },
  {
   "cell_type": "code",
   "execution_count": 8,
   "id": "b4a30c3b-5b92-4f77-9bc3-dd231e5cb408",
   "metadata": {},
   "outputs": [],
   "source": [
    "df20 = df.iloc[nrow:, ]\n",
    "df20 = df20[(df20['cut'] == 'Fair') & (df20['carat'] >= 1)] "
   ]
  },
  {
   "cell_type": "code",
   "execution_count": 9,
   "id": "9da2a69f-bdcb-4cf2-8527-c21e50cc408a",
   "metadata": {},
   "outputs": [
    {
     "name": "stdout",
     "output_type": "stream",
     "text": [
      "2757\n"
     ]
    }
   ],
   "source": [
    "print(df20['price'].max())"
   ]
  },
  {
   "cell_type": "code",
   "execution_count": null,
   "id": "c91be271-4e8d-4b13-8842-ce0efbe0b653",
   "metadata": {},
   "outputs": [],
   "source": []
  }
 ],
 "metadata": {
  "kernelspec": {
   "display_name": "Enjoy Data Science",
   "language": "python",
   "name": "enjoy-data-science"
  },
  "language_info": {
   "codemirror_mode": {
    "name": "ipython",
    "version": 3
   },
   "file_extension": ".py",
   "mimetype": "text/x-python",
   "name": "python",
   "nbconvert_exporter": "python",
   "pygments_lexer": "ipython3",
   "version": "3.8.5"
  }
 },
 "nbformat": 4,
 "nbformat_minor": 5
}
