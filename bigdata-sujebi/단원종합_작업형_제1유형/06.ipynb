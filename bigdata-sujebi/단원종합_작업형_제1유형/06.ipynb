{
 "cells": [
  {
   "cell_type": "code",
   "execution_count": 1,
   "id": "1639ce6d-3f5d-4de8-879c-65201872255c",
   "metadata": {},
   "outputs": [],
   "source": [
    "import pandas as pd"
   ]
  },
  {
   "cell_type": "code",
   "execution_count": 2,
   "id": "0b7f85fb-47fc-4eab-92ea-06b0411c2c58",
   "metadata": {},
   "outputs": [],
   "source": [
    "df = pd.read_csv('./data/WA_Fn-UseC_-Telco-Customer-Churn.csv')"
   ]
  },
  {
   "cell_type": "code",
   "execution_count": 3,
   "id": "3e01af2d-7f8a-4483-b4eb-7aa1aa7fd407",
   "metadata": {},
   "outputs": [],
   "source": [
    "df['TotalCharges'] = pd.to_numeric(df['TotalCharges'], errors='coerce')"
   ]
  },
  {
   "cell_type": "code",
   "execution_count": 4,
   "id": "5f10bdac-23c7-484d-af5b-887b8702b436",
   "metadata": {},
   "outputs": [],
   "source": [
    "mean = df['TotalCharges'].mean()\n",
    "std = df['TotalCharges'].std()\n",
    "upper = mean + std * 1.5\n",
    "lower = mean - std * 1.5"
   ]
  },
  {
   "cell_type": "code",
   "execution_count": 5,
   "id": "664633e1-48a9-4c43-8d88-ec2494fd0c45",
   "metadata": {},
   "outputs": [
    {
     "name": "stdout",
     "output_type": "stream",
     "text": [
      "1663.9953215901746\n"
     ]
    }
   ],
   "source": [
    "print(df.loc[(df['TotalCharges'] <= upper) & (df['TotalCharges'] >= lower)]['TotalCharges'].mean())"
   ]
  }
 ],
 "metadata": {
  "kernelspec": {
   "display_name": "Enjoy Data Science",
   "language": "python",
   "name": "enjoy-data-science"
  },
  "language_info": {
   "codemirror_mode": {
    "name": "ipython",
    "version": 3
   },
   "file_extension": ".py",
   "mimetype": "text/x-python",
   "name": "python",
   "nbconvert_exporter": "python",
   "pygments_lexer": "ipython3",
   "version": "3.8.5"
  }
 },
 "nbformat": 4,
 "nbformat_minor": 5
}
