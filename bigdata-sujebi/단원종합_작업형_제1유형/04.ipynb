{
 "cells": [
  {
   "cell_type": "code",
   "execution_count": 1,
   "id": "9a405e8b-5ae0-4996-817f-4de88930a2bb",
   "metadata": {},
   "outputs": [],
   "source": [
    "import pandas as pd"
   ]
  },
  {
   "cell_type": "code",
   "execution_count": 25,
   "id": "9138792b-7965-4875-857a-ce64a5f60168",
   "metadata": {},
   "outputs": [],
   "source": [
    "df = pd.read_csv('./data/airquality.csv')\n",
    "nrow = int(len(df) * 0.9)\n",
    "df90 = df.iloc[:nrow, ]\n",
    "mean = df90['Ozone'].mean()\n",
    "median1 = df90['Ozone'].median()\n",
    "df90 = df90.fillna({'Ozone': mean})\n",
    "median2 = df90['Ozone'].median()"
   ]
  },
  {
   "cell_type": "code",
   "execution_count": 29,
   "id": "d03c485c-a078-41e1-936b-0cb6a16012f1",
   "metadata": {},
   "outputs": [
    {
     "data": {
      "text/plain": [
       "35.0"
      ]
     },
     "execution_count": 29,
     "metadata": {},
     "output_type": "execute_result"
    }
   ],
   "source": [
    "median1"
   ]
  },
  {
   "cell_type": "code",
   "execution_count": 26,
   "id": "a1cd1d85-6ddd-44cf-b6a3-92d9c8074210",
   "metadata": {},
   "outputs": [
    {
     "data": {
      "text/plain": [
       "10.366336633663366"
      ]
     },
     "execution_count": 26,
     "metadata": {},
     "output_type": "execute_result"
    }
   ],
   "source": [
    "abs(median1 - median2)"
   ]
  },
  {
   "cell_type": "code",
   "execution_count": null,
   "id": "36a2fd1c-c4d3-4452-9882-9df6de1fc2d8",
   "metadata": {},
   "outputs": [],
   "source": []
  }
 ],
 "metadata": {
  "kernelspec": {
   "display_name": "Enjoy Data Science",
   "language": "python",
   "name": "enjoy-data-science"
  },
  "language_info": {
   "codemirror_mode": {
    "name": "ipython",
    "version": 3
   },
   "file_extension": ".py",
   "mimetype": "text/x-python",
   "name": "python",
   "nbconvert_exporter": "python",
   "pygments_lexer": "ipython3",
   "version": "3.8.5"
  }
 },
 "nbformat": 4,
 "nbformat_minor": 5
}
