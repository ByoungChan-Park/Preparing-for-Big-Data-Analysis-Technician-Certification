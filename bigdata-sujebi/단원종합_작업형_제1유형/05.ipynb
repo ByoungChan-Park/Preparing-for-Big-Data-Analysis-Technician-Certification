{
 "cells": [
  {
   "cell_type": "code",
   "execution_count": 1,
   "id": "661bc476-d9b8-405b-afcb-d07839aef7d9",
   "metadata": {},
   "outputs": [],
   "source": [
    "import pandas as pd"
   ]
  },
  {
   "cell_type": "code",
   "execution_count": 2,
   "id": "5b12f800-7283-472a-8e94-f312aa92fef3",
   "metadata": {},
   "outputs": [],
   "source": [
    "df = pd.read_csv('./data/musicfeatures.csv')"
   ]
  },
  {
   "cell_type": "code",
   "execution_count": 3,
   "id": "ceef4b29-a1fa-4df9-b99a-4e24e118e827",
   "metadata": {},
   "outputs": [],
   "source": [
    "upper = df['tempo'].quantile(.75)\n",
    "lower = df['tempo'].quantile(.25)"
   ]
  },
  {
   "cell_type": "code",
   "execution_count": 4,
   "id": "87761102-b22b-4944-93f2-1b2919d8851d",
   "metadata": {},
   "outputs": [],
   "source": [
    "df.loc[df['tempo'] > upper, 'tempo'] = 0\n",
    "df.loc[df['tempo'] < lower, 'tempo'] = 0"
   ]
  },
  {
   "cell_type": "code",
   "execution_count": 5,
   "id": "077fa3fb-991c-4c15-96c5-d002b69adc49",
   "metadata": {},
   "outputs": [
    {
     "name": "stdout",
     "output_type": "stream",
     "text": [
      "124.38362580995206\n"
     ]
    }
   ],
   "source": [
    "print(df['tempo'].mean() + df['tempo'].std())"
   ]
  },
  {
   "cell_type": "code",
   "execution_count": null,
   "id": "a2cb83ec-2932-4978-b97a-2b1fcba1c7d0",
   "metadata": {},
   "outputs": [],
   "source": []
  }
 ],
 "metadata": {
  "kernelspec": {
   "display_name": "Enjoy Data Science",
   "language": "python",
   "name": "enjoy-data-science"
  },
  "language_info": {
   "codemirror_mode": {
    "name": "ipython",
    "version": 3
   },
   "file_extension": ".py",
   "mimetype": "text/x-python",
   "name": "python",
   "nbconvert_exporter": "python",
   "pygments_lexer": "ipython3",
   "version": "3.8.5"
  }
 },
 "nbformat": 4,
 "nbformat_minor": 5
}
