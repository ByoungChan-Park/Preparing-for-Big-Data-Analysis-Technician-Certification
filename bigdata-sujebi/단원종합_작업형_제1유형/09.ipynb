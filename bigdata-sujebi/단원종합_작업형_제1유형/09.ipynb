{
 "cells": [
  {
   "cell_type": "code",
   "execution_count": 1,
   "id": "cfcbfbfc-295e-4f5f-8da1-2583f5edb742",
   "metadata": {},
   "outputs": [],
   "source": [
    "import pandas as pd"
   ]
  },
  {
   "cell_type": "code",
   "execution_count": 2,
   "id": "8e278df6-471d-4f1b-8458-515ccadb6c64",
   "metadata": {},
   "outputs": [],
   "source": [
    "df = pd.read_csv('./data/mtcars.csv')"
   ]
  },
  {
   "cell_type": "code",
   "execution_count": 3,
   "id": "c6af8c63-a3c1-490b-8a10-fc3ec0a85375",
   "metadata": {},
   "outputs": [],
   "source": [
    "df1 = df[df['am'] == 1].sort_values(['wt']).iloc[:10, ]\n",
    "df2 = df[df['am'] == 0].sort_values(['wt']).iloc[:10, ]"
   ]
  },
  {
   "cell_type": "code",
   "execution_count": 4,
   "id": "3be3e4c1-99d0-4ad6-852c-9ca81c286e6b",
   "metadata": {},
   "outputs": [
    {
     "name": "stdout",
     "output_type": "stream",
     "text": [
      "7.069999999999993\n"
     ]
    }
   ],
   "source": [
    "print(df1['mpg'].mean() - df2['mpg'].mean())"
   ]
  },
  {
   "cell_type": "code",
   "execution_count": null,
   "id": "2194846f-bd8e-43f7-9136-c5d924209046",
   "metadata": {},
   "outputs": [],
   "source": []
  }
 ],
 "metadata": {
  "kernelspec": {
   "display_name": "Enjoy Data Science",
   "language": "python",
   "name": "enjoy-data-science"
  },
  "language_info": {
   "codemirror_mode": {
    "name": "ipython",
    "version": 3
   },
   "file_extension": ".py",
   "mimetype": "text/x-python",
   "name": "python",
   "nbconvert_exporter": "python",
   "pygments_lexer": "ipython3",
   "version": "3.8.5"
  }
 },
 "nbformat": 4,
 "nbformat_minor": 5
}
