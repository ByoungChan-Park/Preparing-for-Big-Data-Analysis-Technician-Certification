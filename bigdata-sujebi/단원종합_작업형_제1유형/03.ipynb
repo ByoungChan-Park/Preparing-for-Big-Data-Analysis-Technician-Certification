{
 "cells": [
  {
   "cell_type": "code",
   "execution_count": 1,
   "id": "89092d1b-6ab9-4507-a9c1-4c2656851b29",
   "metadata": {},
   "outputs": [],
   "source": [
    "import pandas as pd\n",
    "from sklearn.model_selection import train_test_split"
   ]
  },
  {
   "cell_type": "code",
   "execution_count": 2,
   "id": "3e7fd8c3-f6d0-4f04-b1cc-686b563d029d",
   "metadata": {},
   "outputs": [],
   "source": [
    "df = pd.read_csv('./data/diamonds.csv')"
   ]
  },
  {
   "cell_type": "code",
   "execution_count": 3,
   "id": "1b66471c-5921-42b4-b752-a77543f76c87",
   "metadata": {},
   "outputs": [],
   "source": [
    "nrow = int(len(df) * 0.8)\n",
    "df1 = df.iloc[:nrow]\n",
    "df2 = df1.sort_values(['price'], ascending=False)"
   ]
  },
  {
   "cell_type": "code",
   "execution_count": 4,
   "id": "6c7775ca-c358-4e23-9ba2-0ad0392e9a0d",
   "metadata": {},
   "outputs": [
    {
     "data": {
      "text/plain": [
       "18663.33"
      ]
     },
     "execution_count": 4,
     "metadata": {},
     "output_type": "execute_result"
    }
   ],
   "source": [
    "df2['price'][:100].mean()"
   ]
  },
  {
   "cell_type": "code",
   "execution_count": null,
   "id": "17cb4fa3-a1b5-42ce-823d-868d44fa9dcf",
   "metadata": {},
   "outputs": [],
   "source": []
  }
 ],
 "metadata": {
  "kernelspec": {
   "display_name": "Enjoy Data Science",
   "language": "python",
   "name": "enjoy-data-science"
  },
  "language_info": {
   "codemirror_mode": {
    "name": "ipython",
    "version": 3
   },
   "file_extension": ".py",
   "mimetype": "text/x-python",
   "name": "python",
   "nbconvert_exporter": "python",
   "pygments_lexer": "ipython3",
   "version": "3.8.5"
  }
 },
 "nbformat": 4,
 "nbformat_minor": 5
}
