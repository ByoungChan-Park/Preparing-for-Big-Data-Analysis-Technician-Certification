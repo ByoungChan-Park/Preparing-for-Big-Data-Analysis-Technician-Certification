{
 "cells": [
  {
   "cell_type": "code",
   "execution_count": 1,
   "id": "c39459d5-2e81-43ba-8621-b5c4aaed8bf2",
   "metadata": {},
   "outputs": [],
   "source": [
    "import pandas as pd"
   ]
  },
  {
   "cell_type": "code",
   "execution_count": 2,
   "id": "667c3bef-9f68-469f-8e14-312fa82bc994",
   "metadata": {},
   "outputs": [],
   "source": [
    "df = pd.read_csv('./data/cats.csv')"
   ]
  },
  {
   "cell_type": "code",
   "execution_count": 3,
   "id": "8a3cc9b6-e603-4c25-acaf-c7ce0eb5258a",
   "metadata": {},
   "outputs": [
    {
     "data": {
      "text/plain": [
       "13.943750000000001"
      ]
     },
     "execution_count": 3,
     "metadata": {},
     "output_type": "execute_result"
    }
   ],
   "source": [
    "mean = df['Hwt'].mean()\n",
    "std = df['Hwt'].std()\n",
    "\n",
    "upper = mean + std * 1.5\n",
    "lower = mean - std * 1.5\n",
    "\n",
    "hwts = df.loc[(df['Hwt'] > upper) | (df['Hwt'] < lower)]['Hwt']\n",
    "hwts.mean()"
   ]
  },
  {
   "cell_type": "code",
   "execution_count": null,
   "id": "227e438b-a511-4e90-983a-708e88792606",
   "metadata": {},
   "outputs": [],
   "source": []
  },
  {
   "cell_type": "code",
   "execution_count": null,
   "id": "d5851fa1-5a98-4932-8434-4bdadacc108a",
   "metadata": {},
   "outputs": [],
   "source": []
  },
  {
   "cell_type": "code",
   "execution_count": null,
   "id": "36e43d23-a4b8-4ab5-b1e4-70a7651c20a9",
   "metadata": {},
   "outputs": [],
   "source": []
  }
 ],
 "metadata": {
  "kernelspec": {
   "display_name": "Enjoy Data Science",
   "language": "python",
   "name": "enjoy-data-science"
  },
  "language_info": {
   "codemirror_mode": {
    "name": "ipython",
    "version": 3
   },
   "file_extension": ".py",
   "mimetype": "text/x-python",
   "name": "python",
   "nbconvert_exporter": "python",
   "pygments_lexer": "ipython3",
   "version": "3.8.5"
  }
 },
 "nbformat": 4,
 "nbformat_minor": 5
}
