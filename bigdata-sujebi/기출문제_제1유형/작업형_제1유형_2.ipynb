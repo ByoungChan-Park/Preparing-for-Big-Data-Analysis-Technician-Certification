{
 "cells": [
  {
   "cell_type": "code",
   "execution_count": 1,
   "id": "bored-policy",
   "metadata": {},
   "outputs": [],
   "source": [
    "import pandas as pd"
   ]
  },
  {
   "cell_type": "code",
   "execution_count": 2,
   "id": "nervous-fireplace",
   "metadata": {},
   "outputs": [],
   "source": [
    "housing = pd.read_csv('./data/housing.csv')"
   ]
  },
  {
   "cell_type": "code",
   "execution_count": 3,
   "id": "precise-baker",
   "metadata": {},
   "outputs": [],
   "source": [
    "# housing.info()"
   ]
  },
  {
   "cell_type": "code",
   "execution_count": 4,
   "id": "fifty-philip",
   "metadata": {},
   "outputs": [],
   "source": [
    "# housing.head(10)"
   ]
  },
  {
   "cell_type": "code",
   "execution_count": 5,
   "id": "federal-subsection",
   "metadata": {},
   "outputs": [],
   "source": [
    "percent80 = int(len(housing) * .8)"
   ]
  },
  {
   "cell_type": "code",
   "execution_count": 6,
   "id": "viral-acquisition",
   "metadata": {},
   "outputs": [],
   "source": [
    "train_data = housing[:percent80]\n",
    "test_data = housing[percent80:]"
   ]
  },
  {
   "cell_type": "code",
   "execution_count": 7,
   "id": "bright-personality",
   "metadata": {},
   "outputs": [],
   "source": [
    "ori_total_bedrooms_sdt = train_data['total_bedrooms'].std()\n",
    "total_bedrooms_median = train_data['total_bedrooms'].median()"
   ]
  },
  {
   "cell_type": "code",
   "execution_count": 8,
   "id": "aggregate-guyana",
   "metadata": {},
   "outputs": [],
   "source": [
    "total_bedrooms_is_null_index = pd.isnull(train_data['total_bedrooms'])\n",
    "train_data_total_bedrooms_isnull = train_data[total_bedrooms_is_null_index]"
   ]
  },
  {
   "cell_type": "code",
   "execution_count": 9,
   "id": "funded-ticket",
   "metadata": {},
   "outputs": [],
   "source": [
    "# train_data_total_bedrooms_isnull.head(10)"
   ]
  },
  {
   "cell_type": "code",
   "execution_count": 10,
   "id": "clinical-platform",
   "metadata": {},
   "outputs": [],
   "source": [
    "train_data = train_data.fillna(total_bedrooms_median)"
   ]
  },
  {
   "cell_type": "code",
   "execution_count": 11,
   "id": "liquid-woman",
   "metadata": {},
   "outputs": [],
   "source": [
    "dest_avgrooms_sdt = train_data['total_bedrooms'].std()"
   ]
  },
  {
   "cell_type": "code",
   "execution_count": 12,
   "id": "complicated-conviction",
   "metadata": {},
   "outputs": [
    {
     "data": {
      "text/plain": [
       "1.9751472916456692"
      ]
     },
     "execution_count": 12,
     "metadata": {},
     "output_type": "execute_result"
    }
   ],
   "source": [
    "abs(ori_total_bedrooms_sdt - dest_avgrooms_sdt)"
   ]
  },
  {
   "cell_type": "code",
   "execution_count": null,
   "id": "003989b1-623a-437a-bce6-444cafe882d4",
   "metadata": {},
   "outputs": [],
   "source": []
  }
 ],
 "metadata": {
  "kernelspec": {
   "display_name": "Enjoy Data Science",
   "language": "python",
   "name": "enjoy-data-science"
  },
  "language_info": {
   "codemirror_mode": {
    "name": "ipython",
    "version": 3
   },
   "file_extension": ".py",
   "mimetype": "text/x-python",
   "name": "python",
   "nbconvert_exporter": "python",
   "pygments_lexer": "ipython3",
   "version": "3.8.5"
  }
 },
 "nbformat": 4,
 "nbformat_minor": 5
}
