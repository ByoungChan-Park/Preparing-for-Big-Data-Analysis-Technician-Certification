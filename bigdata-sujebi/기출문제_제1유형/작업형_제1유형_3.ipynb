{
 "cells": [
  {
   "cell_type": "code",
   "execution_count": 1,
   "id": "checked-facility",
   "metadata": {},
   "outputs": [],
   "source": [
    "import pandas as pd"
   ]
  },
  {
   "cell_type": "code",
   "execution_count": 2,
   "id": "96e2c9d7-c516-409f-8d30-6172afa6866b",
   "metadata": {},
   "outputs": [],
   "source": [
    "df = pd.read_csv('./data/insurance.csv')"
   ]
  },
  {
   "cell_type": "code",
   "execution_count": 4,
   "id": "e41fa0b4-22f5-4e40-856d-4619c7c4065a",
   "metadata": {},
   "outputs": [],
   "source": [
    "mean = df['charges'].mean()\n",
    "std = df['charges'].std()"
   ]
  },
  {
   "cell_type": "code",
   "execution_count": 5,
   "id": "6e3cc68a-c70a-4cf8-acf7-76d714b37c5d",
   "metadata": {},
   "outputs": [],
   "source": [
    "upper = mean + (1.5 * std)\n",
    "lower = mean - (1.5 * std)"
   ]
  },
  {
   "cell_type": "code",
   "execution_count": 7,
   "id": "2f08cadd-8f3f-434e-9330-409cbc8a3c24",
   "metadata": {},
   "outputs": [],
   "source": [
    "upper_lower = df.loc[(df['charges'] >= upper) | (df['charges'] <= lower)]"
   ]
  },
  {
   "cell_type": "code",
   "execution_count": 8,
   "id": "f62c0331-ba9d-41cf-bbc6-955312655031",
   "metadata": {},
   "outputs": [
    {
     "data": {
      "text/plain": [
       "6421430.0206699995"
      ]
     },
     "execution_count": 8,
     "metadata": {},
     "output_type": "execute_result"
    }
   ],
   "source": [
    "upper_lower['charges'].sum()"
   ]
  },
  {
   "cell_type": "code",
   "execution_count": null,
   "id": "f6a1f137-2a4b-4fe6-9b85-f94af8662d97",
   "metadata": {},
   "outputs": [],
   "source": []
  }
 ],
 "metadata": {
  "kernelspec": {
   "display_name": "Enjoy Data Science",
   "language": "python",
   "name": "enjoy-data-science"
  },
  "language_info": {
   "codemirror_mode": {
    "name": "ipython",
    "version": 3
   },
   "file_extension": ".py",
   "mimetype": "text/x-python",
   "name": "python",
   "nbconvert_exporter": "python",
   "pygments_lexer": "ipython3",
   "version": "3.8.5"
  }
 },
 "nbformat": 4,
 "nbformat_minor": 5
}
