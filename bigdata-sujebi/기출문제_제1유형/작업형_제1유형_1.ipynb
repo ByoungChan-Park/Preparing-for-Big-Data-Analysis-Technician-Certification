{
 "cells": [
  {
   "cell_type": "code",
   "execution_count": 1,
   "id": "chronic-humor",
   "metadata": {},
   "outputs": [],
   "source": [
    "import pandas as pd"
   ]
  },
  {
   "cell_type": "code",
   "execution_count": 2,
   "id": "local-correction",
   "metadata": {},
   "outputs": [],
   "source": [
    "boston = pd.read_csv('./data/boston_housing.csv')"
   ]
  },
  {
   "cell_type": "code",
   "execution_count": 4,
   "id": "dangerous-holiday",
   "metadata": {},
   "outputs": [],
   "source": [
    "boston_sort_crim = boston.sort_values(by=['CRIM'], ascending=False)"
   ]
  },
  {
   "cell_type": "code",
   "execution_count": 5,
   "id": "fiscal-rabbit",
   "metadata": {},
   "outputs": [],
   "source": [
    "boston_crim_top10 = boston_sort_crim['CRIM'].values[9]"
   ]
  },
  {
   "cell_type": "code",
   "execution_count": 6,
   "id": "requested-hammer",
   "metadata": {},
   "outputs": [],
   "source": [
    "boston.loc[boston['CRIM'] > boston_crim_top10, 'CRIM'] = boston_crim_top10"
   ]
  },
  {
   "cell_type": "code",
   "execution_count": 7,
   "id": "strange-array",
   "metadata": {},
   "outputs": [],
   "source": [
    "boston_age_over_80 = boston[boston['AGE'] >= 80]"
   ]
  },
  {
   "cell_type": "code",
   "execution_count": 8,
   "id": "synthetic-tampa",
   "metadata": {},
   "outputs": [],
   "source": [
    "boston_age_over_80_crim_mean = boston_age_over_80['CRIM'].mean()"
   ]
  },
  {
   "cell_type": "code",
   "execution_count": 9,
   "id": "provincial-coordinator",
   "metadata": {},
   "outputs": [
    {
     "name": "stdout",
     "output_type": "stream",
     "text": [
      "5.759386625\n"
     ]
    }
   ],
   "source": [
    "print(boston_age_over_80_crim_mean)"
   ]
  },
  {
   "cell_type": "code",
   "execution_count": null,
   "id": "plastic-genre",
   "metadata": {},
   "outputs": [],
   "source": []
  }
 ],
 "metadata": {
  "kernelspec": {
   "display_name": "Enjoy Data Science",
   "language": "python",
   "name": "enjoy-data-science"
  },
  "language_info": {
   "codemirror_mode": {
    "name": "ipython",
    "version": 3
   },
   "file_extension": ".py",
   "mimetype": "text/x-python",
   "name": "python",
   "nbconvert_exporter": "python",
   "pygments_lexer": "ipython3",
   "version": "3.8.5"
  }
 },
 "nbformat": 4,
 "nbformat_minor": 5
}
