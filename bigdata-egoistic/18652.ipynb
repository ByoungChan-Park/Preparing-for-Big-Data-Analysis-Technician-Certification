{
 "cells": [
  {
   "cell_type": "code",
   "execution_count": null,
   "id": "4bf3a31e-5275-4d24-ae97-a34eedde2bb6",
   "metadata": {},
   "outputs": [],
   "source": [
    "import numpy as np\n",
    "import pandas as pd\n",
    "import scipy as sp\n",
    "\n",
    "from sklearn.linear_model import LinearRegression\n",
    "from sklearn.ensemble import RandomForestRegressor, AdaBoostRegressor\n",
    "from sklearn.preprocessing import LabelEncoder, MinMaxScaler, StandardScaler\n",
    "from sklearn.metrics import r2_score\n",
    "from sklearn.model_selection import train_test_split, GridSearchCV\n",
    "from sklearn.pipeline import Pipeline\n",
    "from xgboost import XGBRegressor"
   ]
  },
  {
   "cell_type": "code",
   "execution_count": null,
   "id": "7255aa92-2117-453a-a312-6ce4dd46af13",
   "metadata": {},
   "outputs": [],
   "source": [
    "trainData  = f'https://raw.githubusercontent.com/Datamanim/datarepo/main/hyundai/train.csv'\n",
    "testData  = f'https://raw.githubusercontent.com/Datamanim/datarepo/main/hyundai/test.csv'\n",
    "subData  = f'https://raw.githubusercontent.com/Datamanim/datarepo/main/hyundai/submission.csv'"
   ]
  },
  {
   "cell_type": "code",
   "execution_count": null,
   "id": "b39433a1-9441-42f7-86ed-665b53a625b7",
   "metadata": {},
   "outputs": [],
   "source": [
    "train = pd.read_csv(trainData)\n",
    "test = pd.read_csv(testData)\n",
    "sub = pd.read_csv(subData)"
   ]
  },
  {
   "cell_type": "code",
   "execution_count": null,
   "id": "86f03564-8f8b-4f67-9873-3ba144463a5a",
   "metadata": {},
   "outputs": [],
   "source": [
    "# train['model'] = LabelEncoder().fit_transform(train['model'])\n",
    "train['transmission'] = LabelEncoder().fit_transform(train['transmission'])\n",
    "train['fuelType'] = LabelEncoder().fit_transform(train['fuelType'])"
   ]
  },
  {
   "cell_type": "code",
   "execution_count": null,
   "id": "61f487a1-9c69-4edc-badc-9cdf8a552262",
   "metadata": {},
   "outputs": [],
   "source": [
    "X = train.drop(['model','price'], axis=1)\n",
    "y = train['price']\n",
    "X = StandardScaler().fit_transform(X)"
   ]
  },
  {
   "cell_type": "code",
   "execution_count": null,
   "id": "bcf51188-27d5-45f1-840f-8d6b6eff697d",
   "metadata": {},
   "outputs": [],
   "source": [
    "X_train, X_test, y_train, y_test = train_test_split(X, y, test_size=0.2, random_state=42)"
   ]
  },
  {
   "cell_type": "code",
   "execution_count": null,
   "id": "601dff20-2c9f-4776-8117-8b0e31df9408",
   "metadata": {
    "tags": []
   },
   "outputs": [],
   "source": [
    "# help(XGBRegressor())"
   ]
  },
  {
   "cell_type": "code",
   "execution_count": null,
   "id": "47ac6757-7c22-4ed5-af47-317fbc2ee670",
   "metadata": {},
   "outputs": [],
   "source": [
    "%%time\n",
    "pipe = Pipeline([('scaler', StandardScaler()),('model', XGBRegressor())])\n",
    "params = {'model__max_depth':[1,10,100], 'model__learning_rate': [1, 10], 'model__random_state':[1,10,100]}\n",
    "cv = GridSearchCV(pipe, params, n_jobs=10).fit(X_train, y_train)\n",
    "y_pred = cv.predict(X_test)\n",
    "r2_score(y_test, y_pred)"
   ]
  },
  {
   "cell_type": "code",
   "execution_count": null,
   "id": "61ccb141-adec-4b91-99f2-fed4bdb653e2",
   "metadata": {},
   "outputs": [],
   "source": [
    "rf = RandomForestRegressor(random_state=42).fit(X_train, y_train)\n",
    "y_pred = rf.predict(X_test)\n",
    "r2_score(y_test, y_pred)"
   ]
  },
  {
   "cell_type": "code",
   "execution_count": null,
   "id": "0e9e4ecf-27f6-450d-84fd-8b096f7b2bbe",
   "metadata": {},
   "outputs": [],
   "source": [
    "lr = LinearRegression().fit(X_train, y_train)\n",
    "y_pred = lr.predict(X_test)\n",
    "r2_score(y_test, y_pred)"
   ]
  },
  {
   "cell_type": "code",
   "execution_count": null,
   "id": "24a8289c-e902-40f3-932c-9bb3ddbf6c24",
   "metadata": {},
   "outputs": [],
   "source": [
    "ad = AdaBoostRegressor().fit(X_train, y_train)\n",
    "y_pred = ad.predict(X_test)\n",
    "r2_score(y_test, y_pred)"
   ]
  },
  {
   "cell_type": "code",
   "execution_count": null,
   "id": "236bd9ed-4ea2-40db-9620-3042fafc8dc5",
   "metadata": {},
   "outputs": [],
   "source": [
    "test['model'] = LabelEncoder().fit_transform(test['model'])\n",
    "test['transmission'] = LabelEncoder().fit_transform(test['transmission'])\n",
    "test['fuelType'] = LabelEncoder().fit_transform(test['fuelType'])\n",
    "test = test.drop(['model'], axis=1)\n",
    "test = MinMaxScaler().fit_transform(test)"
   ]
  },
  {
   "cell_type": "code",
   "execution_count": null,
   "id": "490a9b8a-8bd7-4520-aec8-77bbe77b679f",
   "metadata": {},
   "outputs": [],
   "source": [
    "test_test = rf.predict(test)\n",
    "sub['0'] = test_test\n",
    "sub.to_csv('18652.csv', index=False)"
   ]
  },
  {
   "cell_type": "code",
   "execution_count": null,
   "id": "71819260-32b7-4e9c-acaf-93b546ee5b5c",
   "metadata": {},
   "outputs": [],
   "source": []
  }
 ],
 "metadata": {
  "kernelspec": {
   "display_name": "Enjoy Data Science",
   "language": "python",
   "name": "enjoy-data-science"
  },
  "language_info": {
   "codemirror_mode": {
    "name": "ipython",
    "version": 3
   },
   "file_extension": ".py",
   "mimetype": "text/x-python",
   "name": "python",
   "nbconvert_exporter": "python",
   "pygments_lexer": "ipython3",
   "version": "3.8.10"
  }
 },
 "nbformat": 4,
 "nbformat_minor": 5
}
