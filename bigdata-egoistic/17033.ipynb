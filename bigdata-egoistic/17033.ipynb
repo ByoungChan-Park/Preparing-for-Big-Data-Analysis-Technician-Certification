{
 "cells": [
  {
   "cell_type": "code",
   "execution_count": 1,
   "id": "f034b82e-1a96-4d6f-968e-a0ecabdbeadf",
   "metadata": {
    "jupyter": {
     "source_hidden": true
    },
    "tags": []
   },
   "outputs": [],
   "source": [
    "import numpy as np\n",
    "import pandas as pd\n",
    "import scipy as sp\n",
    "\n",
    "from sklearn.preprocessing import StandardScaler, MinMaxScaler, LabelEncoder\n",
    "from sklearn.metrics import f1_score, accuracy_score\n",
    "from sklearn.model_selection import train_test_split, GridSearchCV, StratifiedShuffleSplit\n",
    "from sklearn.pipeline import Pipeline\n",
    "from sklearn.linear_model import LogisticRegression\n",
    "from sklearn.tree import DecisionTreeClassifier\n",
    "from sklearn.ensemble import RandomForestClassifier\n",
    "from sklearn.svm import SVC"
   ]
  },
  {
   "cell_type": "code",
   "execution_count": 2,
   "id": "bfbc2e7d-b392-4dee-93f0-c091bf980ce4",
   "metadata": {
    "jupyter": {
     "source_hidden": true
    },
    "tags": []
   },
   "outputs": [],
   "source": [
    "trainData  = f'https://raw.githubusercontent.com/Datamanim/datarepo/main/waters/train.csv'\n",
    "testData  = f'https://raw.githubusercontent.com/Datamanim/datarepo/main/waters/test.csv'\n",
    "subData  = f'https://raw.githubusercontent.com/Datamanim/datarepo/main/waters/submission.csv'"
   ]
  },
  {
   "cell_type": "code",
   "execution_count": 3,
   "id": "fe3016fa-7251-4d61-92f6-e379125248c0",
   "metadata": {
    "jupyter": {
     "source_hidden": true
    },
    "tags": []
   },
   "outputs": [],
   "source": [
    "train = pd.read_csv(trainData)\n",
    "test = pd.read_csv(testData)\n",
    "sub = pd.read_csv(subData)"
   ]
  },
  {
   "cell_type": "code",
   "execution_count": 4,
   "id": "bcf8ef57-af9e-487b-92ad-fdcf9428f35a",
   "metadata": {
    "jupyter": {
     "source_hidden": true
    },
    "tags": []
   },
   "outputs": [],
   "source": [
    "train = train.fillna(0)\n",
    "test = test.fillna(0)\n",
    "\n",
    "#train = train.fillna(train.median())\n",
    "#test = test.fillna(test.median())"
   ]
  },
  {
   "cell_type": "code",
   "execution_count": 5,
   "id": "d4c0a911-39b4-4762-a48a-a7bfcda338f3",
   "metadata": {
    "jupyter": {
     "source_hidden": true
    },
    "tags": []
   },
   "outputs": [],
   "source": [
    "X = train.drop(['Potability'], axis=1)\n",
    "y = train['Potability']"
   ]
  },
  {
   "cell_type": "code",
   "execution_count": 6,
   "id": "b6f8c061-9cda-457b-bb8a-c7bd3423b844",
   "metadata": {},
   "outputs": [
    {
     "name": "stdout",
     "output_type": "stream",
     "text": [
      "Fitting 5 folds for each of 32 candidates, totalling 160 fits\n",
      "0.6586709548696417 {'rf__criterion': 'entropy', 'rf__max_depth': 10, 'rf__random_state': 1000}\n",
      "0.2944162436548224 0.6463104325699746\n",
      "\n",
      "\n",
      "Fitting 5 folds for each of 32 candidates, totalling 160 fits\n",
      "0.6401185211655573 {'rf__criterion': 'entropy', 'rf__max_depth': 100, 'rf__random_state': 1}\n",
      "0.40350877192982454 0.6539440203562341\n",
      "\n",
      "\n",
      "Fitting 5 folds for each of 32 candidates, totalling 160 fits\n",
      "0.6477539047959382 {'rf__criterion': 'gini', 'rf__max_depth': 10, 'rf__random_state': 100}\n",
      "0.36319612590799033 0.6653944020356234\n",
      "\n",
      "\n",
      "Fitting 5 folds for each of 32 candidates, totalling 160 fits\n",
      "0.6477702833489674 {'rf__criterion': 'gini', 'rf__max_depth': 10, 'rf__random_state': 10}\n",
      "0.3282828282828283 0.6615776081424937\n",
      "\n",
      "\n",
      "Fitting 5 folds for each of 32 candidates, totalling 160 fits\n",
      "0.6624856687660994 {'rf__criterion': 'entropy', 'rf__max_depth': 100, 'rf__random_state': 1000}\n",
      "0.4089068825910931 0.628498727735369\n",
      "\n",
      "\n"
     ]
    }
   ],
   "source": [
    "sss = StratifiedShuffleSplit(n_splits=5, test_size=0.3, random_state=42)\n",
    "for train_index, test_index in sss.split(X, y):\n",
    "    X_train, X_test = X.loc[train_index], X.loc[test_index]\n",
    "    y_train, y_test = y.loc[train_index], y.loc[test_index]\n",
    "    pipe = Pipeline([('scaler', StandardScaler()), ('rf', RandomForestClassifier())])\n",
    "    param = {'rf__criterion':['gini', 'entropy'],'rf__max_depth':[1, 10, 100, 1000],'rf__random_state':[1, 10, 100, 1000]}\n",
    "    grid = GridSearchCV(pipe, param, scoring='accuracy', verbose=1, n_jobs=2).fit(X_train, y_train)\n",
    "    print(grid.best_score_, grid.best_params_)\n",
    "    print(f1_score(y_test, grid.predict(X_test)), accuracy_score(y_test, grid.predict(X_test)))\n",
    "    print(\"\\n\")"
   ]
  },
  {
   "cell_type": "code",
   "execution_count": 7,
   "id": "ec5ce686-dff3-490e-b076-bf9b937b3ffb",
   "metadata": {
    "jupyter": {
     "source_hidden": true
    },
    "tags": []
   },
   "outputs": [],
   "source": [
    "X = StandardScaler().fit_transform(X)\n",
    "test = StandardScaler().fit_transform(test)"
   ]
  },
  {
   "cell_type": "code",
   "execution_count": 8,
   "id": "5725f769-ab7b-444e-ad8b-ddfd8d9a7f04",
   "metadata": {
    "jupyter": {
     "source_hidden": true
    },
    "tags": []
   },
   "outputs": [],
   "source": [
    "X_train, X_test, y_train, y_test = train_test_split(X, y, test_size=0.30, random_state=42)"
   ]
  },
  {
   "cell_type": "code",
   "execution_count": 9,
   "id": "4e90626c-95fd-4431-8c0c-9ce6a0099450",
   "metadata": {
    "jupyter": {
     "source_hidden": true
    },
    "tags": []
   },
   "outputs": [
    {
     "name": "stdout",
     "output_type": "stream",
     "text": [
      "0.40085287846481876 0.6424936386768448\n"
     ]
    }
   ],
   "source": [
    "rf = RandomForestClassifier(max_depth=100, random_state=2022).fit(X_train, y_train)\n",
    "y_pred = rf.predict(X_test)\n",
    "print(f1_score(y_test, y_pred), accuracy_score(y_test, y_pred))"
   ]
  },
  {
   "cell_type": "code",
   "execution_count": 10,
   "id": "32be4c45-2e3a-481e-820f-d885b7e847a4",
   "metadata": {
    "jupyter": {
     "source_hidden": true
    },
    "tags": []
   },
   "outputs": [
    {
     "name": "stdout",
     "output_type": "stream",
     "text": [
      "0.4788273615635179 0.5928753180661578\n"
     ]
    }
   ],
   "source": [
    "dt = DecisionTreeClassifier(max_depth=100, random_state=2022).fit(X_train, y_train)\n",
    "y_pred = dt.predict(X_test)\n",
    "print(f1_score(y_test, y_pred), accuracy_score(y_test, y_pred))"
   ]
  },
  {
   "cell_type": "code",
   "execution_count": 11,
   "id": "b48c6b28-9251-49de-b777-2ab253826242",
   "metadata": {
    "jupyter": {
     "source_hidden": true
    },
    "tags": []
   },
   "outputs": [
    {
     "name": "stdout",
     "output_type": "stream",
     "text": [
      "0.006600660066006601 0.6170483460559797\n"
     ]
    }
   ],
   "source": [
    "lr = LogisticRegression(solver='liblinear').fit(X_train, y_train)\n",
    "y_pred = lr.predict(X_test)\n",
    "print(f1_score(y_test, y_pred), accuracy_score(y_test, y_pred))"
   ]
  },
  {
   "cell_type": "code",
   "execution_count": 12,
   "id": "3d6462b7-923f-48bf-a80a-a50e45b2ae06",
   "metadata": {
    "jupyter": {
     "source_hidden": true
    },
    "tags": []
   },
   "outputs": [],
   "source": [
    "test_pred = rf.predict(test)\n",
    "sub[0] = test_pred\n",
    "sub.to_csv('17033.csv', index=False)"
   ]
  }
 ],
 "metadata": {
  "kernelspec": {
   "display_name": "Enjoy Data Science",
   "language": "python",
   "name": "enjoy-data-science"
  },
  "language_info": {
   "codemirror_mode": {
    "name": "ipython",
    "version": 3
   },
   "file_extension": ".py",
   "mimetype": "text/x-python",
   "name": "python",
   "nbconvert_exporter": "python",
   "pygments_lexer": "ipython3",
   "version": "3.8.5"
  }
 },
 "nbformat": 4,
 "nbformat_minor": 5
}
