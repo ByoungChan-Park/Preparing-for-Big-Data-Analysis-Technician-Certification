{
 "cells": [
  {
   "cell_type": "code",
   "execution_count": 1,
   "id": "accurate-cologne",
   "metadata": {},
   "outputs": [],
   "source": [
    "import pandas as pd\n",
    "\n",
    "import scipy as sp\n",
    "import scipy.stats"
   ]
  },
  {
   "cell_type": "code",
   "execution_count": 2,
   "id": "obvious-carroll",
   "metadata": {},
   "outputs": [],
   "source": [
    "df = pd.read_csv('https://raw.githubusercontent.com/Datamanim/datarepo/main/smoke/train.csv')"
   ]
  },
  {
   "cell_type": "code",
   "execution_count": 3,
   "id": "connected-bacon",
   "metadata": {},
   "outputs": [
    {
     "data": {
      "text/plain": [
       "84.9768266281797"
      ]
     },
     "execution_count": 3,
     "metadata": {},
     "output_type": "execute_result"
    }
   ],
   "source": [
    "df.loc[(df['시력(좌)'] == df['시력(우)']) & (df['성별코드'] == 'M')]['허리둘레'].mean()"
   ]
  },
  {
   "cell_type": "code",
   "execution_count": 4,
   "id": "controversial-diving",
   "metadata": {},
   "outputs": [
    {
     "data": {
      "text/plain": [
       "Ttest_indResult(statistic=-8.954384087520708, pvalue=4.399762427897212e-19)"
      ]
     },
     "execution_count": 4,
     "metadata": {},
     "output_type": "execute_result"
    }
   ],
   "source": [
    "df1 = df.loc[(df['연령대코드(5세단위)'].isin([40,45])) & (df['성별코드'] == 'F')]\n",
    "df2 = df.loc[(df['연령대코드(5세단위)'].isin([50,55])) & (df['성별코드'] == 'F')]\n",
    "f40 = df1.loc[df1['총콜레스테롤'] >= df1['총콜레스테롤'].median()]['수축기혈압']\n",
    "f50 = df2.loc[df2['총콜레스테롤'] >= df2['총콜레스테롤'].median()]['수축기혈압']\n",
    "\n",
    "sp.stats.ttest_ind(f40, f50, equal_var=True)"
   ]
  }
 ],
 "metadata": {
  "kernelspec": {
   "display_name": "Enjoy Data Science",
   "language": "python",
   "name": "enjoy-data-science"
  },
  "language_info": {
   "codemirror_mode": {
    "name": "ipython",
    "version": 3
   },
   "file_extension": ".py",
   "mimetype": "text/x-python",
   "name": "python",
   "nbconvert_exporter": "python",
   "pygments_lexer": "ipython3",
   "version": "3.8.5"
  }
 },
 "nbformat": 4,
 "nbformat_minor": 5
}
