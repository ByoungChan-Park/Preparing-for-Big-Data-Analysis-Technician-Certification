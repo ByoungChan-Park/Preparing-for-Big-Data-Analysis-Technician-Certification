{
 "cells": [
  {
   "cell_type": "code",
   "execution_count": 1,
   "id": "2be83dbb-a182-4a3a-bbdf-50b430aff953",
   "metadata": {},
   "outputs": [],
   "source": [
    "import numpy as np\n",
    "import pandas as pd\n",
    "import scipy as sp\n",
    "\n",
    "from sklearn.preprocessing import MinMaxScaler, StandardScaler, LabelEncoder\n",
    "from sklearn.ensemble import RandomForestClassifier, AdaBoostClassifier\n",
    "from sklearn.tree import DecisionTreeClassifier\n",
    "from sklearn.model_selection import train_test_split\n",
    "from sklearn.metrics import accuracy_score"
   ]
  },
  {
   "cell_type": "code",
   "execution_count": 2,
   "id": "f59e2385-bc8c-4d97-a4b8-91768f49f9a5",
   "metadata": {},
   "outputs": [],
   "source": [
    "trainData  = f'https://raw.githubusercontent.com/Datamanim/datarepo/main/bean/train.csv'\n",
    "testData  = f'https://raw.githubusercontent.com/Datamanim/datarepo/main/bean/test.csv'\n",
    "subData  = f'https://raw.githubusercontent.com/Datamanim/datarepo/main/bean/submission.csv'"
   ]
  },
  {
   "cell_type": "code",
   "execution_count": 3,
   "id": "25770cad-12c0-4624-a320-d98c04206b48",
   "metadata": {},
   "outputs": [],
   "source": [
    "train = pd.read_csv(trainData)\n",
    "test = pd.read_csv(testData)\n",
    "sub = pd.read_csv(subData)"
   ]
  },
  {
   "cell_type": "code",
   "execution_count": 4,
   "id": "fa59235c-25a2-45b3-abe6-1d6ecb4bbab3",
   "metadata": {},
   "outputs": [],
   "source": [
    "X = train.drop(['Area','Class'], axis=1)\n",
    "y = train['Class']\n",
    "\n",
    "# X['Perimeter'] = StandardScaler().fit_transform(X[['Perimeter']])"
   ]
  },
  {
   "cell_type": "code",
   "execution_count": 5,
   "id": "8debf501-9a57-470c-9af8-68235707f14d",
   "metadata": {},
   "outputs": [],
   "source": [
    "X_train, X_test, y_train, y_test = train_test_split(X,y,test_size=0.2, random_state=42)"
   ]
  },
  {
   "cell_type": "code",
   "execution_count": 12,
   "id": "93890d03-2c15-4654-9b08-17d904d12027",
   "metadata": {},
   "outputs": [
    {
     "data": {
      "text/plain": [
       "0.9242076251722554"
      ]
     },
     "execution_count": 12,
     "metadata": {},
     "output_type": "execute_result"
    }
   ],
   "source": [
    "rf = RandomForestClassifier(max_depth=100, random_state=42, n_jobs=10).fit(X_train, y_train)\n",
    "y_pred = rf.predict(X_test)\n",
    "accuracy_score(y_test, y_pred)"
   ]
  },
  {
   "cell_type": "code",
   "execution_count": 14,
   "id": "78ec0481-bf44-4371-a4e6-1fec778d65d2",
   "metadata": {},
   "outputs": [
    {
     "data": {
      "text/plain": [
       "0.9030776297657327"
      ]
     },
     "execution_count": 14,
     "metadata": {},
     "output_type": "execute_result"
    }
   ],
   "source": [
    "dt = DecisionTreeClassifier(max_depth=100, random_state=42).fit(X_train, y_train)\n",
    "y_pred = dt.predict(X_test)\n",
    "accuracy_score(y_test, y_pred)"
   ]
  },
  {
   "cell_type": "code",
   "execution_count": 8,
   "id": "d6a410c3-0dfb-4a79-8b92-7434aac14366",
   "metadata": {},
   "outputs": [],
   "source": [
    "test = test.drop(['Area'], axis=1)\n",
    "# test['Perimeter'] = StandardScaler().fit_transform(test[['Perimeter']])\n",
    "test = StandardScaler().fit_transform(test)\n",
    "test_pred = rf.predict(test)"
   ]
  },
  {
   "cell_type": "code",
   "execution_count": 9,
   "id": "0bc63721-be46-434c-bde1-5001dbc49273",
   "metadata": {},
   "outputs": [],
   "source": [
    "sub['0'] = test_pred\n",
    "sub.to_csv('19053.csv', index=False)"
   ]
  },
  {
   "cell_type": "code",
   "execution_count": null,
   "id": "6337eea3-cf17-4866-9989-db0bac8fbd04",
   "metadata": {},
   "outputs": [],
   "source": []
  }
 ],
 "metadata": {
  "kernelspec": {
   "display_name": "Enjoy Data Science",
   "language": "python",
   "name": "enjoy-data-science"
  },
  "language_info": {
   "codemirror_mode": {
    "name": "ipython",
    "version": 3
   },
   "file_extension": ".py",
   "mimetype": "text/x-python",
   "name": "python",
   "nbconvert_exporter": "python",
   "pygments_lexer": "ipython3",
   "version": "3.8.5"
  }
 },
 "nbformat": 4,
 "nbformat_minor": 5
}
