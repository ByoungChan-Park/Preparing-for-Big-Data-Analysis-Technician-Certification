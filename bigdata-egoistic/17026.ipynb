{
 "cells": [
  {
   "cell_type": "code",
   "execution_count": 1,
   "id": "a6eb5cac-86af-4af8-8556-d16c5ee62660",
   "metadata": {},
   "outputs": [],
   "source": [
    "import numpy as np\n",
    "import pandas as pd\n",
    "import scipy as sp\n",
    "\n",
    "from sklearn.preprocessing import StandardScaler, MinMaxScaler, LabelEncoder\n",
    "from sklearn.ensemble import RandomForestClassifier, GradientBoostingClassifier, AdaBoostClassifier\n",
    "from sklearn.tree import DecisionTreeClassifier\n",
    "from sklearn.metrics import accuracy_score, f1_score, roc_auc_score\n",
    "from sklearn.model_selection import train_test_split"
   ]
  },
  {
   "cell_type": "code",
   "execution_count": 2,
   "id": "7ad345ec-61ce-4002-84c3-510e01ae952a",
   "metadata": {},
   "outputs": [],
   "source": [
    "trainData  = f'https://raw.githubusercontent.com/Datamanim/datarepo/main/airline/train.csv'\n",
    "testData  = f'https://raw.githubusercontent.com/Datamanim/datarepo/main/airline/test.csv'\n",
    "subData  = f'https://raw.githubusercontent.com/Datamanim/datarepo/main/airline/submission.csv'"
   ]
  },
  {
   "cell_type": "code",
   "execution_count": 3,
   "id": "0fe28af6-e564-4d9e-83d1-64601c61c12e",
   "metadata": {},
   "outputs": [],
   "source": [
    "train = pd.read_csv(trainData)\n",
    "test = pd.read_csv(testData)\n",
    "sub = pd.read_csv(subData)"
   ]
  },
  {
   "cell_type": "code",
   "execution_count": 4,
   "id": "b8855395-6ca7-403c-8335-35a685506bac",
   "metadata": {
    "tags": []
   },
   "outputs": [
    {
     "data": {
      "text/plain": [
       "id                                     0\n",
       "Gender                                 0\n",
       "Customer Type                          0\n",
       "Age                                    0\n",
       "Type of Travel                         0\n",
       "Class                                  0\n",
       "Flight Distance                        0\n",
       "Inflight wifi service                  0\n",
       "Departure/Arrival time convenient      0\n",
       "Ease of Online booking                 0\n",
       "Gate location                          0\n",
       "Food and drink                         0\n",
       "Online boarding                        0\n",
       "Seat comfort                           0\n",
       "Inflight entertainment                 0\n",
       "On-board service                       0\n",
       "Leg room service                       0\n",
       "Baggage handling                       0\n",
       "Checkin service                        0\n",
       "Inflight service                       0\n",
       "Cleanliness                            0\n",
       "Departure Delay in Minutes             0\n",
       "Arrival Delay in Minutes             256\n",
       "satisfaction                           0\n",
       "dtype: int64"
      ]
     },
     "execution_count": 4,
     "metadata": {},
     "output_type": "execute_result"
    }
   ],
   "source": [
    "train.isna().sum()"
   ]
  },
  {
   "cell_type": "code",
   "execution_count": 5,
   "id": "69245597-bad6-4b9e-9312-da9603db503d",
   "metadata": {},
   "outputs": [
    {
     "data": {
      "text/plain": [
       "((83123, 24), (20781, 23), (20781, 1))"
      ]
     },
     "execution_count": 5,
     "metadata": {},
     "output_type": "execute_result"
    }
   ],
   "source": [
    "train.shape, test.shape, sub.shape"
   ]
  },
  {
   "cell_type": "code",
   "execution_count": 6,
   "id": "71267489-4a2e-4c3f-a77e-6b3ccb6713b6",
   "metadata": {},
   "outputs": [],
   "source": [
    "X = train.drop(['id','Arrival Delay in Minutes', 'satisfaction'], axis=1)\n",
    "y = train['satisfaction']"
   ]
  },
  {
   "cell_type": "code",
   "execution_count": 7,
   "id": "9db05184-1882-49b7-bf10-33577ae1ffe5",
   "metadata": {},
   "outputs": [],
   "source": [
    "X = pd.get_dummies(X)\n",
    "y = y.map(lambda x: 1 if x == 'satisfied' else 0)\n",
    "cols = X.columns"
   ]
  },
  {
   "cell_type": "code",
   "execution_count": 8,
   "id": "24c0664e-4a7c-472a-a53c-de7449b57c68",
   "metadata": {},
   "outputs": [],
   "source": [
    "X_train, X_test, y_train, y_test = train_test_split(X,y,test_size=0.3, random_state=2020)"
   ]
  },
  {
   "cell_type": "code",
   "execution_count": 9,
   "id": "44e8689b-43b7-4e79-b956-f770bd6b90be",
   "metadata": {},
   "outputs": [
    {
     "name": "stdout",
     "output_type": "stream",
     "text": [
      "0.9618638970204917\n",
      "0.9554044548651818\n",
      "0.9939074831694907\n"
     ]
    }
   ],
   "source": [
    "rf = RandomForestClassifier(random_state=2020).fit(X_train, y_train)\n",
    "y_pred = rf.predict(X_test)\n",
    "y_pred_prob = rf.predict_proba(X_test)\n",
    "print(accuracy_score(y_test, y_pred))\n",
    "print(f1_score(y_test, y_pred))\n",
    "print(roc_auc_score(y_test, y_pred_prob[:, 1]))"
   ]
  },
  {
   "cell_type": "code",
   "execution_count": 10,
   "id": "c37ecf7e-178c-4cd2-9fd7-42adc62ae594",
   "metadata": {},
   "outputs": [
    {
     "name": "stdout",
     "output_type": "stream",
     "text": [
      "0.9402895296146289\n",
      "0.9304952621014797\n"
     ]
    }
   ],
   "source": [
    "gb = GradientBoostingClassifier(random_state=2020).fit(X_train, y_train)\n",
    "y_pred = gb.predict(X_test)\n",
    "print(accuracy_score(y_test, y_pred))\n",
    "print(f1_score(y_test, y_pred))"
   ]
  },
  {
   "cell_type": "code",
   "execution_count": 11,
   "id": "1b12555d-5f73-4be5-8eb5-8ea249d54a56",
   "metadata": {},
   "outputs": [
    {
     "name": "stdout",
     "output_type": "stream",
     "text": [
      "0.9268155752496291\n",
      "0.9151912263581022\n"
     ]
    }
   ],
   "source": [
    "ab = AdaBoostClassifier(random_state=2020).fit(X_train, y_train)\n",
    "y_pred = ab.predict(X_test)\n",
    "print(accuracy_score(y_test, y_pred))\n",
    "print(f1_score(y_test, y_pred))"
   ]
  },
  {
   "cell_type": "code",
   "execution_count": 12,
   "id": "72e5249a-0c5c-4987-af3a-06605eac0a35",
   "metadata": {},
   "outputs": [
    {
     "name": "stdout",
     "output_type": "stream",
     "text": [
      "0.9440590287524562\n",
      "0.9358650177003356\n"
     ]
    }
   ],
   "source": [
    "dc = DecisionTreeClassifier(random_state=2020).fit(X_train, y_train)\n",
    "y_pred = dc.predict(X_test)\n",
    "print(accuracy_score(y_test, y_pred))\n",
    "print(f1_score(y_test, y_pred))"
   ]
  },
  {
   "cell_type": "code",
   "execution_count": 13,
   "id": "4f4ac396-0f8d-45cb-9a1b-b51d1ac9f848",
   "metadata": {},
   "outputs": [],
   "source": [
    "test = test.drop(['id','Arrival Delay in Minutes'], axis=1)\n",
    "test = pd.get_dummies(test)[cols]\n",
    "test_pred = rf.predict(test)"
   ]
  },
  {
   "cell_type": "code",
   "execution_count": 14,
   "id": "e52c5343-3e09-41b1-9847-653288de4b8f",
   "metadata": {},
   "outputs": [],
   "source": [
    "sub[0] = test_pred\n",
    "sub.to_csv('17026.csv', index=False)"
   ]
  }
 ],
 "metadata": {
  "kernelspec": {
   "display_name": "Enjoy Data Science",
   "language": "python",
   "name": "enjoy-data-science"
  },
  "language_info": {
   "codemirror_mode": {
    "name": "ipython",
    "version": 3
   },
   "file_extension": ".py",
   "mimetype": "text/x-python",
   "name": "python",
   "nbconvert_exporter": "python",
   "pygments_lexer": "ipython3",
   "version": "3.8.10"
  }
 },
 "nbformat": 4,
 "nbformat_minor": 5
}
