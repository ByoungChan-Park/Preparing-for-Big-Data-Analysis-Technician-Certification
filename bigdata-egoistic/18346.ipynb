{
 "cells": [
  {
   "cell_type": "code",
   "execution_count": 1,
   "id": "738eb6bc-d0c4-4982-9ce7-c0f579dcf126",
   "metadata": {},
   "outputs": [],
   "source": [
    "import pandas as pd\n",
    "import numpy as np\n",
    "import scipy as sp\n",
    "\n",
    "from sklearn.preprocessing import MinMaxScaler, StandardScaler, LabelEncoder\n",
    "from sklearn.metrics import f1_score, roc_auc_score, accuracy_score, r2_score\n",
    "from sklearn.ensemble import RandomForestClassifier\n",
    "from sklearn.linear_model import LogisticRegression\n",
    "from sklearn.model_selection import train_test_split\n",
    "from sklearn.tree import DecisionTreeClassifier"
   ]
  },
  {
   "cell_type": "code",
   "execution_count": 2,
   "id": "b3065cbd-12b2-4bed-bd3e-7c213810b97f",
   "metadata": {},
   "outputs": [],
   "source": [
    "trainData = 'https://raw.githubusercontent.com/Datamanim/datarepo/main/audit/train.csv'\n",
    "testData = 'https://raw.githubusercontent.com/Datamanim/datarepo/main/audit/test.csv'\n",
    "subData = 'https://raw.githubusercontent.com/Datamanim/datarepo/main/audit/submission.csv'"
   ]
  },
  {
   "cell_type": "code",
   "execution_count": 3,
   "id": "fa680704-b8f3-49bf-9ede-fba2b7313387",
   "metadata": {},
   "outputs": [],
   "source": [
    "train = pd.read_csv(trainData)\n",
    "test = pd.read_csv(testData)\n",
    "sub = pd.read_csv(subData)"
   ]
  },
  {
   "cell_type": "code",
   "execution_count": 4,
   "id": "eaf881c5-06e3-46b8-8200-1f2458291dcb",
   "metadata": {},
   "outputs": [],
   "source": [
    "train['Money_Value'] = train['Money_Value'].fillna(train['Money_Value'].mean())"
   ]
  },
  {
   "cell_type": "code",
   "execution_count": 5,
   "id": "c3eeb7ae-c960-45cd-924f-822ea4b88c58",
   "metadata": {},
   "outputs": [],
   "source": [
    "X = train.drop(['Risk'], axis=1)\n",
    "y = train['Risk']\n",
    "\n",
    "X['LOCATION_ID'] = LabelEncoder().fit_transform(X['LOCATION_ID'])\n",
    "X['Inherent_Risk'] = StandardScaler().fit_transform(X[['Inherent_Risk']])\n",
    "X['Audit_Risk'] = StandardScaler().fit_transform(X[['Audit_Risk']])"
   ]
  },
  {
   "cell_type": "code",
   "execution_count": 6,
   "id": "fc4418e9-a32e-48f2-8fc1-a62cc02c20dd",
   "metadata": {},
   "outputs": [],
   "source": [
    "X_train, X_test, y_train, y_test = train_test_split(X, y, test_size=0.2, random_state=42)"
   ]
  },
  {
   "cell_type": "code",
   "execution_count": 7,
   "id": "b730ca32-68f0-413e-8d54-2470a035df6b",
   "metadata": {},
   "outputs": [
    {
     "data": {
      "text/plain": [
       "0.9904761904761905"
      ]
     },
     "execution_count": 7,
     "metadata": {},
     "output_type": "execute_result"
    }
   ],
   "source": [
    "rf = RandomForestClassifier(random_state=42).fit(X_train, y_train)\n",
    "y_pred = rf.predict(X_test)\n",
    "f1_score(y_test, y_pred)"
   ]
  },
  {
   "cell_type": "code",
   "execution_count": 8,
   "id": "8c28d079-6f26-4f31-ad1d-86343f4b803d",
   "metadata": {},
   "outputs": [
    {
     "data": {
      "text/plain": [
       "1.0"
      ]
     },
     "execution_count": 8,
     "metadata": {},
     "output_type": "execute_result"
    }
   ],
   "source": [
    "dt = DecisionTreeClassifier(random_state=42, max_depth=100).fit(X_train, y_train)\n",
    "y_pred = dt.predict(X_test)\n",
    "f1_score(y_test, y_pred)"
   ]
  },
  {
   "cell_type": "code",
   "execution_count": 9,
   "id": "c54cf7f9-8a77-4cd9-9d9c-fa96d4d76992",
   "metadata": {},
   "outputs": [
    {
     "data": {
      "text/plain": [
       "0.9714285714285713"
      ]
     },
     "execution_count": 9,
     "metadata": {},
     "output_type": "execute_result"
    }
   ],
   "source": [
    "lr = LogisticRegression(max_iter=1000, random_state=42).fit(X_train, y_train)\n",
    "y_pred = lr.predict(X_test)\n",
    "f1_score(y_test, y_pred)"
   ]
  },
  {
   "cell_type": "code",
   "execution_count": 10,
   "id": "2f049c8d-9fb5-4660-84f4-840404fa969e",
   "metadata": {},
   "outputs": [],
   "source": [
    "test['LOCATION_ID'] = LabelEncoder().fit_transform(test['LOCATION_ID'])\n",
    "test['Money_Value'] = test['Money_Value'].fillna(test['Money_Value'].mean())\n",
    "\n",
    "test['Inherent_Risk'] = StandardScaler().fit_transform(test[['Inherent_Risk']])\n",
    "test['Audit_Risk'] = StandardScaler().fit_transform(test[['Audit_Risk']])"
   ]
  },
  {
   "cell_type": "code",
   "execution_count": 11,
   "id": "c531c088-2854-41fa-b549-9a4193c36699",
   "metadata": {},
   "outputs": [],
   "source": [
    "test_test = lr.predict(test)\n",
    "sub['0'] = test_test\n",
    "sub.to_csv('18346.csv', index=False)"
   ]
  },
  {
   "cell_type": "code",
   "execution_count": null,
   "id": "08752ecf-0199-4864-a5de-fe9278d726dd",
   "metadata": {},
   "outputs": [],
   "source": []
  }
 ],
 "metadata": {
  "kernelspec": {
   "display_name": "Enjoy Data Science",
   "language": "python",
   "name": "enjoy-data-science"
  },
  "language_info": {
   "codemirror_mode": {
    "name": "ipython",
    "version": 3
   },
   "file_extension": ".py",
   "mimetype": "text/x-python",
   "name": "python",
   "nbconvert_exporter": "python",
   "pygments_lexer": "ipython3",
   "version": "3.8.10"
  }
 },
 "nbformat": 4,
 "nbformat_minor": 5
}
