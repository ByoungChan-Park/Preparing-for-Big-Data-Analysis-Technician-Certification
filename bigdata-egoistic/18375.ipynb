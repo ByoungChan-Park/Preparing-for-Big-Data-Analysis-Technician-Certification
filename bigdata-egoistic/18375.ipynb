{
 "cells": [
  {
   "cell_type": "code",
   "execution_count": 1,
   "id": "5baf11be-83d8-4ec9-84e8-b77e9eeea596",
   "metadata": {},
   "outputs": [],
   "source": [
    "import numpy as np\n",
    "import pandas as pd\n",
    "import scipy as sp\n",
    "\n",
    "from sklearn.preprocessing import StandardScaler, MinMaxScaler, LabelEncoder\n",
    "from sklearn.tree import DecisionTreeClassifier\n",
    "from sklearn.linear_model import LogisticRegression\n",
    "from sklearn.ensemble import RandomForestClassifier, AdaBoostClassifier, GradientBoostingClassifier\n",
    "from sklearn.metrics import f1_score, r2_score, roc_auc_score, accuracy_score\n",
    "from sklearn.model_selection import train_test_split\n",
    "from xgboost import XGBClassifier"
   ]
  },
  {
   "cell_type": "code",
   "execution_count": 2,
   "id": "f9d62a00-4886-4680-9bc4-8aee45fc8cfe",
   "metadata": {},
   "outputs": [],
   "source": [
    "trainData  = f'https://raw.githubusercontent.com/Datamanim/datarepo/main/muscle/train.csv'\n",
    "testData  = f'https://raw.githubusercontent.com/Datamanim/datarepo/main/muscle/test.csv'\n",
    "subData  = f'https://raw.githubusercontent.com/Datamanim/datarepo/main/muscle/submission.csv'"
   ]
  },
  {
   "cell_type": "code",
   "execution_count": 3,
   "id": "d3785d7d-c660-44cc-a649-9da5772b7e26",
   "metadata": {},
   "outputs": [],
   "source": [
    "train = pd.read_csv(trainData)\n",
    "test = pd.read_csv(testData)\n",
    "sub = pd.read_csv(subData)"
   ]
  },
  {
   "cell_type": "code",
   "execution_count": 4,
   "id": "8dc551a3-5055-4ac3-ad66-ada6f88074e2",
   "metadata": {},
   "outputs": [],
   "source": [
    "X = train.drop(['pose'], axis=1)\n",
    "y = train['pose']\n",
    "\n",
    "X = StandardScaler().fit_transform(X)"
   ]
  },
  {
   "cell_type": "code",
   "execution_count": 5,
   "id": "1636d2d5-dfd6-4e4d-ad48-d5db852fc30e",
   "metadata": {},
   "outputs": [],
   "source": [
    "X_train, X_test, y_train, y_test = train_test_split(X, y, test_size=0.2, random_state=42)"
   ]
  },
  {
   "cell_type": "code",
   "execution_count": 6,
   "id": "8f2e51c7-99bb-43ea-8d9e-31577f49602c",
   "metadata": {},
   "outputs": [
    {
     "data": {
      "text/plain": [
       "0.9936708860759494"
      ]
     },
     "execution_count": 6,
     "metadata": {},
     "output_type": "execute_result"
    }
   ],
   "source": [
    "rf = RandomForestClassifier().fit(X_train, y_train)\n",
    "y_pred = rf.predict(X_test)\n",
    "f1_score(y_test, y_pred)"
   ]
  },
  {
   "cell_type": "code",
   "execution_count": 7,
   "id": "56652a52-f9df-40fb-865f-3fa0bc6a9d8c",
   "metadata": {},
   "outputs": [
    {
     "data": {
      "text/plain": [
       "0.9957894736842106"
      ]
     },
     "execution_count": 7,
     "metadata": {},
     "output_type": "execute_result"
    }
   ],
   "source": [
    "ab = AdaBoostClassifier().fit(X_train, y_train)\n",
    "y_pred = ab.predict(X_test)\n",
    "f1_score(y_test, y_pred)"
   ]
  },
  {
   "cell_type": "code",
   "execution_count": 8,
   "id": "f44966a8-0a0c-4330-a14d-4804f3ce92c5",
   "metadata": {},
   "outputs": [
    {
     "data": {
      "text/plain": [
       "0.9957983193277311"
      ]
     },
     "execution_count": 8,
     "metadata": {},
     "output_type": "execute_result"
    }
   ],
   "source": [
    "gb = GradientBoostingClassifier().fit(X_train, y_train)\n",
    "y_pred = gb.predict(X_test)\n",
    "f1_score(y_test, y_pred)"
   ]
  },
  {
   "cell_type": "code",
   "execution_count": 9,
   "id": "691e3dcb-fa78-47f5-82b4-26521af59f93",
   "metadata": {},
   "outputs": [
    {
     "data": {
      "text/plain": [
       "0.6322067594433399"
      ]
     },
     "execution_count": 9,
     "metadata": {},
     "output_type": "execute_result"
    }
   ],
   "source": [
    "lr = LogisticRegression(random_state=42).fit(X_train, y_train)\n",
    "y_pred = lr.predict(X_test)\n",
    "f1_score(y_test, y_pred)"
   ]
  },
  {
   "cell_type": "code",
   "execution_count": 10,
   "id": "8ced0195-a51f-4226-960f-755284e245ef",
   "metadata": {},
   "outputs": [
    {
     "data": {
      "text/plain": [
       "0.9978991596638656"
      ]
     },
     "execution_count": 10,
     "metadata": {},
     "output_type": "execute_result"
    }
   ],
   "source": [
    "xg = XGBClassifier(random_state=42, eval_metric='mlogloss', use_label_encoder=False).fit(X_train, y_train)\n",
    "y_pred = xg.predict(X_test)\n",
    "f1_score(y_test, y_pred)"
   ]
  },
  {
   "cell_type": "code",
   "execution_count": 12,
   "id": "6c729bc0-36ba-47d5-9509-6ba897857866",
   "metadata": {},
   "outputs": [],
   "source": [
    "# test = test.drop(['pose'], axis=1)\n",
    "test = StandardScaler().fit_transform(test)"
   ]
  },
  {
   "cell_type": "code",
   "execution_count": 13,
   "id": "9b2fc12d-c1f5-4048-aa92-73e6c1931331",
   "metadata": {},
   "outputs": [],
   "source": [
    "test_pred = rf.predict(test)\n",
    "sub['0'] = test_pred\n",
    "sub.to_csv('18375.csv', index=False)"
   ]
  }
 ],
 "metadata": {
  "kernelspec": {
   "display_name": "Enjoy Data Science",
   "language": "python",
   "name": "enjoy-data-science"
  },
  "language_info": {
   "codemirror_mode": {
    "name": "ipython",
    "version": 3
   },
   "file_extension": ".py",
   "mimetype": "text/x-python",
   "name": "python",
   "nbconvert_exporter": "python",
   "pygments_lexer": "ipython3",
   "version": "3.8.10"
  }
 },
 "nbformat": 4,
 "nbformat_minor": 5
}
