{
 "cells": [
  {
   "cell_type": "code",
   "execution_count": 1,
   "id": "e06eb813-cb25-4b11-8f7c-70399100fa4a",
   "metadata": {},
   "outputs": [],
   "source": [
    "import pandas as pd\n",
    "import numpy as np"
   ]
  },
  {
   "cell_type": "code",
   "execution_count": 2,
   "id": "8567c80f-9d05-4ded-94fc-fc93dc12a787",
   "metadata": {},
   "outputs": [],
   "source": [
    "df = pd.read_csv('https://raw.githubusercontent.com/Datamanim/datarepo/main/drug/train.csv')"
   ]
  },
  {
   "cell_type": "markdown",
   "id": "b09e286a-ac41-47a8-a314-f9c771b8db71",
   "metadata": {},
   "source": [
    "### Q1. 남성들의 연령대별 (10살씩 구분 0 ~ 9세 10 ~ 19세 ...) Na_to_K값의 평균값을 구해서 데이터 프레임으로 표현하여라"
   ]
  },
  {
   "cell_type": "code",
   "execution_count": 52,
   "id": "7ab51b72-1c53-4940-9591-3a3434033cad",
   "metadata": {
    "tags": []
   },
   "outputs": [],
   "source": [
    "df1 = df.loc[df['Sex'] == 'M'].copy()\n",
    "df1['Age_Bin'] = df1.loc[:,('Age')]//10*10\n",
    "df1['Age_Bin2'] = pd.cut(df1['Age'], bins=[9,19,29,39,49,59,69,79], labels=[10,20,30,40,50,60,70], right=False)\n",
    "df1['Age_Bin3'] = pd.cut(df1['Age'], bins=[10,20,30,40,50,60,70,80], labels=[10,20,30,40,50,60,70], right=True)\n",
    "# < , <= right=False\n",
    "# <=, < right=True"
   ]
  },
  {
   "cell_type": "code",
   "execution_count": 46,
   "id": "1b2f493a-d4cf-424f-92e7-95bc9d240e3c",
   "metadata": {},
   "outputs": [
    {
     "data": {
      "text/html": [
       "<div>\n",
       "<style scoped>\n",
       "    .dataframe tbody tr th:only-of-type {\n",
       "        vertical-align: middle;\n",
       "    }\n",
       "\n",
       "    .dataframe tbody tr th {\n",
       "        vertical-align: top;\n",
       "    }\n",
       "\n",
       "    .dataframe thead th {\n",
       "        text-align: right;\n",
       "    }\n",
       "</style>\n",
       "<table border=\"1\" class=\"dataframe\">\n",
       "  <thead>\n",
       "    <tr style=\"text-align: right;\">\n",
       "      <th></th>\n",
       "      <th>Na_to_K</th>\n",
       "    </tr>\n",
       "    <tr>\n",
       "      <th>Age_Bin</th>\n",
       "      <th></th>\n",
       "    </tr>\n",
       "  </thead>\n",
       "  <tbody>\n",
       "    <tr>\n",
       "      <th>10</th>\n",
       "      <td>13.627000</td>\n",
       "    </tr>\n",
       "    <tr>\n",
       "      <th>20</th>\n",
       "      <td>18.260769</td>\n",
       "    </tr>\n",
       "    <tr>\n",
       "      <th>30</th>\n",
       "      <td>15.244143</td>\n",
       "    </tr>\n",
       "    <tr>\n",
       "      <th>40</th>\n",
       "      <td>13.897273</td>\n",
       "    </tr>\n",
       "    <tr>\n",
       "      <th>50</th>\n",
       "      <td>14.811273</td>\n",
       "    </tr>\n",
       "    <tr>\n",
       "      <th>60</th>\n",
       "      <td>14.284308</td>\n",
       "    </tr>\n",
       "    <tr>\n",
       "      <th>70</th>\n",
       "      <td>11.363857</td>\n",
       "    </tr>\n",
       "  </tbody>\n",
       "</table>\n",
       "</div>"
      ],
      "text/plain": [
       "           Na_to_K\n",
       "Age_Bin           \n",
       "10       13.627000\n",
       "20       18.260769\n",
       "30       15.244143\n",
       "40       13.897273\n",
       "50       14.811273\n",
       "60       14.284308\n",
       "70       11.363857"
      ]
     },
     "execution_count": 46,
     "metadata": {},
     "output_type": "execute_result"
    }
   ],
   "source": [
    "pd.DataFrame(df1.groupby('Age_Bin').mean()['Na_to_K'], columns=['Na_to_K'])"
   ]
  },
  {
   "cell_type": "code",
   "execution_count": 47,
   "id": "91afc1e8-c11c-464c-9e2b-12d9b7ea35d3",
   "metadata": {},
   "outputs": [
    {
     "data": {
      "text/html": [
       "<div>\n",
       "<style scoped>\n",
       "    .dataframe tbody tr th:only-of-type {\n",
       "        vertical-align: middle;\n",
       "    }\n",
       "\n",
       "    .dataframe tbody tr th {\n",
       "        vertical-align: top;\n",
       "    }\n",
       "\n",
       "    .dataframe thead th {\n",
       "        text-align: right;\n",
       "    }\n",
       "</style>\n",
       "<table border=\"1\" class=\"dataframe\">\n",
       "  <thead>\n",
       "    <tr style=\"text-align: right;\">\n",
       "      <th></th>\n",
       "      <th>Na_to_K</th>\n",
       "    </tr>\n",
       "    <tr>\n",
       "      <th>Age_Bin2</th>\n",
       "      <th></th>\n",
       "    </tr>\n",
       "  </thead>\n",
       "  <tbody>\n",
       "    <tr>\n",
       "      <th>10</th>\n",
       "      <td>13.627000</td>\n",
       "    </tr>\n",
       "    <tr>\n",
       "      <th>20</th>\n",
       "      <td>18.260769</td>\n",
       "    </tr>\n",
       "    <tr>\n",
       "      <th>30</th>\n",
       "      <td>15.244143</td>\n",
       "    </tr>\n",
       "    <tr>\n",
       "      <th>40</th>\n",
       "      <td>13.897273</td>\n",
       "    </tr>\n",
       "    <tr>\n",
       "      <th>50</th>\n",
       "      <td>14.811273</td>\n",
       "    </tr>\n",
       "    <tr>\n",
       "      <th>60</th>\n",
       "      <td>14.284308</td>\n",
       "    </tr>\n",
       "    <tr>\n",
       "      <th>70</th>\n",
       "      <td>11.363857</td>\n",
       "    </tr>\n",
       "  </tbody>\n",
       "</table>\n",
       "</div>"
      ],
      "text/plain": [
       "            Na_to_K\n",
       "Age_Bin2           \n",
       "10        13.627000\n",
       "20        18.260769\n",
       "30        15.244143\n",
       "40        13.897273\n",
       "50        14.811273\n",
       "60        14.284308\n",
       "70        11.363857"
      ]
     },
     "execution_count": 47,
     "metadata": {},
     "output_type": "execute_result"
    }
   ],
   "source": [
    "pd.DataFrame(df1.groupby('Age_Bin2').mean()['Na_to_K'], columns=['Na_to_K'])"
   ]
  },
  {
   "cell_type": "code",
   "execution_count": 53,
   "id": "91a81fb3-b7d9-4d5e-9d37-80739e6364a1",
   "metadata": {},
   "outputs": [
    {
     "data": {
      "text/html": [
       "<div>\n",
       "<style scoped>\n",
       "    .dataframe tbody tr th:only-of-type {\n",
       "        vertical-align: middle;\n",
       "    }\n",
       "\n",
       "    .dataframe tbody tr th {\n",
       "        vertical-align: top;\n",
       "    }\n",
       "\n",
       "    .dataframe thead th {\n",
       "        text-align: right;\n",
       "    }\n",
       "</style>\n",
       "<table border=\"1\" class=\"dataframe\">\n",
       "  <thead>\n",
       "    <tr style=\"text-align: right;\">\n",
       "      <th></th>\n",
       "      <th>Na_to_K</th>\n",
       "    </tr>\n",
       "    <tr>\n",
       "      <th>Age_Bin3</th>\n",
       "      <th></th>\n",
       "    </tr>\n",
       "  </thead>\n",
       "  <tbody>\n",
       "    <tr>\n",
       "      <th>10</th>\n",
       "      <td>17.295667</td>\n",
       "    </tr>\n",
       "    <tr>\n",
       "      <th>20</th>\n",
       "      <td>16.812583</td>\n",
       "    </tr>\n",
       "    <tr>\n",
       "      <th>30</th>\n",
       "      <td>16.082933</td>\n",
       "    </tr>\n",
       "    <tr>\n",
       "      <th>40</th>\n",
       "      <td>12.972909</td>\n",
       "    </tr>\n",
       "    <tr>\n",
       "      <th>50</th>\n",
       "      <td>14.954917</td>\n",
       "    </tr>\n",
       "    <tr>\n",
       "      <th>60</th>\n",
       "      <td>14.293333</td>\n",
       "    </tr>\n",
       "    <tr>\n",
       "      <th>70</th>\n",
       "      <td>11.616333</td>\n",
       "    </tr>\n",
       "  </tbody>\n",
       "</table>\n",
       "</div>"
      ],
      "text/plain": [
       "            Na_to_K\n",
       "Age_Bin3           \n",
       "10        17.295667\n",
       "20        16.812583\n",
       "30        16.082933\n",
       "40        12.972909\n",
       "50        14.954917\n",
       "60        14.293333\n",
       "70        11.616333"
      ]
     },
     "execution_count": 53,
     "metadata": {},
     "output_type": "execute_result"
    }
   ],
   "source": [
    "pd.DataFrame(df1.groupby('Age_Bin3').mean()['Na_to_K'], columns=['Na_to_K'])"
   ]
  },
  {
   "cell_type": "code",
   "execution_count": 55,
   "id": "70fce1f5-85a9-4acb-8058-da7f69604d0d",
   "metadata": {
    "collapsed": true,
    "jupyter": {
     "outputs_hidden": true
    },
    "tags": []
   },
   "outputs": [
    {
     "data": {
      "text/plain": [
       "1      (20, 30]\n",
       "2      (30, 40]\n",
       "3      (10, 20]\n",
       "4      (70, 80]\n",
       "6      (20, 30]\n",
       "         ...   \n",
       "149    (60, 70]\n",
       "150    (30, 40]\n",
       "151    (50, 60]\n",
       "155    (50, 60]\n",
       "156    (10, 20]\n",
       "Name: Age, Length: 85, dtype: category\n",
       "Categories (7, interval[int64]): [(10, 20] < (20, 30] < (30, 40] < (40, 50] < (50, 60] < (60, 70] < (70, 80]]"
      ]
     },
     "execution_count": 55,
     "metadata": {},
     "output_type": "execute_result"
    }
   ],
   "source": [
    "pd.cut(df1['Age'], bins=[10,20,30,40,50,60,70,80], right=True)"
   ]
  },
  {
   "cell_type": "code",
   "execution_count": null,
   "id": "9962b728-a985-4711-8535-fb9e2461f716",
   "metadata": {},
   "outputs": [],
   "source": []
  }
 ],
 "metadata": {
  "kernelspec": {
   "display_name": "Enjoy Data Science",
   "language": "python",
   "name": "enjoy-data-science"
  },
  "language_info": {
   "codemirror_mode": {
    "name": "ipython",
    "version": 3
   },
   "file_extension": ".py",
   "mimetype": "text/x-python",
   "name": "python",
   "nbconvert_exporter": "python",
   "pygments_lexer": "ipython3",
   "version": "3.8.10"
  }
 },
 "nbformat": 4,
 "nbformat_minor": 5
}
