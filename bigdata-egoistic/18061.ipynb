{
 "cells": [
  {
   "cell_type": "code",
   "execution_count": 1,
   "id": "ba010c91-aff5-439c-955e-eef4fc6fb11b",
   "metadata": {},
   "outputs": [],
   "source": [
    "import numpy as np\n",
    "import pandas as pd\n",
    "import scipy as sp\n",
    "\n",
    "from sklearn.metrics import accuracy_score, roc_auc_score, f1_score, r2_score\n",
    "from sklearn.model_selection import train_test_split, GridSearchCV\n",
    "from sklearn.pipeline import Pipeline\n",
    "from sklearn.ensemble import RandomForestClassifier, AdaBoostClassifier, GradientBoostingClassifier\n",
    "from sklearn.tree import DecisionTreeClassifier\n",
    "from sklearn.linear_model import LogisticRegression\n",
    "from sklearn.preprocessing import StandardScaler, MinMaxScaler, LabelEncoder\n",
    "from sklearn.svm import SVC"
   ]
  },
  {
   "cell_type": "code",
   "execution_count": 2,
   "id": "caf0150b-7415-4908-ad17-302fa4e075d9",
   "metadata": {},
   "outputs": [],
   "source": [
    "trainData  = 'https://raw.githubusercontent.com/Datamanim/datarepo/main/drug/train.csv'\n",
    "testData  = 'https://raw.githubusercontent.com/Datamanim/datarepo/main/drug/test.csv'\n",
    "subData  = 'https://raw.githubusercontent.com/Datamanim/datarepo/main/drug/submission.csv'"
   ]
  },
  {
   "cell_type": "code",
   "execution_count": 3,
   "id": "e8a5daf6-e58c-4a4d-bc95-87914854dfc7",
   "metadata": {},
   "outputs": [],
   "source": [
    "train = pd.read_csv(trainData)\n",
    "test = pd.read_csv(testData)\n",
    "sub = pd.read_csv(subData)"
   ]
  },
  {
   "cell_type": "code",
   "execution_count": 4,
   "id": "fdc30805-7227-4bae-8c3f-04823a5cb72c",
   "metadata": {},
   "outputs": [],
   "source": [
    "X = train.drop(['Drug'], axis=1)\n",
    "y = train['Drug']"
   ]
  },
  {
   "cell_type": "code",
   "execution_count": 5,
   "id": "017d92ea-8e56-4e85-bc24-b08c05299638",
   "metadata": {},
   "outputs": [],
   "source": [
    "X['Sex'] = LabelEncoder().fit_transform(X['Sex'])\n",
    "X['BP'] = LabelEncoder().fit_transform(X['BP'])\n",
    "X['Cholesterol'] = LabelEncoder().fit_transform(X['Cholesterol'])\n",
    "\n",
    "X['Na_to_K'] = StandardScaler().fit_transform(X[['Na_to_K']])"
   ]
  },
  {
   "cell_type": "code",
   "execution_count": 6,
   "id": "7b61d775-23cc-403f-b6f6-a2cef371786a",
   "metadata": {},
   "outputs": [],
   "source": [
    "X_train, X_test, y_train, y_test = train_test_split(X, y, test_size=0.3, random_state=42)"
   ]
  },
  {
   "cell_type": "code",
   "execution_count": 7,
   "id": "9c7e7874-83dd-44ca-aeea-ac31594cadd2",
   "metadata": {},
   "outputs": [
    {
     "data": {
      "text/plain": [
       "1.0"
      ]
     },
     "execution_count": 7,
     "metadata": {},
     "output_type": "execute_result"
    }
   ],
   "source": [
    "pipe = Pipeline([('scaler', StandardScaler()),('model', RandomForestClassifier())])\n",
    "params = [{'model__random_state':[1, 10, 100], 'model__n_jobs':[1, 10, 100]}]\n",
    "cv = GridSearchCV(pipe, params).fit(X_train, y_train)\n",
    "y_pred = cv.predict(X_test)\n",
    "accuracy_score(y_test, y_pred)"
   ]
  },
  {
   "cell_type": "code",
   "execution_count": 8,
   "id": "12e715ed-422d-4134-a992-d5d8c8a84502",
   "metadata": {},
   "outputs": [
    {
     "data": {
      "text/plain": [
       "1.0"
      ]
     },
     "execution_count": 8,
     "metadata": {},
     "output_type": "execute_result"
    }
   ],
   "source": [
    "rf = RandomForestClassifier(random_state=42).fit(X_train, y_train)\n",
    "y_pred = rf.predict(X_test)\n",
    "accuracy_score(y_test, y_pred)"
   ]
  },
  {
   "cell_type": "code",
   "execution_count": 9,
   "id": "d3d339b3-697b-4b31-b05f-b97c7c1bf973",
   "metadata": {},
   "outputs": [
    {
     "data": {
      "text/plain": [
       "0.9375"
      ]
     },
     "execution_count": 9,
     "metadata": {},
     "output_type": "execute_result"
    }
   ],
   "source": [
    "ab = AdaBoostClassifier(random_state=42).fit(X_train, y_train)\n",
    "y_pred = ab.predict(X_test)\n",
    "accuracy_score(y_test, y_pred)"
   ]
  },
  {
   "cell_type": "code",
   "execution_count": 10,
   "id": "8befc684-2196-47ad-bc99-e0bbfa7b4188",
   "metadata": {},
   "outputs": [
    {
     "data": {
      "text/plain": [
       "1.0"
      ]
     },
     "execution_count": 10,
     "metadata": {},
     "output_type": "execute_result"
    }
   ],
   "source": [
    "gb = GradientBoostingClassifier(random_state=42).fit(X_train, y_train)\n",
    "y_pred = gb.predict(X_test)\n",
    "accuracy_score(y_test, y_pred)"
   ]
  },
  {
   "cell_type": "code",
   "execution_count": 11,
   "id": "ae820948-5780-4705-9723-3126a3712698",
   "metadata": {},
   "outputs": [
    {
     "data": {
      "text/plain": [
       "1.0"
      ]
     },
     "execution_count": 11,
     "metadata": {},
     "output_type": "execute_result"
    }
   ],
   "source": [
    "dt = DecisionTreeClassifier(random_state=42).fit(X_train, y_train)\n",
    "y_pred = dt.predict(X_test)\n",
    "accuracy_score(y_test, y_pred)"
   ]
  },
  {
   "cell_type": "code",
   "execution_count": 12,
   "id": "82e62a25-0a51-432c-9e07-1d0aac88ab85",
   "metadata": {},
   "outputs": [
    {
     "data": {
      "text/plain": [
       "0.5416666666666666"
      ]
     },
     "execution_count": 12,
     "metadata": {},
     "output_type": "execute_result"
    }
   ],
   "source": [
    "svc = SVC(gamma='auto').fit(X_train, y_train)\n",
    "y_pred = svc.predict(X_test)\n",
    "accuracy_score(y_test, y_pred)"
   ]
  },
  {
   "cell_type": "code",
   "execution_count": 13,
   "id": "a1a84021-152f-4d09-aaee-2894ffd351f6",
   "metadata": {},
   "outputs": [],
   "source": [
    "test['Sex'] = LabelEncoder().fit_transform(test['Sex'])\n",
    "test['BP'] = LabelEncoder().fit_transform(test['BP'])\n",
    "test['Cholesterol'] = LabelEncoder().fit_transform(test['Cholesterol'])\n",
    "test['Na_to_K'] = StandardScaler().fit_transform(test[['Na_to_K']])\n",
    "\n",
    "sub['0'] = ab.predict(test)\n",
    "sub.to_csv('18061.csv', index=False)"
   ]
  }
 ],
 "metadata": {
  "kernelspec": {
   "display_name": "Enjoy Data Science",
   "language": "python",
   "name": "enjoy-data-science"
  },
  "language_info": {
   "codemirror_mode": {
    "name": "ipython",
    "version": 3
   },
   "file_extension": ".py",
   "mimetype": "text/x-python",
   "name": "python",
   "nbconvert_exporter": "python",
   "pygments_lexer": "ipython3",
   "version": "3.8.5"
  }
 },
 "nbformat": 4,
 "nbformat_minor": 5
}
