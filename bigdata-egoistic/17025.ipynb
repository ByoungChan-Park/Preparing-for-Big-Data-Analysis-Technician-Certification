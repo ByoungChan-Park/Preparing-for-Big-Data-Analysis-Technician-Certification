{
 "cells": [
  {
   "cell_type": "code",
   "execution_count": 1,
   "id": "53c6a0d9-9870-437d-83c0-c43790d8a78b",
   "metadata": {},
   "outputs": [],
   "source": [
    "import pandas as pd"
   ]
  },
  {
   "cell_type": "code",
   "execution_count": 2,
   "id": "dc3e4a32-5ce3-4184-97c1-49c3b3ea99d7",
   "metadata": {},
   "outputs": [],
   "source": [
    "df = pd.read_csv(\"https://raw.githubusercontent.com/Datamanim/datarepo/main/airline/train.csv\")"
   ]
  },
  {
   "cell_type": "markdown",
   "id": "8e9e1948-95b6-4708-8fd9-fefcb2059f8f",
   "metadata": {},
   "source": [
    "### Q1 Arrival Delay in Minutes 컬럼이 결측치인 데이터들 중 'neutral or dissatisfied' 보다 'satisfied'의 수가 더 높은 Class는 어디 인가?"
   ]
  },
  {
   "cell_type": "code",
   "execution_count": 22,
   "id": "390cd332-cae0-4be7-9515-21e45613a51d",
   "metadata": {},
   "outputs": [],
   "source": [
    "df1 = df[df['Arrival Delay in Minutes'].isnull()]\n",
    "df2 = df1.groupby(['Class', 'satisfaction'], as_index=False).size()\n",
    "df3 = df2.pivot(index='Class', columns='satisfaction', values='size')\n",
    "df4 = df3[df3['neutral or dissatisfied'] < df3['satisfied']]"
   ]
  },
  {
   "cell_type": "code",
   "execution_count": 37,
   "id": "813c0633-66e2-4ab1-8bf4-e865054b18b3",
   "metadata": {},
   "outputs": [
    {
     "data": {
      "text/html": [
       "<div>\n",
       "<style scoped>\n",
       "    .dataframe tbody tr th:only-of-type {\n",
       "        vertical-align: middle;\n",
       "    }\n",
       "\n",
       "    .dataframe tbody tr th {\n",
       "        vertical-align: top;\n",
       "    }\n",
       "\n",
       "    .dataframe thead th {\n",
       "        text-align: right;\n",
       "    }\n",
       "</style>\n",
       "<table border=\"1\" class=\"dataframe\">\n",
       "  <thead>\n",
       "    <tr style=\"text-align: right;\">\n",
       "      <th></th>\n",
       "      <th>Class</th>\n",
       "      <th>satisfaction</th>\n",
       "      <th>size</th>\n",
       "    </tr>\n",
       "  </thead>\n",
       "  <tbody>\n",
       "    <tr>\n",
       "      <th>0</th>\n",
       "      <td>Business</td>\n",
       "      <td>neutral or dissatisfied</td>\n",
       "      <td>36</td>\n",
       "    </tr>\n",
       "    <tr>\n",
       "      <th>1</th>\n",
       "      <td>Business</td>\n",
       "      <td>satisfied</td>\n",
       "      <td>76</td>\n",
       "    </tr>\n",
       "    <tr>\n",
       "      <th>2</th>\n",
       "      <td>Eco</td>\n",
       "      <td>neutral or dissatisfied</td>\n",
       "      <td>100</td>\n",
       "    </tr>\n",
       "    <tr>\n",
       "      <th>3</th>\n",
       "      <td>Eco</td>\n",
       "      <td>satisfied</td>\n",
       "      <td>25</td>\n",
       "    </tr>\n",
       "    <tr>\n",
       "      <th>4</th>\n",
       "      <td>Eco Plus</td>\n",
       "      <td>neutral or dissatisfied</td>\n",
       "      <td>15</td>\n",
       "    </tr>\n",
       "    <tr>\n",
       "      <th>5</th>\n",
       "      <td>Eco Plus</td>\n",
       "      <td>satisfied</td>\n",
       "      <td>4</td>\n",
       "    </tr>\n",
       "  </tbody>\n",
       "</table>\n",
       "</div>"
      ],
      "text/plain": [
       "      Class             satisfaction  size\n",
       "0  Business  neutral or dissatisfied    36\n",
       "1  Business                satisfied    76\n",
       "2       Eco  neutral or dissatisfied   100\n",
       "3       Eco                satisfied    25\n",
       "4  Eco Plus  neutral or dissatisfied    15\n",
       "5  Eco Plus                satisfied     4"
      ]
     },
     "execution_count": 37,
     "metadata": {},
     "output_type": "execute_result"
    }
   ],
   "source": [
    "df2"
   ]
  },
  {
   "cell_type": "code",
   "execution_count": 36,
   "id": "a5c84931-b442-4543-a488-4853629e6fbe",
   "metadata": {},
   "outputs": [
    {
     "data": {
      "text/plain": [
       "0  Class                          Business\n",
       "   satisfaction    neutral or dissatisfied\n",
       "   size                                 36\n",
       "1  Class                          Business\n",
       "   satisfaction                  satisfied\n",
       "   size                                 76\n",
       "2  Class                               Eco\n",
       "   satisfaction    neutral or dissatisfied\n",
       "   size                                100\n",
       "3  Class                               Eco\n",
       "   satisfaction                  satisfied\n",
       "   size                                 25\n",
       "4  Class                          Eco Plus\n",
       "   satisfaction    neutral or dissatisfied\n",
       "   size                                 15\n",
       "5  Class                          Eco Plus\n",
       "   satisfaction                  satisfied\n",
       "   size                                  4\n",
       "dtype: object"
      ]
     },
     "execution_count": 36,
     "metadata": {},
     "output_type": "execute_result"
    }
   ],
   "source": [
    "df2.stack()"
   ]
  },
  {
   "cell_type": "code",
   "execution_count": 38,
   "id": "d82dae25-b6ac-49d9-8a99-d2d92d94bd93",
   "metadata": {},
   "outputs": [
    {
     "data": {
      "text/plain": [
       "Class         0                   Business\n",
       "              1                   Business\n",
       "              2                        Eco\n",
       "              3                        Eco\n",
       "              4                   Eco Plus\n",
       "              5                   Eco Plus\n",
       "satisfaction  0    neutral or dissatisfied\n",
       "              1                  satisfied\n",
       "              2    neutral or dissatisfied\n",
       "              3                  satisfied\n",
       "              4    neutral or dissatisfied\n",
       "              5                  satisfied\n",
       "size          0                         36\n",
       "              1                         76\n",
       "              2                        100\n",
       "              3                         25\n",
       "              4                         15\n",
       "              5                          4\n",
       "dtype: object"
      ]
     },
     "execution_count": 38,
     "metadata": {},
     "output_type": "execute_result"
    }
   ],
   "source": [
    "df2.unstack()"
   ]
  },
  {
   "cell_type": "code",
   "execution_count": null,
   "id": "5ec91d90-f75c-4818-b540-2deda47dabbf",
   "metadata": {},
   "outputs": [],
   "source": []
  }
 ],
 "metadata": {
  "kernelspec": {
   "display_name": "Enjoy Data Science",
   "language": "python",
   "name": "enjoy-data-science"
  },
  "language_info": {
   "codemirror_mode": {
    "name": "ipython",
    "version": 3
   },
   "file_extension": ".py",
   "mimetype": "text/x-python",
   "name": "python",
   "nbconvert_exporter": "python",
   "pygments_lexer": "ipython3",
   "version": "3.8.10"
  }
 },
 "nbformat": 4,
 "nbformat_minor": 5
}
