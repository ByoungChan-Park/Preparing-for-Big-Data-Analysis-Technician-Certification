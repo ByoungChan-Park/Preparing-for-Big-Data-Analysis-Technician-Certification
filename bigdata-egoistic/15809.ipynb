{
 "cells": [
  {
   "cell_type": "code",
   "execution_count": 1,
   "id": "present-worst",
   "metadata": {},
   "outputs": [],
   "source": [
    "import pandas as pd"
   ]
  },
  {
   "cell_type": "code",
   "execution_count": 2,
   "id": "considered-vitamin",
   "metadata": {},
   "outputs": [],
   "source": [
    "df = pd.read_csv('https://raw.githubusercontent.com/Datamanim/datarepo/main/churn/train.csv')"
   ]
  },
  {
   "cell_type": "code",
   "execution_count": 3,
   "id": "incredible-potato",
   "metadata": {},
   "outputs": [
    {
     "data": {
      "text/html": [
       "<div>\n",
       "<style scoped>\n",
       "    .dataframe tbody tr th:only-of-type {\n",
       "        vertical-align: middle;\n",
       "    }\n",
       "\n",
       "    .dataframe tbody tr th {\n",
       "        vertical-align: top;\n",
       "    }\n",
       "\n",
       "    .dataframe thead th {\n",
       "        text-align: right;\n",
       "    }\n",
       "</style>\n",
       "<table border=\"1\" class=\"dataframe\">\n",
       "  <thead>\n",
       "    <tr style=\"text-align: right;\">\n",
       "      <th></th>\n",
       "      <th>RowNumber</th>\n",
       "      <th>CustomerId</th>\n",
       "      <th>Surname</th>\n",
       "      <th>CreditScore</th>\n",
       "      <th>Geography</th>\n",
       "      <th>Gender</th>\n",
       "      <th>Age</th>\n",
       "      <th>Tenure</th>\n",
       "      <th>Balance</th>\n",
       "      <th>NumOfProducts</th>\n",
       "      <th>HasCrCard</th>\n",
       "      <th>IsActiveMember</th>\n",
       "      <th>EstimatedSalary</th>\n",
       "      <th>Exited</th>\n",
       "    </tr>\n",
       "  </thead>\n",
       "  <tbody>\n",
       "    <tr>\n",
       "      <th>0</th>\n",
       "      <td>6842</td>\n",
       "      <td>15793491</td>\n",
       "      <td>Cherkasova</td>\n",
       "      <td>714</td>\n",
       "      <td>Germany</td>\n",
       "      <td>Male</td>\n",
       "      <td>26</td>\n",
       "      <td>3</td>\n",
       "      <td>119545.48</td>\n",
       "      <td>2</td>\n",
       "      <td>1</td>\n",
       "      <td>0</td>\n",
       "      <td>65482.94</td>\n",
       "      <td>0</td>\n",
       "    </tr>\n",
       "    <tr>\n",
       "      <th>1</th>\n",
       "      <td>8963</td>\n",
       "      <td>15607874</td>\n",
       "      <td>Keane</td>\n",
       "      <td>687</td>\n",
       "      <td>France</td>\n",
       "      <td>Male</td>\n",
       "      <td>38</td>\n",
       "      <td>0</td>\n",
       "      <td>144450.58</td>\n",
       "      <td>1</td>\n",
       "      <td>0</td>\n",
       "      <td>1</td>\n",
       "      <td>137276.83</td>\n",
       "      <td>0</td>\n",
       "    </tr>\n",
       "    <tr>\n",
       "      <th>2</th>\n",
       "      <td>7047</td>\n",
       "      <td>15737627</td>\n",
       "      <td>Rivero</td>\n",
       "      <td>589</td>\n",
       "      <td>Germany</td>\n",
       "      <td>Female</td>\n",
       "      <td>20</td>\n",
       "      <td>2</td>\n",
       "      <td>121093.29</td>\n",
       "      <td>2</td>\n",
       "      <td>1</td>\n",
       "      <td>0</td>\n",
       "      <td>3529.72</td>\n",
       "      <td>0</td>\n",
       "    </tr>\n",
       "    <tr>\n",
       "      <th>3</th>\n",
       "      <td>7503</td>\n",
       "      <td>15697844</td>\n",
       "      <td>Whitehouse</td>\n",
       "      <td>721</td>\n",
       "      <td>Spain</td>\n",
       "      <td>Female</td>\n",
       "      <td>32</td>\n",
       "      <td>10</td>\n",
       "      <td>0.00</td>\n",
       "      <td>1</td>\n",
       "      <td>1</td>\n",
       "      <td>0</td>\n",
       "      <td>136119.96</td>\n",
       "      <td>1</td>\n",
       "    </tr>\n",
       "    <tr>\n",
       "      <th>4</th>\n",
       "      <td>3439</td>\n",
       "      <td>15722404</td>\n",
       "      <td>Carpenter</td>\n",
       "      <td>445</td>\n",
       "      <td>France</td>\n",
       "      <td>Female</td>\n",
       "      <td>30</td>\n",
       "      <td>3</td>\n",
       "      <td>0.00</td>\n",
       "      <td>2</td>\n",
       "      <td>1</td>\n",
       "      <td>1</td>\n",
       "      <td>127939.19</td>\n",
       "      <td>0</td>\n",
       "    </tr>\n",
       "  </tbody>\n",
       "</table>\n",
       "</div>"
      ],
      "text/plain": [
       "   RowNumber  CustomerId     Surname  CreditScore Geography  Gender  Age  \\\n",
       "0       6842    15793491  Cherkasova          714   Germany    Male   26   \n",
       "1       8963    15607874       Keane          687    France    Male   38   \n",
       "2       7047    15737627      Rivero          589   Germany  Female   20   \n",
       "3       7503    15697844  Whitehouse          721     Spain  Female   32   \n",
       "4       3439    15722404   Carpenter          445    France  Female   30   \n",
       "\n",
       "   Tenure    Balance  NumOfProducts  HasCrCard  IsActiveMember  \\\n",
       "0       3  119545.48              2          1               0   \n",
       "1       0  144450.58              1          0               1   \n",
       "2       2  121093.29              2          1               0   \n",
       "3      10       0.00              1          1               0   \n",
       "4       3       0.00              2          1               1   \n",
       "\n",
       "   EstimatedSalary  Exited  \n",
       "0         65482.94       0  \n",
       "1        137276.83       0  \n",
       "2          3529.72       0  \n",
       "3        136119.96       1  \n",
       "4        127939.19       0  "
      ]
     },
     "execution_count": 3,
     "metadata": {},
     "output_type": "execute_result"
    }
   ],
   "source": [
    "df.head()"
   ]
  },
  {
   "cell_type": "code",
   "execution_count": 4,
   "id": "dense-bunny",
   "metadata": {},
   "outputs": [],
   "source": [
    "df1 = df.loc[df['Gender'] == 'Male']"
   ]
  },
  {
   "cell_type": "code",
   "execution_count": 5,
   "id": "juvenile-phoenix",
   "metadata": {},
   "outputs": [
    {
     "data": {
      "text/html": [
       "<div>\n",
       "<style scoped>\n",
       "    .dataframe tbody tr th:only-of-type {\n",
       "        vertical-align: middle;\n",
       "    }\n",
       "\n",
       "    .dataframe tbody tr th {\n",
       "        vertical-align: top;\n",
       "    }\n",
       "\n",
       "    .dataframe thead th {\n",
       "        text-align: right;\n",
       "    }\n",
       "</style>\n",
       "<table border=\"1\" class=\"dataframe\">\n",
       "  <thead>\n",
       "    <tr style=\"text-align: right;\">\n",
       "      <th></th>\n",
       "      <th>Geography</th>\n",
       "      <th>RowNumber</th>\n",
       "      <th>CustomerId</th>\n",
       "      <th>CreditScore</th>\n",
       "      <th>Age</th>\n",
       "      <th>Tenure</th>\n",
       "      <th>Balance</th>\n",
       "      <th>NumOfProducts</th>\n",
       "      <th>HasCrCard</th>\n",
       "      <th>IsActiveMember</th>\n",
       "      <th>EstimatedSalary</th>\n",
       "      <th>Exited</th>\n",
       "    </tr>\n",
       "  </thead>\n",
       "  <tbody>\n",
       "    <tr>\n",
       "      <th>0</th>\n",
       "      <td>France</td>\n",
       "      <td>11315814</td>\n",
       "      <td>35049291970</td>\n",
       "      <td>1453484</td>\n",
       "      <td>85652</td>\n",
       "      <td>11271</td>\n",
       "      <td>1.417645e+08</td>\n",
       "      <td>3394</td>\n",
       "      <td>1603</td>\n",
       "      <td>1152</td>\n",
       "      <td>2.246027e+08</td>\n",
       "      <td>285</td>\n",
       "    </tr>\n",
       "    <tr>\n",
       "      <th>1</th>\n",
       "      <td>Germany</td>\n",
       "      <td>5143946</td>\n",
       "      <td>16399601745</td>\n",
       "      <td>679074</td>\n",
       "      <td>41162</td>\n",
       "      <td>5252</td>\n",
       "      <td>1.257459e+08</td>\n",
       "      <td>1597</td>\n",
       "      <td>751</td>\n",
       "      <td>555</td>\n",
       "      <td>1.050272e+08</td>\n",
       "      <td>287</td>\n",
       "    </tr>\n",
       "    <tr>\n",
       "      <th>2</th>\n",
       "      <td>Spain</td>\n",
       "      <td>5730291</td>\n",
       "      <td>17510158266</td>\n",
       "      <td>724873</td>\n",
       "      <td>42856</td>\n",
       "      <td>5692</td>\n",
       "      <td>6.999959e+07</td>\n",
       "      <td>1693</td>\n",
       "      <td>767</td>\n",
       "      <td>605</td>\n",
       "      <td>1.092132e+08</td>\n",
       "      <td>137</td>\n",
       "    </tr>\n",
       "  </tbody>\n",
       "</table>\n",
       "</div>"
      ],
      "text/plain": [
       "  Geography  RowNumber   CustomerId  CreditScore    Age  Tenure       Balance  \\\n",
       "0    France   11315814  35049291970      1453484  85652   11271  1.417645e+08   \n",
       "1   Germany    5143946  16399601745       679074  41162    5252  1.257459e+08   \n",
       "2     Spain    5730291  17510158266       724873  42856    5692  6.999959e+07   \n",
       "\n",
       "   NumOfProducts  HasCrCard  IsActiveMember  EstimatedSalary  Exited  \n",
       "0           3394       1603            1152     2.246027e+08     285  \n",
       "1           1597        751             555     1.050272e+08     287  \n",
       "2           1693        767             605     1.092132e+08     137  "
      ]
     },
     "execution_count": 5,
     "metadata": {},
     "output_type": "execute_result"
    }
   ],
   "source": [
    "df1.groupby(['Geography']).sum().reset_index(False)"
   ]
  },
  {
   "cell_type": "code",
   "execution_count": 8,
   "id": "opposed-classic",
   "metadata": {},
   "outputs": [],
   "source": [
    "df2 = df.loc[(df['HasCrCard'] == 1) & (df['IsActiveMember'] == 1)]"
   ]
  },
  {
   "cell_type": "code",
   "execution_count": 9,
   "id": "unlimited-beauty",
   "metadata": {},
   "outputs": [
    {
     "data": {
      "text/plain": [
       "39.61019283746556"
      ]
     },
     "execution_count": 9,
     "metadata": {},
     "output_type": "execute_result"
    }
   ],
   "source": [
    "df2['Age'].mean()"
   ]
  },
  {
   "cell_type": "code",
   "execution_count": 12,
   "id": "acting-census",
   "metadata": {},
   "outputs": [
    {
     "data": {
      "text/plain": [
       "97.29451567120793"
      ]
     },
     "execution_count": 12,
     "metadata": {},
     "output_type": "execute_result"
    }
   ],
   "source": [
    "df.loc[df['Balance'] >= df['Balance'].median()]['CreditScore'].std()"
   ]
  },
  {
   "cell_type": "code",
   "execution_count": null,
   "id": "rational-correction",
   "metadata": {},
   "outputs": [],
   "source": []
  }
 ],
 "metadata": {
  "kernelspec": {
   "display_name": "Enjoy Data Science",
   "language": "python",
   "name": "enjoy-data-science"
  },
  "language_info": {
   "codemirror_mode": {
    "name": "ipython",
    "version": 3
   },
   "file_extension": ".py",
   "mimetype": "text/x-python",
   "name": "python",
   "nbconvert_exporter": "python",
   "pygments_lexer": "ipython3",
   "version": "3.8.5"
  }
 },
 "nbformat": 4,
 "nbformat_minor": 5
}
