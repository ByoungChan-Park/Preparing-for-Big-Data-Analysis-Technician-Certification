{
 "cells": [
  {
   "cell_type": "code",
   "execution_count": 1,
   "id": "9a93e4fe-7b5a-49d9-b33a-6a5f3e5d7f55",
   "metadata": {},
   "outputs": [],
   "source": [
    "import numpy as np\n",
    "import pandas as pd\n",
    "import scipy as sp\n",
    "\n",
    "from sklearn.model_selection import train_test_split\n",
    "from sklearn.preprocessing import StandardScaler\n",
    "from sklearn.preprocessing import LabelEncoder\n",
    "from sklearn.ensemble import RandomForestClassifier\n",
    "from sklearn.metrics import f1_score"
   ]
  },
  {
   "cell_type": "code",
   "execution_count": 2,
   "id": "5c1f064b-c155-46a5-b87b-dfb5465d2087",
   "metadata": {},
   "outputs": [],
   "source": [
    "trainData  = 'https://raw.githubusercontent.com/Datamanim/datarepo/main/smoke/train.csv'\n",
    "testData  = 'https://raw.githubusercontent.com/Datamanim/datarepo/main/smoke/test.csv'\n",
    "subData  = 'https://raw.githubusercontent.com/Datamanim/datarepo/main/smoke/submission.csv'"
   ]
  },
  {
   "cell_type": "code",
   "execution_count": 3,
   "id": "0f73c762-9f41-4324-956a-bbb5a1935669",
   "metadata": {},
   "outputs": [],
   "source": [
    "train = pd.read_csv(trainData)\n",
    "test = pd.read_csv(testData)\n",
    "sub = pd.read_csv(subData)"
   ]
  },
  {
   "cell_type": "code",
   "execution_count": 4,
   "id": "6c83ebfa-771d-4170-a720-a339a4bab4f6",
   "metadata": {},
   "outputs": [
    {
     "data": {
      "text/plain": [
       "((44553, 26), (11139, 25), (11139, 1))"
      ]
     },
     "execution_count": 4,
     "metadata": {},
     "output_type": "execute_result"
    }
   ],
   "source": [
    "train.shape, test.shape, sub.shape"
   ]
  },
  {
   "cell_type": "code",
   "execution_count": 5,
   "id": "4ea6b510-1464-41d4-be8a-92ca6197cb34",
   "metadata": {
    "tags": []
   },
   "outputs": [],
   "source": [
    "# train.info()"
   ]
  },
  {
   "cell_type": "code",
   "execution_count": 6,
   "id": "e9294182-cd94-4b62-a2c0-e7485f9a6215",
   "metadata": {},
   "outputs": [],
   "source": [
    "train['성별코드'] = LabelEncoder().fit_transform(train['성별코드'])\n",
    "train['구강검진수검여부'] = LabelEncoder().fit_transform(train['구강검진수검여부'])\n",
    "train['치석'] = LabelEncoder().fit_transform(train['치석'])\n",
    "test['성별코드']  = LabelEncoder().fit_transform(test['성별코드'])\n",
    "test['구강검진수검여부']  = LabelEncoder().fit_transform(test['구강검진수검여부'])\n",
    "test['치석']  = LabelEncoder().fit_transform(test['치석'])"
   ]
  },
  {
   "cell_type": "code",
   "execution_count": 7,
   "id": "48c3aef4-c065-42d6-a8d3-a984d45f2215",
   "metadata": {},
   "outputs": [],
   "source": [
    "X = train.drop(['흡연상태','구강검진수검여부'], axis=1)\n",
    "test = test.drop('구강검진수검여부', axis=1)\n",
    "y = train['흡연상태']"
   ]
  },
  {
   "cell_type": "code",
   "execution_count": 8,
   "id": "fc85cab1-bbfe-4496-b988-191b65f18a18",
   "metadata": {},
   "outputs": [
    {
     "data": {
      "text/plain": [
       "((44553, 24), (44553,))"
      ]
     },
     "execution_count": 8,
     "metadata": {},
     "output_type": "execute_result"
    }
   ],
   "source": [
    "X.shape, y.shape"
   ]
  },
  {
   "cell_type": "code",
   "execution_count": 9,
   "id": "6a07d31e-1c80-4fa3-9c50-3d28093827eb",
   "metadata": {},
   "outputs": [],
   "source": [
    "X_train, X_test, y_train, y_test = train_test_split(X, y, test_size=0.2, random_state=42)"
   ]
  },
  {
   "cell_type": "code",
   "execution_count": 10,
   "id": "1c047fa0-579b-4650-9b51-8034e52c6ef2",
   "metadata": {},
   "outputs": [
    {
     "data": {
      "text/plain": [
       "((35642, 24), (8911, 24), (35642,), (8911,))"
      ]
     },
     "execution_count": 10,
     "metadata": {},
     "output_type": "execute_result"
    }
   ],
   "source": [
    "X_train.shape, X_test.shape, y_train.shape, y_test.shape"
   ]
  },
  {
   "cell_type": "code",
   "execution_count": 11,
   "id": "2364d543-471b-44b4-b278-8947178baa7e",
   "metadata": {},
   "outputs": [],
   "source": [
    "model = RandomForestClassifier(max_depth=7, random_state=42).fit(X_train, y_train)"
   ]
  },
  {
   "cell_type": "code",
   "execution_count": 12,
   "id": "4cb37e51-7e6e-48ff-89ad-65226fd398cf",
   "metadata": {},
   "outputs": [],
   "source": [
    "y_pred = model.predict(X_test)"
   ]
  },
  {
   "cell_type": "code",
   "execution_count": 13,
   "id": "1ff891bc-488b-48a2-adaf-a2bf8ac57829",
   "metadata": {},
   "outputs": [
    {
     "data": {
      "text/plain": [
       "0.6755364806866954"
      ]
     },
     "execution_count": 13,
     "metadata": {},
     "output_type": "execute_result"
    }
   ],
   "source": [
    "f1_score(y_test, y_pred)"
   ]
  },
  {
   "cell_type": "code",
   "execution_count": 14,
   "id": "768361d8-c2a5-4d12-a226-ceb830191848",
   "metadata": {},
   "outputs": [],
   "source": [
    "test_pred = model.predict(test)"
   ]
  },
  {
   "cell_type": "code",
   "execution_count": 15,
   "id": "5769189e-8e3e-4255-bf05-e4e0a28f1592",
   "metadata": {
    "tags": []
   },
   "outputs": [],
   "source": [
    "sub[0] = test_pred"
   ]
  },
  {
   "cell_type": "code",
   "execution_count": 16,
   "id": "d988cc5f-f912-46e2-89c0-d768496cfd25",
   "metadata": {},
   "outputs": [],
   "source": [
    "sub.to_csv('16083.csv', index=False)"
   ]
  },
  {
   "cell_type": "code",
   "execution_count": null,
   "id": "fc7e85ae-dc42-4714-941d-5ef98abe721a",
   "metadata": {},
   "outputs": [],
   "source": []
  }
 ],
 "metadata": {
  "kernelspec": {
   "display_name": "Enjoy Data Science",
   "language": "python",
   "name": "enjoy-data-science"
  },
  "language_info": {
   "codemirror_mode": {
    "name": "ipython",
    "version": 3
   },
   "file_extension": ".py",
   "mimetype": "text/x-python",
   "name": "python",
   "nbconvert_exporter": "python",
   "pygments_lexer": "ipython3",
   "version": "3.8.10"
  }
 },
 "nbformat": 4,
 "nbformat_minor": 5
}
