{
 "cells": [
  {
   "cell_type": "code",
   "execution_count": 1,
   "id": "9d1a5a04-266b-4d62-a53e-3053d9daf252",
   "metadata": {},
   "outputs": [],
   "source": [
    "import pandas as pd"
   ]
  },
  {
   "cell_type": "code",
   "execution_count": 2,
   "id": "104cf494-49b9-48f5-956a-eefab5b7b193",
   "metadata": {},
   "outputs": [],
   "source": [
    "df = pd.read_csv('https://raw.githubusercontent.com/Datamanim/datarepo/main/waters/train.csv')"
   ]
  },
  {
   "cell_type": "markdown",
   "id": "ed67806f-ff11-4ee2-bb61-2995c92fe44e",
   "metadata": {},
   "source": [
    "### Q1. ph값은 상당히 많은 결측치를 포함한다. 결측치를 제외한 나머지 데이터들 중 하위 25%의 값들의 평균값은?"
   ]
  },
  {
   "cell_type": "code",
   "execution_count": 33,
   "id": "4517362d-b171-4c78-a67f-cf30eaa4bc48",
   "metadata": {},
   "outputs": [
    {
     "data": {
      "text/plain": [
       "5.057093462441731"
      ]
     },
     "execution_count": 33,
     "metadata": {},
     "output_type": "execute_result"
    }
   ],
   "source": [
    "df1 = df['ph'].dropna()\n",
    "df1[df1 <= df1.quantile(0.25)].mean()"
   ]
  }
 ],
 "metadata": {
  "kernelspec": {
   "display_name": "Enjoy Data Science",
   "language": "python",
   "name": "enjoy-data-science"
  },
  "language_info": {
   "codemirror_mode": {
    "name": "ipython",
    "version": 3
   },
   "file_extension": ".py",
   "mimetype": "text/x-python",
   "name": "python",
   "nbconvert_exporter": "python",
   "pygments_lexer": "ipython3",
   "version": "3.8.5"
  }
 },
 "nbformat": 4,
 "nbformat_minor": 5
}
