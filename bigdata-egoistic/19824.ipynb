{
 "cells": [
  {
   "cell_type": "code",
   "execution_count": 1,
   "id": "d808598c-85c1-4c7d-99f8-82329a7231c9",
   "metadata": {},
   "outputs": [],
   "source": [
    "import pandas as pd"
   ]
  },
  {
   "cell_type": "code",
   "execution_count": 2,
   "id": "e53c83f2-debd-41bc-8625-d4d6c1a18c78",
   "metadata": {},
   "outputs": [],
   "source": [
    "df = pd.read_csv(\"https://raw.githubusercontent.com/Datamanim/datarepo/main/youtube/youtube.csv\")"
   ]
  },
  {
   "cell_type": "markdown",
   "id": "1851562e-1e07-4518-98eb-01a853eb3201",
   "metadata": {},
   "source": [
    "### Q1.  인기동영상 제작횟수가 많은 채널 상위 10개명을 출력하라 (날짜기준, 중복포함)"
   ]
  },
  {
   "cell_type": "code",
   "execution_count": 3,
   "id": "268b4695-af7f-425d-8c5e-5b030318ad0a",
   "metadata": {},
   "outputs": [
    {
     "name": "stdout",
     "output_type": "stream",
     "text": [
      "['장삐쭈', '총몇명', '파뿌리', '짤툰', '런닝맨 - 스브스 공식 채널', '엠뚜루마뚜루 : MBC 공식 종합 채널', 'SPOTV', '채널 십오야', '이과장', 'BANGTANTV']\n"
     ]
    }
   ],
   "source": [
    "channelIds = df['channelId'].value_counts().head(10).index\n",
    "channelTitles = df.loc[df['channelId'].isin(channelIds)]['channelTitle'].unique()\n",
    "print(list(channelTitles))"
   ]
  },
  {
   "cell_type": "markdown",
   "id": "d6dee2e1-37ed-42b6-a2af-0c7b0332c7ac",
   "metadata": {},
   "source": [
    "### Q2. 논란으로 인기동영상이 된 케이스를 확인하고 싶다. dislikes수가 like 수보다 높은 동영상을 제작한 채널을 모두 출력하라"
   ]
  },
  {
   "cell_type": "code",
   "execution_count": 4,
   "id": "e05a84d5-f636-44e4-a520-446e28916ad8",
   "metadata": {},
   "outputs": [
    {
     "name": "stdout",
     "output_type": "stream",
     "text": [
      "['핫도그TV', 'ASMR 애정TV', '하얀트리HayanTree', '양팡 YangPang', '철구형 (CHULTUBE)', '왜냐맨하우스', '(MUTUBE)와꾸대장봉준', '오메킴TV', '육지담', 'MapleStory_KR', 'ROAD FIGHTING CHAMPIONSHIP', '사나이 김기훈', '나혼자산다 STUDIO', 'Gen.G esports']\n"
     ]
    }
   ],
   "source": [
    "print(list(df.loc[df['likes'] < df['dislikes']]['channelTitle'].unique()))"
   ]
  },
  {
   "cell_type": "markdown",
   "id": "90ce8b95-395f-4a87-afd4-4557e2336816",
   "metadata": {},
   "source": [
    "### Q3. 채널명을 바꾼 케이스가 있는지 확인하고 싶다. channelId의 경우 고유값이므로 이를 통해 채널명을 한번이라도 바꾼 채널의 갯수를 구하여라"
   ]
  },
  {
   "cell_type": "code",
   "execution_count": 5,
   "id": "df0d9e13-a065-4363-9107-c1724937e13f",
   "metadata": {},
   "outputs": [],
   "source": [
    "series = df[['channelId','channelTitle']].drop_duplicates()['channelId'].value_counts()"
   ]
  },
  {
   "cell_type": "code",
   "execution_count": 6,
   "id": "66c00a29-cd47-4db4-be4c-89165b0e0adc",
   "metadata": {},
   "outputs": [
    {
     "data": {
      "text/plain": [
       "71"
      ]
     },
     "execution_count": 6,
     "metadata": {},
     "output_type": "execute_result"
    }
   ],
   "source": [
    "len(series[series > 1])"
   ]
  },
  {
   "cell_type": "code",
   "execution_count": null,
   "id": "e86f1c50-43cd-4fae-b280-c5ef1e2bcf36",
   "metadata": {},
   "outputs": [],
   "source": []
  }
 ],
 "metadata": {
  "kernelspec": {
   "display_name": "Enjoy Data Science",
   "language": "python",
   "name": "enjoy-data-science"
  },
  "language_info": {
   "codemirror_mode": {
    "name": "ipython",
    "version": 3
   },
   "file_extension": ".py",
   "mimetype": "text/x-python",
   "name": "python",
   "nbconvert_exporter": "python",
   "pygments_lexer": "ipython3",
   "version": "3.8.10"
  }
 },
 "nbformat": 4,
 "nbformat_minor": 5
}
