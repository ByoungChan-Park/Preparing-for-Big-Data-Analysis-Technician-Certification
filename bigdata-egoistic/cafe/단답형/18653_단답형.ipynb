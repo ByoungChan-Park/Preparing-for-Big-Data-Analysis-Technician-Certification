{
 "cells": [
  {
   "cell_type": "markdown",
   "id": "c1e6dae2-2fc5-45d4-a66f-799d32cebd9f",
   "metadata": {},
   "source": [
    "### Q1 이상값 검출방식중 하나로 오른차순으로 정렬된 데이터에서 범위에 대한 관측치 간 차이의 비율을 이용하여 이상값으로 판단하는 방법은?"
   ]
  },
  {
   "cell_type": "markdown",
   "id": "940ab9b7-1b33-4baa-8c09-2ada6cb08665",
   "metadata": {},
   "source": [
    "#### A1 딕슨의 Q-검증"
   ]
  },
  {
   "cell_type": "code",
   "execution_count": null,
   "id": "75da7d25-97fe-4c26-b965-0652a06422aa",
   "metadata": {},
   "outputs": [],
   "source": []
  }
 ],
 "metadata": {
  "kernelspec": {
   "display_name": "Enjoy Data Science",
   "language": "python",
   "name": "enjoy-data-science"
  },
  "language_info": {
   "codemirror_mode": {
    "name": "ipython",
    "version": 3
   },
   "file_extension": ".py",
   "mimetype": "text/x-python",
   "name": "python",
   "nbconvert_exporter": "python",
   "pygments_lexer": "ipython3",
   "version": "3.8.10"
  }
 },
 "nbformat": 4,
 "nbformat_minor": 5
}
