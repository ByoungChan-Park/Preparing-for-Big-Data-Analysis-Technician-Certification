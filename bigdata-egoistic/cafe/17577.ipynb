{
 "cells": [
  {
   "cell_type": "code",
   "execution_count": 1,
   "id": "61cdee47-6d94-4596-9c6f-bd8ccbdf1ebe",
   "metadata": {},
   "outputs": [],
   "source": [
    "import numpy as np\n",
    "import pandas as pd\n",
    "import scipy as sp\n",
    "\n",
    "from sklearn.model_selection import train_test_split\n",
    "from sklearn.preprocessing import LabelEncoder\n",
    "from sklearn.ensemble import RandomForestRegressor\n",
    "from sklearn.linear_model import LinearRegression\n",
    "from sklearn.metrics import r2_score"
   ]
  },
  {
   "cell_type": "code",
   "execution_count": 2,
   "id": "60fcf102-fb09-40a6-9c8d-8192fb49be70",
   "metadata": {},
   "outputs": [],
   "source": [
    "trainData  = f'https://raw.githubusercontent.com/Datamanim/datarepo/main/MedicalCost/train.csv'\n",
    "testData  = f'https://raw.githubusercontent.com/Datamanim/datarepo/main/MedicalCost/test.csv'\n",
    "subData  = f'https://raw.githubusercontent.com/Datamanim/datarepo/main/MedicalCost/submission.csv'"
   ]
  },
  {
   "cell_type": "code",
   "execution_count": 3,
   "id": "50cacf73-ac17-48b8-996e-61ddc9e4da90",
   "metadata": {},
   "outputs": [],
   "source": [
    "train = pd.read_csv(trainData)\n",
    "test = pd.read_csv(testData)\n",
    "sub = pd.read_csv(subData)"
   ]
  },
  {
   "cell_type": "code",
   "execution_count": 4,
   "id": "604e42ae-35dc-45ac-90c5-36b9ab98f273",
   "metadata": {},
   "outputs": [],
   "source": [
    "X = train.drop(['charges'], axis=1)\n",
    "X = pd.get_dummies(X)\n",
    "y = train['charges']"
   ]
  },
  {
   "cell_type": "code",
   "execution_count": 5,
   "id": "6f51ccf9-53fc-471b-ab7a-192f00ca5108",
   "metadata": {},
   "outputs": [],
   "source": [
    "X_train, X_test, y_train, y_test = train_test_split(X, y, test_size=0.2, random_state=42)"
   ]
  },
  {
   "cell_type": "code",
   "execution_count": 6,
   "id": "87f3dac8-61f4-4bd1-ba6e-f5b13d5c7365",
   "metadata": {},
   "outputs": [
    {
     "data": {
      "text/plain": [
       "0.8198931175244432"
      ]
     },
     "execution_count": 6,
     "metadata": {},
     "output_type": "execute_result"
    }
   ],
   "source": [
    "rf = RandomForestRegressor(random_state=42).fit(X_train, y_train)\n",
    "y_pred = rf.predict(X_test)\n",
    "r2_score(y_test, y_pred)"
   ]
  },
  {
   "cell_type": "code",
   "execution_count": 7,
   "id": "022b7899-5807-48ee-9875-78cff8c360d3",
   "metadata": {},
   "outputs": [
    {
     "data": {
      "text/plain": [
       "0.7285259925274958"
      ]
     },
     "execution_count": 7,
     "metadata": {},
     "output_type": "execute_result"
    }
   ],
   "source": [
    "lr = LinearRegression(n_jobs=100).fit(X_train, y_train)\n",
    "y_pred = lr.predict(X_test)\n",
    "r2_score(y_test, y_pred)"
   ]
  },
  {
   "cell_type": "code",
   "execution_count": 8,
   "id": "ddc3d589-6568-4a92-b965-0ce4a977aa58",
   "metadata": {},
   "outputs": [],
   "source": [
    "test = pd.get_dummies(test)[X.columns]\n",
    "test_pred = lr.predict(test)\n",
    "\n",
    "sub[0] = test_pred\n",
    "sub.to_csv('17577.csv',index=False)"
   ]
  },
  {
   "cell_type": "code",
   "execution_count": null,
   "id": "b15645e1-a55c-40f8-aef2-0643156903a7",
   "metadata": {},
   "outputs": [],
   "source": []
  },
  {
   "cell_type": "code",
   "execution_count": null,
   "id": "afed6bff-2fa3-462c-ade6-4c991ca44fc7",
   "metadata": {},
   "outputs": [],
   "source": []
  }
 ],
 "metadata": {
  "kernelspec": {
   "display_name": "Enjoy Data Science",
   "language": "python",
   "name": "enjoy-data-science"
  },
  "language_info": {
   "codemirror_mode": {
    "name": "ipython",
    "version": 3
   },
   "file_extension": ".py",
   "mimetype": "text/x-python",
   "name": "python",
   "nbconvert_exporter": "python",
   "pygments_lexer": "ipython3",
   "version": "3.8.10"
  }
 },
 "nbformat": 4,
 "nbformat_minor": 5
}
