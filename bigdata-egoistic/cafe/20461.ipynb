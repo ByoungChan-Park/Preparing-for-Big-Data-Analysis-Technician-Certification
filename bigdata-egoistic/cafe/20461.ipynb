{
 "cells": [
  {
   "cell_type": "code",
   "execution_count": 1,
   "id": "executive-bridge",
   "metadata": {},
   "outputs": [],
   "source": [
    "import pandas as pd"
   ]
  },
  {
   "cell_type": "code",
   "execution_count": 2,
   "id": "double-surprise",
   "metadata": {},
   "outputs": [],
   "source": [
    "channel = pd.read_csv('https://raw.githubusercontent.com/Datamanim/datarepo/main/youtube/channelInfo.csv')\n",
    "video = pd.read_csv('https://raw.githubusercontent.com/Datamanim/datarepo/main/youtube/videoInfo.csv')"
   ]
  },
  {
   "cell_type": "markdown",
   "id": "changed-coral",
   "metadata": {},
   "source": [
    "### Question 1"
   ]
  },
  {
   "cell_type": "code",
   "execution_count": 3,
   "id": "approximate-consumer",
   "metadata": {},
   "outputs": [],
   "source": [
    "channel['ct'] = pd.to_datetime(channel['ct'])\n",
    "video['ct'] = pd.to_datetime(video['ct'])\n",
    "answer = video.videoname.value_counts()"
   ]
  },
  {
   "cell_type": "code",
   "execution_count": 4,
   "id": "stock-operator",
   "metadata": {},
   "outputs": [
    {
     "data": {
      "text/plain": [
       " 공범 EP1    3492\n",
       " 공범 EP2    3204\n",
       " 공범 EP3    2568\n",
       " 공범 EP4    2280\n",
       " 공범 EP5    1562\n",
       " 공범 EP6    1274\n",
       " 공범 EP7     555\n",
       " 공범 EP8     266\n",
       "Name: videoname, dtype: int64"
      ]
     },
     "execution_count": 4,
     "metadata": {},
     "output_type": "execute_result"
    }
   ],
   "source": [
    "answer"
   ]
  },
  {
   "cell_type": "markdown",
   "id": "lesbian-jurisdiction",
   "metadata": {},
   "source": [
    "### Question 2"
   ]
  },
  {
   "cell_type": "code",
   "execution_count": 5,
   "id": "finished-sudan",
   "metadata": {},
   "outputs": [
    {
     "data": {
      "text/html": [
       "<div>\n",
       "<style scoped>\n",
       "    .dataframe tbody tr th:only-of-type {\n",
       "        vertical-align: middle;\n",
       "    }\n",
       "\n",
       "    .dataframe tbody tr th {\n",
       "        vertical-align: top;\n",
       "    }\n",
       "\n",
       "    .dataframe thead th {\n",
       "        text-align: right;\n",
       "    }\n",
       "</style>\n",
       "<table border=\"1\" class=\"dataframe\">\n",
       "  <thead>\n",
       "    <tr style=\"text-align: right;\">\n",
       "      <th></th>\n",
       "      <th>videopk</th>\n",
       "      <th>viewcnt</th>\n",
       "      <th>likecnt</th>\n",
       "      <th>dislikecnt</th>\n",
       "      <th>favoritecnt</th>\n",
       "      <th>cmcnt</th>\n",
       "      <th>ct</th>\n",
       "      <th>videoname</th>\n",
       "    </tr>\n",
       "  </thead>\n",
       "  <tbody>\n",
       "    <tr>\n",
       "      <th>3490</th>\n",
       "      <td>c5JQp6xafqc</td>\n",
       "      <td>3180332</td>\n",
       "      <td>41043</td>\n",
       "      <td>1113</td>\n",
       "      <td>0</td>\n",
       "      <td>7674</td>\n",
       "      <td>2021-11-01 15:20:02</td>\n",
       "      <td>공범 EP1</td>\n",
       "    </tr>\n",
       "    <tr>\n",
       "      <th>3491</th>\n",
       "      <td>c5JQp6xafqc</td>\n",
       "      <td>3180532</td>\n",
       "      <td>41043</td>\n",
       "      <td>1113</td>\n",
       "      <td>0</td>\n",
       "      <td>7674</td>\n",
       "      <td>2021-11-01 15:30:03</td>\n",
       "      <td>공범 EP1</td>\n",
       "    </tr>\n",
       "  </tbody>\n",
       "</table>\n",
       "</div>"
      ],
      "text/plain": [
       "          videopk  viewcnt  likecnt  dislikecnt  favoritecnt  cmcnt  \\\n",
       "3490  c5JQp6xafqc  3180332    41043        1113            0   7674   \n",
       "3491  c5JQp6xafqc  3180532    41043        1113            0   7674   \n",
       "\n",
       "                      ct videoname  \n",
       "3490 2021-11-01 15:20:02    공범 EP1  \n",
       "3491 2021-11-01 15:30:03    공범 EP1  "
      ]
     },
     "execution_count": 5,
     "metadata": {},
     "output_type": "execute_result"
    }
   ],
   "source": [
    "video.iloc[3490:3492, :]"
   ]
  },
  {
   "cell_type": "code",
   "execution_count": 6,
   "id": "horizontal-inventory",
   "metadata": {},
   "outputs": [
    {
     "data": {
      "text/html": [
       "<div>\n",
       "<style scoped>\n",
       "    .dataframe tbody tr th:only-of-type {\n",
       "        vertical-align: middle;\n",
       "    }\n",
       "\n",
       "    .dataframe tbody tr th {\n",
       "        vertical-align: top;\n",
       "    }\n",
       "\n",
       "    .dataframe thead th {\n",
       "        text-align: right;\n",
       "    }\n",
       "</style>\n",
       "<table border=\"1\" class=\"dataframe\">\n",
       "  <thead>\n",
       "    <tr style=\"text-align: right;\">\n",
       "      <th></th>\n",
       "      <th>viewcnt</th>\n",
       "      <th>videoname</th>\n",
       "      <th>likecnt</th>\n",
       "      <th>ct</th>\n",
       "    </tr>\n",
       "  </thead>\n",
       "  <tbody>\n",
       "    <tr>\n",
       "      <th>3491</th>\n",
       "      <td>3180532</td>\n",
       "      <td>공범 EP1</td>\n",
       "      <td>41043</td>\n",
       "      <td>2021-11-01 15:30:03</td>\n",
       "    </tr>\n",
       "    <tr>\n",
       "      <th>6695</th>\n",
       "      <td>2199328</td>\n",
       "      <td>공범 EP2</td>\n",
       "      <td>25566</td>\n",
       "      <td>2021-11-01 15:30:03</td>\n",
       "    </tr>\n",
       "    <tr>\n",
       "      <th>9263</th>\n",
       "      <td>1671294</td>\n",
       "      <td>공범 EP3</td>\n",
       "      <td>22719</td>\n",
       "      <td>2021-11-01 15:30:03</td>\n",
       "    </tr>\n",
       "    <tr>\n",
       "      <th>11543</th>\n",
       "      <td>1818493</td>\n",
       "      <td>공범 EP4</td>\n",
       "      <td>22703</td>\n",
       "      <td>2021-11-01 15:30:03</td>\n",
       "    </tr>\n",
       "    <tr>\n",
       "      <th>13105</th>\n",
       "      <td>1503435</td>\n",
       "      <td>공범 EP5</td>\n",
       "      <td>19926</td>\n",
       "      <td>2021-11-01 15:30:04</td>\n",
       "    </tr>\n",
       "    <tr>\n",
       "      <th>14934</th>\n",
       "      <td>1750222</td>\n",
       "      <td>공범 EP6</td>\n",
       "      <td>24494</td>\n",
       "      <td>2021-11-01 15:30:04</td>\n",
       "    </tr>\n",
       "    <tr>\n",
       "      <th>13660</th>\n",
       "      <td>1630200</td>\n",
       "      <td>공범 EP7</td>\n",
       "      <td>29335</td>\n",
       "      <td>2021-11-01 15:30:05</td>\n",
       "    </tr>\n",
       "    <tr>\n",
       "      <th>15200</th>\n",
       "      <td>1289088</td>\n",
       "      <td>공범 EP8</td>\n",
       "      <td>25616</td>\n",
       "      <td>2021-11-01 15:30:05</td>\n",
       "    </tr>\n",
       "  </tbody>\n",
       "</table>\n",
       "</div>"
      ],
      "text/plain": [
       "       viewcnt videoname  likecnt                  ct\n",
       "3491   3180532    공범 EP1    41043 2021-11-01 15:30:03\n",
       "6695   2199328    공범 EP2    25566 2021-11-01 15:30:03\n",
       "9263   1671294    공범 EP3    22719 2021-11-01 15:30:03\n",
       "11543  1818493    공범 EP4    22703 2021-11-01 15:30:03\n",
       "13105  1503435    공범 EP5    19926 2021-11-01 15:30:04\n",
       "14934  1750222    공범 EP6    24494 2021-11-01 15:30:04\n",
       "13660  1630200    공범 EP7    29335 2021-11-01 15:30:05\n",
       "15200  1289088    공범 EP8    25616 2021-11-01 15:30:05"
      ]
     },
     "execution_count": 6,
     "metadata": {},
     "output_type": "execute_result"
    }
   ],
   "source": [
    "video.sort_values(['videoname','ct']).drop_duplicates('videoname', keep='last')[['viewcnt','videoname','likecnt','ct']]"
   ]
  },
  {
   "cell_type": "markdown",
   "id": "split-member",
   "metadata": {},
   "source": [
    "### Question 3"
   ]
  },
  {
   "cell_type": "code",
   "execution_count": 7,
   "id": "killing-movie",
   "metadata": {},
   "outputs": [
    {
     "data": {
      "text/html": [
       "<div>\n",
       "<style scoped>\n",
       "    .dataframe tbody tr th:only-of-type {\n",
       "        vertical-align: middle;\n",
       "    }\n",
       "\n",
       "    .dataframe tbody tr th {\n",
       "        vertical-align: top;\n",
       "    }\n",
       "\n",
       "    .dataframe thead th {\n",
       "        text-align: right;\n",
       "    }\n",
       "</style>\n",
       "<table border=\"1\" class=\"dataframe\">\n",
       "  <thead>\n",
       "    <tr style=\"text-align: right;\">\n",
       "      <th></th>\n",
       "      <th>channelname</th>\n",
       "      <th>subcnt</th>\n",
       "    </tr>\n",
       "  </thead>\n",
       "  <tbody>\n",
       "    <tr>\n",
       "      <th>393</th>\n",
       "      <td>논리왕 전기</td>\n",
       "      <td>922000</td>\n",
       "    </tr>\n",
       "    <tr>\n",
       "      <th>139</th>\n",
       "      <td>야전삽짱재</td>\n",
       "      <td>257000</td>\n",
       "    </tr>\n",
       "    <tr>\n",
       "      <th>266</th>\n",
       "      <td>츄정ChuJeong</td>\n",
       "      <td>322000</td>\n",
       "    </tr>\n",
       "    <tr>\n",
       "      <th>901</th>\n",
       "      <td>김농밀의 농밀한 삶</td>\n",
       "      <td>7520</td>\n",
       "    </tr>\n",
       "    <tr>\n",
       "      <th>1028</th>\n",
       "      <td>릴펄 Lilpearl</td>\n",
       "      <td>10100</td>\n",
       "    </tr>\n",
       "    <tr>\n",
       "      <th>520</th>\n",
       "      <td>와글와글 WagleWagle</td>\n",
       "      <td>55000</td>\n",
       "    </tr>\n",
       "    <tr>\n",
       "      <th>647</th>\n",
       "      <td>조나단</td>\n",
       "      <td>215000</td>\n",
       "    </tr>\n",
       "    <tr>\n",
       "      <th>774</th>\n",
       "      <td>형사!탐정되다</td>\n",
       "      <td>14900</td>\n",
       "    </tr>\n",
       "    <tr>\n",
       "      <th>1276</th>\n",
       "      <td>Balming Tiger</td>\n",
       "      <td>54300</td>\n",
       "    </tr>\n",
       "    <tr>\n",
       "      <th>1155</th>\n",
       "      <td>곽토리 kwak tori</td>\n",
       "      <td>471000</td>\n",
       "    </tr>\n",
       "    <tr>\n",
       "      <th>12</th>\n",
       "      <td>꽈뚜룹</td>\n",
       "      <td>1330000</td>\n",
       "    </tr>\n",
       "  </tbody>\n",
       "</table>\n",
       "</div>"
      ],
      "text/plain": [
       "          channelname   subcnt\n",
       "393            논리왕 전기   922000\n",
       "139             야전삽짱재   257000\n",
       "266        츄정ChuJeong   322000\n",
       "901        김농밀의 농밀한 삶     7520\n",
       "1028      릴펄 Lilpearl    10100\n",
       "520   와글와글 WagleWagle    55000\n",
       "647               조나단   215000\n",
       "774           형사!탐정되다    14900\n",
       "1276    Balming Tiger    54300\n",
       "1155    곽토리 kwak tori   471000\n",
       "12                꽈뚜룹  1330000"
      ]
     },
     "execution_count": 7,
     "metadata": {},
     "output_type": "execute_result"
    }
   ],
   "source": [
    "target = channel[channel.ct >= pd.to_datetime('2021-10-03')].sort_values(['ct', 'channelname']).drop_duplicates('channelname')\n",
    "target[['channelname', 'subcnt']]"
   ]
  },
  {
   "cell_type": "markdown",
   "id": "expected-number",
   "metadata": {},
   "source": [
    "### Question 4"
   ]
  },
  {
   "cell_type": "code",
   "execution_count": 15,
   "id": "herbal-custom",
   "metadata": {},
   "outputs": [],
   "source": [
    "end = channel.loc[channel.ct.dt.strftime('%Y-%m-%d %H') =='2021-11-01 15']\n",
    "start = channel.loc[channel.ct.dt.strftime('%Y-%m-%d %H') =='2021-10-03 03']"
   ]
  },
  {
   "cell_type": "code",
   "execution_count": null,
   "id": "sophisticated-scientist",
   "metadata": {},
   "outputs": [],
   "source": []
  },
  {
   "cell_type": "code",
   "execution_count": null,
   "id": "looking-methodology",
   "metadata": {},
   "outputs": [],
   "source": []
  },
  {
   "cell_type": "code",
   "execution_count": null,
   "id": "cleared-domestic",
   "metadata": {},
   "outputs": [],
   "source": []
  },
  {
   "cell_type": "code",
   "execution_count": null,
   "id": "accomplished-popularity",
   "metadata": {},
   "outputs": [],
   "source": []
  },
  {
   "cell_type": "markdown",
   "id": "solid-crown",
   "metadata": {},
   "source": [
    "### Question 5"
   ]
  },
  {
   "cell_type": "code",
   "execution_count": 19,
   "id": "architectural-mentor",
   "metadata": {},
   "outputs": [
    {
     "data": {
      "text/html": [
       "<div>\n",
       "<style scoped>\n",
       "    .dataframe tbody tr th:only-of-type {\n",
       "        vertical-align: middle;\n",
       "    }\n",
       "\n",
       "    .dataframe tbody tr th {\n",
       "        vertical-align: top;\n",
       "    }\n",
       "\n",
       "    .dataframe thead th {\n",
       "        text-align: right;\n",
       "    }\n",
       "</style>\n",
       "<table border=\"1\" class=\"dataframe\">\n",
       "  <thead>\n",
       "    <tr style=\"text-align: right;\">\n",
       "      <th></th>\n",
       "      <th>videopk</th>\n",
       "      <th>viewcnt</th>\n",
       "      <th>likecnt</th>\n",
       "      <th>dislikecnt</th>\n",
       "      <th>favoritecnt</th>\n",
       "      <th>cmcnt</th>\n",
       "      <th>ct</th>\n",
       "      <th>videoname</th>\n",
       "    </tr>\n",
       "  </thead>\n",
       "  <tbody>\n",
       "    <tr>\n",
       "      <th>720</th>\n",
       "      <td>c5JQp6xafqc</td>\n",
       "      <td>2153676</td>\n",
       "      <td>34104</td>\n",
       "      <td>830</td>\n",
       "      <td>0</td>\n",
       "      <td>7120</td>\n",
       "      <td>2021-10-12 19:20:03</td>\n",
       "      <td>공범 EP1</td>\n",
       "    </tr>\n",
       "    <tr>\n",
       "      <th>721</th>\n",
       "      <td>c5JQp6xafqc</td>\n",
       "      <td>2228250</td>\n",
       "      <td>34559</td>\n",
       "      <td>849</td>\n",
       "      <td>0</td>\n",
       "      <td>7191</td>\n",
       "      <td>2021-10-13 09:41:37</td>\n",
       "      <td>공범 EP1</td>\n",
       "    </tr>\n",
       "    <tr>\n",
       "      <th>722</th>\n",
       "      <td>c5JQp6xafqc</td>\n",
       "      <td>2228250</td>\n",
       "      <td>34559</td>\n",
       "      <td>849</td>\n",
       "      <td>0</td>\n",
       "      <td>7191</td>\n",
       "      <td>2021-10-13 09:41:37</td>\n",
       "      <td>공범 EP1</td>\n",
       "    </tr>\n",
       "    <tr>\n",
       "      <th>723</th>\n",
       "      <td>c5JQp6xafqc</td>\n",
       "      <td>2228669</td>\n",
       "      <td>34566</td>\n",
       "      <td>849</td>\n",
       "      <td>0</td>\n",
       "      <td>7194</td>\n",
       "      <td>2021-10-13 09:50:03</td>\n",
       "      <td>공범 EP1</td>\n",
       "    </tr>\n",
       "    <tr>\n",
       "      <th>1635</th>\n",
       "      <td>c5JQp6xafqc</td>\n",
       "      <td>2706691</td>\n",
       "      <td>37893</td>\n",
       "      <td>987</td>\n",
       "      <td>0</td>\n",
       "      <td>7410</td>\n",
       "      <td>2021-10-19 17:50:02</td>\n",
       "      <td>공범 EP1</td>\n",
       "    </tr>\n",
       "    <tr>\n",
       "      <th>1636</th>\n",
       "      <td>c5JQp6xafqc</td>\n",
       "      <td>2707933</td>\n",
       "      <td>37901</td>\n",
       "      <td>988</td>\n",
       "      <td>0</td>\n",
       "      <td>7410</td>\n",
       "      <td>2021-10-19 18:20:03</td>\n",
       "      <td>공범 EP1</td>\n",
       "    </tr>\n",
       "    <tr>\n",
       "      <th>1637</th>\n",
       "      <td>c5JQp6xafqc</td>\n",
       "      <td>2708448</td>\n",
       "      <td>37903</td>\n",
       "      <td>988</td>\n",
       "      <td>0</td>\n",
       "      <td>7410</td>\n",
       "      <td>2021-10-19 18:30:03</td>\n",
       "      <td>공범 EP1</td>\n",
       "    </tr>\n",
       "  </tbody>\n",
       "</table>\n",
       "</div>"
      ],
      "text/plain": [
       "          videopk  viewcnt  likecnt  dislikecnt  favoritecnt  cmcnt  \\\n",
       "720   c5JQp6xafqc  2153676    34104         830            0   7120   \n",
       "721   c5JQp6xafqc  2228250    34559         849            0   7191   \n",
       "722   c5JQp6xafqc  2228250    34559         849            0   7191   \n",
       "723   c5JQp6xafqc  2228669    34566         849            0   7194   \n",
       "1635  c5JQp6xafqc  2706691    37893         987            0   7410   \n",
       "1636  c5JQp6xafqc  2707933    37901         988            0   7410   \n",
       "1637  c5JQp6xafqc  2708448    37903         988            0   7410   \n",
       "\n",
       "                      ct videoname  \n",
       "720  2021-10-12 19:20:03    공범 EP1  \n",
       "721  2021-10-13 09:41:37    공범 EP1  \n",
       "722  2021-10-13 09:41:37    공범 EP1  \n",
       "723  2021-10-13 09:50:03    공범 EP1  \n",
       "1635 2021-10-19 17:50:02    공범 EP1  \n",
       "1636 2021-10-19 18:20:03    공범 EP1  \n",
       "1637 2021-10-19 18:30:03    공범 EP1  "
      ]
     },
     "execution_count": 19,
     "metadata": {},
     "output_type": "execute_result"
    }
   ],
   "source": [
    "import datetime\n",
    "\n",
    "ep_one = video.loc[video.videoname.str.contains('1')].sort_values('ct').reset_index(drop=True)\n",
    "ep_one[(ep_one.ct.diff(1) >= datetime.timedelta(minutes=20)) | (ep_one.ct.diff(1) <= datetime.timedelta(minutes=5))]\n",
    "answer = ep_one[ep_one.index.isin([720, 721, 722, 723, 1635, 1636, 1637])]\n",
    "answer"
   ]
  },
  {
   "cell_type": "markdown",
   "id": "nuclear-serial",
   "metadata": {},
   "source": [
    "### Question 10"
   ]
  },
  {
   "cell_type": "code",
   "execution_count": 9,
   "id": "animal-prophet",
   "metadata": {},
   "outputs": [],
   "source": [
    "answer = video.loc[set(video.index) - set(video.drop_duplicates().index), :]\n",
    "answer = video[video.index.isin(set(video.index) - set(video.drop_duplicates().index))]"
   ]
  },
  {
   "cell_type": "code",
   "execution_count": 10,
   "id": "italic-boston",
   "metadata": {},
   "outputs": [
    {
     "data": {
      "text/html": [
       "<div>\n",
       "<style scoped>\n",
       "    .dataframe tbody tr th:only-of-type {\n",
       "        vertical-align: middle;\n",
       "    }\n",
       "\n",
       "    .dataframe tbody tr th {\n",
       "        vertical-align: top;\n",
       "    }\n",
       "\n",
       "    .dataframe thead th {\n",
       "        text-align: right;\n",
       "    }\n",
       "</style>\n",
       "<table border=\"1\" class=\"dataframe\">\n",
       "  <thead>\n",
       "    <tr style=\"text-align: right;\">\n",
       "      <th></th>\n",
       "      <th>videoname</th>\n",
       "      <th>ct</th>\n",
       "    </tr>\n",
       "  </thead>\n",
       "  <tbody>\n",
       "    <tr>\n",
       "      <th>722</th>\n",
       "      <td>공범 EP1</td>\n",
       "      <td>2021-10-13 09:41:37</td>\n",
       "    </tr>\n",
       "    <tr>\n",
       "      <th>3927</th>\n",
       "      <td>공범 EP2</td>\n",
       "      <td>2021-10-13 09:41:37</td>\n",
       "    </tr>\n",
       "  </tbody>\n",
       "</table>\n",
       "</div>"
      ],
      "text/plain": [
       "     videoname                  ct\n",
       "722     공범 EP1 2021-10-13 09:41:37\n",
       "3927    공범 EP2 2021-10-13 09:41:37"
      ]
     },
     "execution_count": 10,
     "metadata": {},
     "output_type": "execute_result"
    }
   ],
   "source": [
    "answer[['videoname', 'ct']]"
   ]
  },
  {
   "cell_type": "code",
   "execution_count": null,
   "id": "ordinary-camping",
   "metadata": {},
   "outputs": [],
   "source": []
  }
 ],
 "metadata": {
  "kernelspec": {
   "display_name": "Enjoy Data Science",
   "language": "python",
   "name": "enjoy-data-science"
  },
  "language_info": {
   "codemirror_mode": {
    "name": "ipython",
    "version": 3
   },
   "file_extension": ".py",
   "mimetype": "text/x-python",
   "name": "python",
   "nbconvert_exporter": "python",
   "pygments_lexer": "ipython3",
   "version": "3.8.5"
  }
 },
 "nbformat": 4,
 "nbformat_minor": 5
}
