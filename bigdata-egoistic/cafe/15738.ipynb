{
 "cells": [
  {
   "cell_type": "code",
   "execution_count": 1,
   "id": "confirmed-medicine",
   "metadata": {},
   "outputs": [],
   "source": [
    "import pandas as pd"
   ]
  },
  {
   "cell_type": "code",
   "execution_count": 2,
   "id": "accurate-product",
   "metadata": {},
   "outputs": [],
   "source": [
    "df = pd.read_csv('https://raw.githubusercontent.com/Datamanim/datarepo/main/weather/weather2.csv')"
   ]
  },
  {
   "cell_type": "code",
   "execution_count": 4,
   "id": "suspected-blend",
   "metadata": {},
   "outputs": [],
   "source": [
    "df['time'] = pd.to_datetime(df['time'])"
   ]
  },
  {
   "cell_type": "code",
   "execution_count": 5,
   "id": "liquid-grade",
   "metadata": {},
   "outputs": [],
   "source": [
    "summer = df.loc[df.time.dt.month.isin([6,7,8])]"
   ]
  },
  {
   "cell_type": "code",
   "execution_count": 6,
   "id": "gothic-right",
   "metadata": {},
   "outputs": [],
   "source": [
    "answer = len(summer.loc[summer['이화동기온'] > summer['수영동기온']])"
   ]
  },
  {
   "cell_type": "code",
   "execution_count": 7,
   "id": "american-stable",
   "metadata": {},
   "outputs": [
    {
     "data": {
      "text/plain": [
       "1415"
      ]
     },
     "execution_count": 7,
     "metadata": {},
     "output_type": "execute_result"
    }
   ],
   "source": [
    "answer"
   ]
  },
  {
   "cell_type": "code",
   "execution_count": 9,
   "id": "fuzzy-bottle",
   "metadata": {},
   "outputs": [
    {
     "data": {
      "text/plain": [
       "array(['2020-09-30T09:00:00.000000000'], dtype='datetime64[ns]')"
      ]
     },
     "execution_count": 9,
     "metadata": {},
     "output_type": "execute_result"
    }
   ],
   "source": [
    "df.loc[df['이화동강수'] == df['이화동강수'].max()]['time'].values"
   ]
  },
  {
   "cell_type": "code",
   "execution_count": 12,
   "id": "later-charlotte",
   "metadata": {},
   "outputs": [
    {
     "data": {
      "text/plain": [
       "array(['2020-07-23T12:00:00.000000000'], dtype='datetime64[ns]')"
      ]
     },
     "execution_count": 12,
     "metadata": {},
     "output_type": "execute_result"
    }
   ],
   "source": [
    "df.loc[df['수영동강수'] == df['수영동강수'].max()].time.values"
   ]
  },
  {
   "cell_type": "code",
   "execution_count": null,
   "id": "given-shade",
   "metadata": {},
   "outputs": [],
   "source": [
    "https://cafe.naver.com/yjbooks/17033"
   ]
  }
 ],
 "metadata": {
  "kernelspec": {
   "display_name": "Enjoy Data Science",
   "language": "python",
   "name": "enjoy-data-science"
  },
  "language_info": {
   "codemirror_mode": {
    "name": "ipython",
    "version": 3
   },
   "file_extension": ".py",
   "mimetype": "text/x-python",
   "name": "python",
   "nbconvert_exporter": "python",
   "pygments_lexer": "ipython3",
   "version": "3.8.10"
  }
 },
 "nbformat": 4,
 "nbformat_minor": 5
}
