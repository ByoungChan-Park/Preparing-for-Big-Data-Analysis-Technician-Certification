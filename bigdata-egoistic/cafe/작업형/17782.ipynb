{
 "cells": [
  {
   "cell_type": "code",
   "execution_count": 1,
   "id": "f884ab89-a7ad-440a-8e47-44e404023446",
   "metadata": {},
   "outputs": [],
   "source": [
    "import numpy as np\n",
    "import pandas as pd\n",
    "import scipy as sp\n",
    "\n",
    "from sklearn.ensemble import RandomForestRegressor, GradientBoostingRegressor, AdaBoostRegressor\n",
    "from sklearn.linear_model import LinearRegression\n",
    "from sklearn.metrics import r2_score, f1_score, accuracy_score, roc_auc_score\n",
    "from sklearn.pipeline import Pipeline\n",
    "from sklearn.model_selection import train_test_split, GridSearchCV\n",
    "from sklearn.preprocessing import StandardScaler, MinMaxScaler, LabelEncoder"
   ]
  },
  {
   "cell_type": "code",
   "execution_count": 2,
   "id": "296528c4-e280-4e0a-9d8f-79e083a4f8b9",
   "metadata": {},
   "outputs": [],
   "source": [
    "trainData  = 'https://raw.githubusercontent.com/Datamanim/datarepo/main/admission/train.csv'\n",
    "testData  = 'https://raw.githubusercontent.com/Datamanim/datarepo/main/admission/test.csv'\n",
    "subData  = 'https://raw.githubusercontent.com/Datamanim/datarepo/main/admission/submission.csv'"
   ]
  },
  {
   "cell_type": "code",
   "execution_count": 3,
   "id": "0bb5b38e-e226-4485-8ab8-ba0659091573",
   "metadata": {},
   "outputs": [],
   "source": [
    "train = pd.read_csv(trainData)\n",
    "test = pd.read_csv(testData)\n",
    "sub = pd.read_csv(subData)"
   ]
  },
  {
   "cell_type": "code",
   "execution_count": 4,
   "id": "80225b5c-e288-439b-8230-8072abbb16bc",
   "metadata": {},
   "outputs": [
    {
     "data": {
      "text/plain": [
       "Serial No.           0\n",
       "GRE Score            0\n",
       "TOEFL Score          0\n",
       "University Rating    0\n",
       "SOP                  0\n",
       "LOR                  0\n",
       "CGPA                 0\n",
       "Research             0\n",
       "Chance of Admit      0\n",
       "dtype: int64"
      ]
     },
     "execution_count": 4,
     "metadata": {},
     "output_type": "execute_result"
    }
   ],
   "source": [
    "train.isnull().sum()"
   ]
  },
  {
   "cell_type": "code",
   "execution_count": 5,
   "id": "f3663f42-d38e-4223-9351-0d1e4a802d1d",
   "metadata": {},
   "outputs": [],
   "source": [
    "X = train.drop(['Serial No.','Chance of Admit'], axis=1)\n",
    "y = train['Chance of Admit']\n",
    "\n",
    "X = StandardScaler().fit_transform(X)"
   ]
  },
  {
   "cell_type": "code",
   "execution_count": 6,
   "id": "c953824d-edd0-4407-9c85-b5bb9afc0640",
   "metadata": {},
   "outputs": [],
   "source": [
    "X_train, X_test, y_train, y_test = train_test_split(X, y, test_size=0.2, random_state=42)"
   ]
  },
  {
   "cell_type": "code",
   "execution_count": 7,
   "id": "175d53dc-e3fd-428a-affc-9ff7d988605a",
   "metadata": {},
   "outputs": [
    {
     "data": {
      "text/plain": [
       "0.7948207873977469"
      ]
     },
     "execution_count": 7,
     "metadata": {},
     "output_type": "execute_result"
    }
   ],
   "source": [
    "rf = RandomForestRegressor(random_state=42).fit(X_train, y_train)\n",
    "y_pred = rf.predict(X_test)\n",
    "r2_score(y_test, y_pred)"
   ]
  },
  {
   "cell_type": "code",
   "execution_count": 8,
   "id": "6b23e7b8-a30f-467b-b0b4-c5d3f96dd26c",
   "metadata": {},
   "outputs": [
    {
     "data": {
      "text/plain": [
       "0.7828170702620636"
      ]
     },
     "execution_count": 8,
     "metadata": {},
     "output_type": "execute_result"
    }
   ],
   "source": [
    "ab = AdaBoostRegressor(random_state=42).fit(X_train, y_train)\n",
    "y_pred = ab.predict(X_test)\n",
    "r2_score(y_test, y_pred)"
   ]
  },
  {
   "cell_type": "code",
   "execution_count": 9,
   "id": "9dfab651-e218-450a-8c26-317d9dbf2b62",
   "metadata": {},
   "outputs": [
    {
     "data": {
      "text/plain": [
       "0.8226037515231047"
      ]
     },
     "execution_count": 9,
     "metadata": {},
     "output_type": "execute_result"
    }
   ],
   "source": [
    "gb = GradientBoostingRegressor(random_state=42).fit(X_train, y_train)\n",
    "y_pred = gb.predict(X_test)\n",
    "r2_score(y_test, y_pred)"
   ]
  },
  {
   "cell_type": "code",
   "execution_count": 10,
   "id": "a247b8ff-bdd7-4710-97f1-6edaff21a029",
   "metadata": {},
   "outputs": [
    {
     "data": {
      "text/plain": [
       "0.7970925538768222"
      ]
     },
     "execution_count": 10,
     "metadata": {},
     "output_type": "execute_result"
    }
   ],
   "source": [
    "pipe = Pipeline([('scaler', StandardScaler()), ('rf', RandomForestRegressor())])\n",
    "params = [{'rf__random_state':[1, 10, 100], 'rf__n_jobs':[1, 10, 100]}]\n",
    "cv = GridSearchCV(pipe, params, n_jobs=1).fit(X_train, y_train)\n",
    "r2_score(y_test, cv.predict(X_test))"
   ]
  },
  {
   "cell_type": "code",
   "execution_count": 11,
   "id": "36a12a2d-c09c-47e4-848c-8151e0c2d6ab",
   "metadata": {},
   "outputs": [],
   "source": [
    "test_test = test.drop(['Serial No.'], axis=1)\n",
    "test_test = StandardScaler().fit_transform(test_test)"
   ]
  },
  {
   "cell_type": "code",
   "execution_count": 12,
   "id": "56f4f730-5e88-4113-ab18-f4536ef06f27",
   "metadata": {},
   "outputs": [],
   "source": [
    "test_pred = gb.predict(test_test)\n",
    "sub[0] = test_pred\n",
    "sub.to_csv('17782.csv',index=False)"
   ]
  },
  {
   "cell_type": "code",
   "execution_count": null,
   "id": "f27c5882-2fd1-4b08-9aba-1421fc2a0c66",
   "metadata": {},
   "outputs": [],
   "source": []
  }
 ],
 "metadata": {
  "kernelspec": {
   "display_name": "Enjoy Data Science",
   "language": "python",
   "name": "enjoy-data-science"
  },
  "language_info": {
   "codemirror_mode": {
    "name": "ipython",
    "version": 3
   },
   "file_extension": ".py",
   "mimetype": "text/x-python",
   "name": "python",
   "nbconvert_exporter": "python",
   "pygments_lexer": "ipython3",
   "version": "3.8.10"
  }
 },
 "nbformat": 4,
 "nbformat_minor": 5
}
