{
 "cells": [
  {
   "cell_type": "code",
   "execution_count": 1,
   "id": "e31f7be6-197e-467b-ac30-dcf39da44f87",
   "metadata": {},
   "outputs": [],
   "source": [
    "import pandas as pd"
   ]
  },
  {
   "cell_type": "code",
   "execution_count": 2,
   "id": "33600ab8-6aef-4675-8259-e28652031b23",
   "metadata": {},
   "outputs": [],
   "source": [
    "df = pd.read_csv('https://raw.githubusercontent.com/Datamanim/datarepo/main/redwine/train.csv')"
   ]
  },
  {
   "cell_type": "code",
   "execution_count": 4,
   "id": "f0711a1d-9c05-4e80-9d7f-c8a96f5cd107",
   "metadata": {},
   "outputs": [
    {
     "data": {
      "text/html": [
       "<div>\n",
       "<style scoped>\n",
       "    .dataframe tbody tr th:only-of-type {\n",
       "        vertical-align: middle;\n",
       "    }\n",
       "\n",
       "    .dataframe tbody tr th {\n",
       "        vertical-align: top;\n",
       "    }\n",
       "\n",
       "    .dataframe thead th {\n",
       "        text-align: right;\n",
       "    }\n",
       "</style>\n",
       "<table border=\"1\" class=\"dataframe\">\n",
       "  <thead>\n",
       "    <tr style=\"text-align: right;\">\n",
       "      <th></th>\n",
       "      <th>fixed acidity</th>\n",
       "      <th>volatile acidity</th>\n",
       "      <th>citric acid</th>\n",
       "      <th>residual sugar</th>\n",
       "      <th>chlorides</th>\n",
       "      <th>free sulfur dioxide</th>\n",
       "      <th>total sulfur dioxide</th>\n",
       "      <th>density</th>\n",
       "      <th>pH</th>\n",
       "      <th>sulphates</th>\n",
       "      <th>alcohol</th>\n",
       "      <th>quality</th>\n",
       "    </tr>\n",
       "  </thead>\n",
       "  <tbody>\n",
       "    <tr>\n",
       "      <th>0</th>\n",
       "      <td>5.0</td>\n",
       "      <td>0.38</td>\n",
       "      <td>0.01</td>\n",
       "      <td>1.6</td>\n",
       "      <td>0.048</td>\n",
       "      <td>26.0</td>\n",
       "      <td>60.0</td>\n",
       "      <td>0.99084</td>\n",
       "      <td>3.70</td>\n",
       "      <td>0.75</td>\n",
       "      <td>14.0</td>\n",
       "      <td>6</td>\n",
       "    </tr>\n",
       "    <tr>\n",
       "      <th>1</th>\n",
       "      <td>5.0</td>\n",
       "      <td>0.42</td>\n",
       "      <td>0.24</td>\n",
       "      <td>2.0</td>\n",
       "      <td>0.060</td>\n",
       "      <td>19.0</td>\n",
       "      <td>50.0</td>\n",
       "      <td>0.99170</td>\n",
       "      <td>3.72</td>\n",
       "      <td>0.74</td>\n",
       "      <td>14.0</td>\n",
       "      <td>8</td>\n",
       "    </tr>\n",
       "    <tr>\n",
       "      <th>2</th>\n",
       "      <td>7.1</td>\n",
       "      <td>0.36</td>\n",
       "      <td>0.30</td>\n",
       "      <td>1.6</td>\n",
       "      <td>0.080</td>\n",
       "      <td>35.0</td>\n",
       "      <td>70.0</td>\n",
       "      <td>0.99693</td>\n",
       "      <td>3.44</td>\n",
       "      <td>0.50</td>\n",
       "      <td>9.4</td>\n",
       "      <td>5</td>\n",
       "    </tr>\n",
       "    <tr>\n",
       "      <th>3</th>\n",
       "      <td>7.6</td>\n",
       "      <td>0.29</td>\n",
       "      <td>0.49</td>\n",
       "      <td>2.7</td>\n",
       "      <td>0.092</td>\n",
       "      <td>25.0</td>\n",
       "      <td>60.0</td>\n",
       "      <td>0.99710</td>\n",
       "      <td>3.31</td>\n",
       "      <td>0.61</td>\n",
       "      <td>10.1</td>\n",
       "      <td>6</td>\n",
       "    </tr>\n",
       "    <tr>\n",
       "      <th>4</th>\n",
       "      <td>7.7</td>\n",
       "      <td>0.51</td>\n",
       "      <td>0.28</td>\n",
       "      <td>2.1</td>\n",
       "      <td>0.087</td>\n",
       "      <td>23.0</td>\n",
       "      <td>54.0</td>\n",
       "      <td>0.99800</td>\n",
       "      <td>3.42</td>\n",
       "      <td>0.74</td>\n",
       "      <td>9.2</td>\n",
       "      <td>5</td>\n",
       "    </tr>\n",
       "  </tbody>\n",
       "</table>\n",
       "</div>"
      ],
      "text/plain": [
       "   fixed acidity  volatile acidity  citric acid  residual sugar  chlorides  \\\n",
       "0            5.0              0.38         0.01             1.6      0.048   \n",
       "1            5.0              0.42         0.24             2.0      0.060   \n",
       "2            7.1              0.36         0.30             1.6      0.080   \n",
       "3            7.6              0.29         0.49             2.7      0.092   \n",
       "4            7.7              0.51         0.28             2.1      0.087   \n",
       "\n",
       "   free sulfur dioxide  total sulfur dioxide  density    pH  sulphates  \\\n",
       "0                 26.0                  60.0  0.99084  3.70       0.75   \n",
       "1                 19.0                  50.0  0.99170  3.72       0.74   \n",
       "2                 35.0                  70.0  0.99693  3.44       0.50   \n",
       "3                 25.0                  60.0  0.99710  3.31       0.61   \n",
       "4                 23.0                  54.0  0.99800  3.42       0.74   \n",
       "\n",
       "   alcohol  quality  \n",
       "0     14.0        6  \n",
       "1     14.0        8  \n",
       "2      9.4        5  \n",
       "3     10.1        6  \n",
       "4      9.2        5  "
      ]
     },
     "execution_count": 4,
     "metadata": {},
     "output_type": "execute_result"
    }
   ],
   "source": [
    "df.head()"
   ]
  },
  {
   "cell_type": "markdown",
   "id": "220f2cf8-ed3c-4da4-9574-00f8ab493af9",
   "metadata": {},
   "source": [
    "### Q1. quality 값이 3인 데이터와 8인 데이터의 각 독립변수의 표준편차 값이 가장 큰 컬럼을 구하여라"
   ]
  },
  {
   "cell_type": "code",
   "execution_count": 19,
   "id": "c2881dd2-940e-4bf0-9d95-4e103e78830f",
   "metadata": {},
   "outputs": [
    {
     "data": {
      "text/plain": [
       "residual sugar         -0.891206\n",
       "volatile acidity       -0.203168\n",
       "citric acid            -0.079027\n",
       "chlorides              -0.056523\n",
       "sulphates              -0.003621\n",
       "quality                 0.000000\n",
       "density                 0.000009\n",
       "fixed acidity           0.015761\n",
       "pH                      0.050075\n",
       "alcohol                 0.273466\n",
       "free sulfur dioxide     1.482114\n",
       "total sulfur dioxide    9.863977\n",
       "dtype: float64"
      ]
     },
     "execution_count": 19,
     "metadata": {},
     "output_type": "execute_result"
    }
   ],
   "source": [
    "(df.loc[df.quality ==8].std() - df.loc[df.quality ==3].std()).sort_values()"
   ]
  },
  {
   "cell_type": "code",
   "execution_count": 5,
   "id": "ef56ed77-e5ea-49fc-a3ea-32d9ee92fa3b",
   "metadata": {},
   "outputs": [],
   "source": [
    "df3 = df[df['quality'] == 3]\n",
    "df8 = df[df['quality'] == 8]"
   ]
  },
  {
   "cell_type": "code",
   "execution_count": 14,
   "id": "d9dc84a4-35cd-4e28-a573-7fde35f4bee9",
   "metadata": {},
   "outputs": [
    {
     "data": {
      "text/plain": [
       "'total sulfur dioxide'"
      ]
     },
     "execution_count": 14,
     "metadata": {},
     "output_type": "execute_result"
    }
   ],
   "source": [
    "df3.std().sort_values().index[-1]"
   ]
  },
  {
   "cell_type": "code",
   "execution_count": 15,
   "id": "160c3028-b7e0-4820-ad4f-3ff37c165476",
   "metadata": {},
   "outputs": [
    {
     "data": {
      "text/plain": [
       "'total sulfur dioxide'"
      ]
     },
     "execution_count": 15,
     "metadata": {},
     "output_type": "execute_result"
    }
   ],
   "source": [
    "df8.std().sort_values().index[-1]"
   ]
  },
  {
   "cell_type": "code",
   "execution_count": null,
   "id": "d5f7b3c4-d868-476c-83b5-64a1d51a984e",
   "metadata": {},
   "outputs": [],
   "source": []
  }
 ],
 "metadata": {
  "kernelspec": {
   "display_name": "Enjoy Data Science",
   "language": "python",
   "name": "enjoy-data-science"
  },
  "language_info": {
   "codemirror_mode": {
    "name": "ipython",
    "version": 3
   },
   "file_extension": ".py",
   "mimetype": "text/x-python",
   "name": "python",
   "nbconvert_exporter": "python",
   "pygments_lexer": "ipython3",
   "version": "3.8.10"
  }
 },
 "nbformat": 4,
 "nbformat_minor": 5
}
