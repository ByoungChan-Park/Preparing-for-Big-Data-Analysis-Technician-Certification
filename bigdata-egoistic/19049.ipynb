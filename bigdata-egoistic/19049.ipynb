{
 "cells": [
  {
   "cell_type": "code",
   "execution_count": 1,
   "id": "b728d7c5-70d7-4c15-adb5-b320dc1267e0",
   "metadata": {},
   "outputs": [],
   "source": [
    "import pandas as pd"
   ]
  },
  {
   "cell_type": "code",
   "execution_count": 2,
   "id": "c3c67d46-5382-49ea-8d4c-5f064104c48b",
   "metadata": {},
   "outputs": [],
   "source": [
    "df = pd.read_csv('https://raw.githubusercontent.com/Datamanim/datarepo/main/nflx/NFLX.csv')"
   ]
  },
  {
   "cell_type": "code",
   "execution_count": 5,
   "id": "f9ab1e90-8167-427a-926a-9ab04e840c8c",
   "metadata": {},
   "outputs": [
    {
     "name": "stdout",
     "output_type": "stream",
     "text": [
      "<class 'pandas.core.frame.DataFrame'>\n",
      "RangeIndex: 4874 entries, 0 to 4873\n",
      "Data columns (total 7 columns):\n",
      " #   Column     Non-Null Count  Dtype  \n",
      "---  ------     --------------  -----  \n",
      " 0   Date       4874 non-null   object \n",
      " 1   Open       4874 non-null   float64\n",
      " 2   High       4874 non-null   float64\n",
      " 3   Low        4874 non-null   float64\n",
      " 4   Close      4874 non-null   float64\n",
      " 5   Adj Close  4874 non-null   float64\n",
      " 6   Volume     4874 non-null   int64  \n",
      "dtypes: float64(5), int64(1), object(1)\n",
      "memory usage: 266.7+ KB\n"
     ]
    }
   ],
   "source": [
    "df.info()"
   ]
  },
  {
   "cell_type": "markdown",
   "id": "dc0e8f31-2360-4ae1-8d8b-63e3e960cff9",
   "metadata": {},
   "source": [
    "### Q1. 매년"
   ]
  },
  {
   "cell_type": "code",
   "execution_count": 10,
   "id": "5e590284-a9c6-4ef1-a0d4-01f0fa989cae",
   "metadata": {},
   "outputs": [],
   "source": [
    "df['Date'] = pd.to_datetime(df['Date'])"
   ]
  },
  {
   "cell_type": "code",
   "execution_count": 41,
   "id": "846d3326-375d-4fc5-bd9b-14fd5a5031b8",
   "metadata": {},
   "outputs": [],
   "source": [
    "df['Date_Str'] = df['Date'].dt.strftime('%Y-%m')"
   ]
  },
  {
   "cell_type": "code",
   "execution_count": 43,
   "id": "a33bf190-47bb-4259-949c-bfb1bcc2a0d4",
   "metadata": {},
   "outputs": [
    {
     "name": "stdout",
     "output_type": "stream",
     "text": [
      "<class 'pandas.core.frame.DataFrame'>\n",
      "RangeIndex: 4874 entries, 0 to 4873\n",
      "Data columns (total 8 columns):\n",
      " #   Column     Non-Null Count  Dtype         \n",
      "---  ------     --------------  -----         \n",
      " 0   Date       4874 non-null   datetime64[ns]\n",
      " 1   Open       4874 non-null   float64       \n",
      " 2   High       4874 non-null   float64       \n",
      " 3   Low        4874 non-null   float64       \n",
      " 4   Close      4874 non-null   float64       \n",
      " 5   Adj Close  4874 non-null   float64       \n",
      " 6   Volume     4874 non-null   int64         \n",
      " 7   Date_Str   4874 non-null   object        \n",
      "dtypes: datetime64[ns](1), float64(5), int64(1), object(1)\n",
      "memory usage: 304.8+ KB\n"
     ]
    }
   ],
   "source": [
    "df.info()"
   ]
  },
  {
   "cell_type": "code",
   "execution_count": 28,
   "id": "cbf29ad4-3d9c-40e9-839a-031aff10b828",
   "metadata": {},
   "outputs": [],
   "source": [
    "df1 = df.groupby(df['Date'].dt.strftime('%Y-%m')).mean()"
   ]
  },
  {
   "cell_type": "code",
   "execution_count": 34,
   "id": "2a6ff95a-29bf-42b7-ae9a-e3ed7dd6553a",
   "metadata": {},
   "outputs": [
    {
     "data": {
      "text/html": [
       "<div>\n",
       "<style scoped>\n",
       "    .dataframe tbody tr th:only-of-type {\n",
       "        vertical-align: middle;\n",
       "    }\n",
       "\n",
       "    .dataframe tbody tr th {\n",
       "        vertical-align: top;\n",
       "    }\n",
       "\n",
       "    .dataframe thead th {\n",
       "        text-align: right;\n",
       "    }\n",
       "</style>\n",
       "<table border=\"1\" class=\"dataframe\">\n",
       "  <thead>\n",
       "    <tr style=\"text-align: right;\">\n",
       "      <th></th>\n",
       "      <th>Open</th>\n",
       "      <th>High</th>\n",
       "      <th>Low</th>\n",
       "      <th>Close</th>\n",
       "      <th>Adj Close</th>\n",
       "      <th>Volume</th>\n",
       "    </tr>\n",
       "    <tr>\n",
       "      <th>Date</th>\n",
       "      <th></th>\n",
       "      <th></th>\n",
       "      <th></th>\n",
       "      <th></th>\n",
       "      <th></th>\n",
       "      <th></th>\n",
       "    </tr>\n",
       "  </thead>\n",
       "  <tbody>\n",
       "    <tr>\n",
       "      <th>2002-05</th>\n",
       "      <td>1.155833</td>\n",
       "      <td>1.175119</td>\n",
       "      <td>1.121429</td>\n",
       "      <td>1.135834</td>\n",
       "      <td>1.135834</td>\n",
       "      <td>2.464677e+07</td>\n",
       "    </tr>\n",
       "    <tr>\n",
       "      <th>2002-06</th>\n",
       "      <td>1.050214</td>\n",
       "      <td>1.084321</td>\n",
       "      <td>1.011929</td>\n",
       "      <td>1.038071</td>\n",
       "      <td>1.038071</td>\n",
       "      <td>3.709510e+06</td>\n",
       "    </tr>\n",
       "    <tr>\n",
       "      <th>2002-07</th>\n",
       "      <td>1.119578</td>\n",
       "      <td>1.154675</td>\n",
       "      <td>1.066429</td>\n",
       "      <td>1.110000</td>\n",
       "      <td>1.110000</td>\n",
       "      <td>3.345936e+06</td>\n",
       "    </tr>\n",
       "    <tr>\n",
       "      <th>2002-08</th>\n",
       "      <td>0.874805</td>\n",
       "      <td>0.902175</td>\n",
       "      <td>0.832890</td>\n",
       "      <td>0.870974</td>\n",
       "      <td>0.870974</td>\n",
       "      <td>2.949227e+06</td>\n",
       "    </tr>\n",
       "    <tr>\n",
       "      <th>2002-09</th>\n",
       "      <td>0.843179</td>\n",
       "      <td>0.858679</td>\n",
       "      <td>0.812786</td>\n",
       "      <td>0.828071</td>\n",
       "      <td>0.828071</td>\n",
       "      <td>2.787470e+06</td>\n",
       "    </tr>\n",
       "  </tbody>\n",
       "</table>\n",
       "</div>"
      ],
      "text/plain": [
       "             Open      High       Low     Close  Adj Close        Volume\n",
       "Date                                                                    \n",
       "2002-05  1.155833  1.175119  1.121429  1.135834   1.135834  2.464677e+07\n",
       "2002-06  1.050214  1.084321  1.011929  1.038071   1.038071  3.709510e+06\n",
       "2002-07  1.119578  1.154675  1.066429  1.110000   1.110000  3.345936e+06\n",
       "2002-08  0.874805  0.902175  0.832890  0.870974   0.870974  2.949227e+06\n",
       "2002-09  0.843179  0.858679  0.812786  0.828071   0.828071  2.787470e+06"
      ]
     },
     "execution_count": 34,
     "metadata": {},
     "output_type": "execute_result"
    }
   ],
   "source": [
    "df1.head()"
   ]
  },
  {
   "cell_type": "code",
   "execution_count": 33,
   "id": "3e864e77-d976-49df-a23b-758e8037f962",
   "metadata": {
    "tags": []
   },
   "outputs": [
    {
     "data": {
      "text/plain": [
       "Date\n",
       "2002-05      1.155833\n",
       "2003-05      1.641497\n",
       "2004-05      4.261143\n",
       "2005-05      1.951905\n",
       "2006-05      4.163571\n",
       "2007-05      3.159351\n",
       "2008-05      4.435034\n",
       "2009-05      5.790571\n",
       "2010-05     14.417071\n",
       "2011-05     34.650272\n",
       "2012-05     10.523247\n",
       "2013-05     31.936429\n",
       "2014-05     51.121292\n",
       "2015-05     85.057429\n",
       "2016-05     92.705715\n",
       "2017-05    158.255455\n",
       "2018-05    329.779541\n",
       "2019-05    359.664548\n",
       "2020-05    433.880499\n",
       "2021-05    496.923996\n",
       "Name: Open, dtype: float64"
      ]
     },
     "execution_count": 33,
     "metadata": {},
     "output_type": "execute_result"
    }
   ],
   "source": [
    "df1.loc[df1.index.str.contains('-05')]['Open']"
   ]
  },
  {
   "cell_type": "code",
   "execution_count": null,
   "id": "afe875d3-2537-4fe7-8a75-34f31a11f985",
   "metadata": {},
   "outputs": [],
   "source": []
  }
 ],
 "metadata": {
  "kernelspec": {
   "display_name": "Enjoy Data Science",
   "language": "python",
   "name": "enjoy-data-science"
  },
  "language_info": {
   "codemirror_mode": {
    "name": "ipython",
    "version": 3
   },
   "file_extension": ".py",
   "mimetype": "text/x-python",
   "name": "python",
   "nbconvert_exporter": "python",
   "pygments_lexer": "ipython3",
   "version": "3.8.5"
  }
 },
 "nbformat": 4,
 "nbformat_minor": 5
}
