{
 "cells": [
  {
   "cell_type": "code",
   "execution_count": 1,
   "id": "social-danish",
   "metadata": {},
   "outputs": [],
   "source": [
    "import re\n",
    "import os\n",
    "import json\n",
    "import h5py\n",
    "import numpy as np\n",
    "import pandas as pd\n",
    "import sentencepiece as spm\n",
    "\n",
    "from tqdm.notebook import tqdm"
   ]
  },
  {
   "cell_type": "code",
   "execution_count": 2,
   "id": "julian-uncle",
   "metadata": {},
   "outputs": [],
   "source": [
    "RAW_DATA_DIR = '../input/raw_data'\n",
    "PROCESSED_DATA_DIR = '../input/processed'\n",
    "VOCAB_DIR = os.path.join(PROCESSED_DATA_DIR, 'vocab')"
   ]
  },
  {
   "cell_type": "code",
   "execution_count": 3,
   "id": "invalid-pharmacology",
   "metadata": {},
   "outputs": [],
   "source": [
    "train_file_list=['train.chunk.{0}'.format(str(i).zfill(2)) for i in range(1,10)]\n",
    "dev_file_list = ['dev.chuck.01']\n",
    "test_file_list = ['test.chuck.01','test.chuck.02']"
   ]
  },
  {
   "cell_type": "code",
   "execution_count": 4,
   "id": "clinical-coaching",
   "metadata": {},
   "outputs": [],
   "source": [
    "train_path_list = [os.path.join(RAW_DATA_DIR, fn) for fn in train_file_list]\n",
    "dev_path_list = [os.path.join(RAW_DATA_DIR, fn) for fn in dev_file_list]\n",
    "test_path_list = [os.path.join(RAW_DATA_DIR, fn) for fn in test_file_list]"
   ]
  },
  {
   "cell_type": "code",
   "execution_count": 5,
   "id": "appropriate-paste",
   "metadata": {},
   "outputs": [],
   "source": [
    "os.makedirs(PROCESSED_DATA_DIR, exist_ok=True)\n",
    "os.makedirs(VOCAB_DIR, exist_ok=True)"
   ]
  },
  {
   "cell_type": "code",
   "execution_count": 6,
   "id": "going-medium",
   "metadata": {},
   "outputs": [],
   "source": [
    "def get_colum_data(path_list, div, col):\n",
    "    col_data = []\n",
    "    for path in path_list:\n",
    "        h = h5py.File(path, 'r')\n",
    "        col_data.append(h[div][col][:])\n",
    "        h.close()\n",
    "    return np.concatenate(col_data)"
   ]
  },
  {
   "cell_type": "code",
   "execution_count": 7,
   "id": "lovely-bubble",
   "metadata": {},
   "outputs": [],
   "source": [
    "def get_dataframe(path_list, div):\n",
    "    pids = get_colum_data(path_list, div, col='pid')\n",
    "    products = get_colum_data(path_list, div, col='product')\n",
    "    brands = get_colum_data(path_list, div, col='product')\n",
    "    makers = get_colum_data(path_list, div, col='maker')\n",
    "    models = get_colum_data(path_list, div, col='model')\n",
    "    prices = get_colum_data(path_list, div, col='price')\n",
    "    updttms = get_colum_data(path_list, div, col='updttm')\n",
    "    bcates = get_colum_data(path_list, div, col='bcateid')\n",
    "    mcates = get_colum_data(path_list, div, col='mcateid')\n",
    "    scates = get_colum_data(path_list, div, col='scateid')\n",
    "    dcates = get_colum_data(path_list, div, col='dcateid')\n",
    "    \n",
    "    df = pd.DataFrame({'pid': pids, 'product': products, 'brand': brands , 'maker': makers, 'model': models,  'price': prices ,  'updttm': updttms, 'bcateid': bcates, 'mcateid': mcates, 'scateid': scates, 'dcateid': dcates})\n",
    "    \n",
    "    df['pid'] = df['pid'].map(lambda x: x.decode('utf-8'))\n",
    "    df['product'] = df['product'].map(lambda x: x.decode('utf-8'))\n",
    "    df['brand'] = df['brand'].map(lambda x: x.decode('utf-8'))\n",
    "    df['maker'] = df['maker'].map(lambda x: x.decode('utf-8'))\n",
    "    df['model'] = df['model'].map(lambda x: x.decode('utf-8'))\n",
    "    df['updttm'] = df['updttm'].map(lambda x: x.decode('utf-8'))\n",
    "    \n",
    "    return df"
   ]
  },
  {
   "cell_type": "code",
   "execution_count": 8,
   "id": "advance-attribute",
   "metadata": {},
   "outputs": [
    {
     "name": "stdout",
     "output_type": "stream",
     "text": [
      "CPU times: user 44.8 s, sys: 33.9 s, total: 1min 18s\n",
      "Wall time: 1min 27s\n"
     ]
    }
   ],
   "source": [
    "%%time\n",
    "train_df = get_dataframe(train_path_list, 'train')"
   ]
  },
  {
   "cell_type": "code",
   "execution_count": 9,
   "id": "compliant-companion",
   "metadata": {},
   "outputs": [],
   "source": [
    "cate_json = json.load(open(os.path.join(RAW_DATA_DIR, 'cate1.json')))"
   ]
  },
  {
   "cell_type": "code",
   "execution_count": 10,
   "id": "lesbian-evening",
   "metadata": {},
   "outputs": [],
   "source": [
    "bid2nm = dict([(cid, name) for name, cid in cate_json['b'].items()])\n",
    "mid2nm = dict([(cid, name) for name, cid in cate_json['m'].items()])\n",
    "sid2nm = dict([(cid, name) for name, cid in cate_json['s'].items()])\n",
    "did2nm = dict([(cid, name) for name, cid in cate_json['d'].items()])"
   ]
  },
  {
   "cell_type": "code",
   "execution_count": 11,
   "id": "optimum-climate",
   "metadata": {},
   "outputs": [],
   "source": [
    "train_df['bcatenm'] = train_df['bcateid'].map(bid2nm)\n",
    "train_df['mcatenm'] = train_df['mcateid'].map(mid2nm)\n",
    "train_df['scatenm'] = train_df['scateid'].map(sid2nm)\n",
    "train_df['dcatenm'] = train_df['dcateid'].map(did2nm)"
   ]
  },
  {
   "cell_type": "code",
   "execution_count": 12,
   "id": "industrial-closer",
   "metadata": {},
   "outputs": [],
   "source": [
    "def get_vc_df(df, col):\n",
    "    vc_df = df[col].value_counts().reset_index()\n",
    "    vc_df.columns = [col, 'count']\n",
    "    vc_df['per'] = (vc_df['count'] / vc_df['count'].sum()) * 100\n",
    "    return vc_df"
   ]
  },
  {
   "cell_type": "code",
   "execution_count": 13,
   "id": "separated-enclosure",
   "metadata": {},
   "outputs": [],
   "source": [
    "vc_df = get_vc_df(train_df, 'brand')"
   ]
  },
  {
   "cell_type": "code",
   "execution_count": 14,
   "id": "official-plant",
   "metadata": {},
   "outputs": [],
   "source": [
    "train_df = train_df[['pid', 'product', 'bcateid', 'mcateid', 'scateid', 'dcateid']]"
   ]
  },
  {
   "cell_type": "code",
   "execution_count": 15,
   "id": "third-spyware",
   "metadata": {},
   "outputs": [],
   "source": [
    "p = re.compile('[\\!@#$%\\^&\\*\\(\\)-=\\[\\]\\{\\}\\.,/\\?~\\+\\'\"|]')"
   ]
  },
  {
   "cell_type": "code",
   "execution_count": 16,
   "id": "impaired-novel",
   "metadata": {},
   "outputs": [],
   "source": [
    "def remove_special_characters(sentence, lower=True):\n",
    "    sentence = p.sub(' ', sentence)\n",
    "    sentence = ' '.join(sentence.split())\n",
    "    if lower:\n",
    "        sentence = sentence.lower()\n",
    "    return sentence"
   ]
  },
  {
   "cell_type": "code",
   "execution_count": 17,
   "id": "ahead-personality",
   "metadata": {},
   "outputs": [
    {
     "name": "stdout",
     "output_type": "stream",
     "text": [
      "CPU times: user 28.4 s, sys: 532 ms, total: 29 s\n",
      "Wall time: 29 s\n"
     ]
    }
   ],
   "source": [
    "%%time\n",
    "train_df['product'] = train_df['product'].map(remove_special_characters)"
   ]
  },
  {
   "cell_type": "code",
   "execution_count": 18,
   "id": "toxic-singing",
   "metadata": {},
   "outputs": [
    {
     "data": {
      "text/html": [
       "<div>\n",
       "<style scoped>\n",
       "    .dataframe tbody tr th:only-of-type {\n",
       "        vertical-align: middle;\n",
       "    }\n",
       "\n",
       "    .dataframe tbody tr th {\n",
       "        vertical-align: top;\n",
       "    }\n",
       "\n",
       "    .dataframe thead th {\n",
       "        text-align: right;\n",
       "    }\n",
       "</style>\n",
       "<table border=\"1\" class=\"dataframe\">\n",
       "  <thead>\n",
       "    <tr style=\"text-align: right;\">\n",
       "      <th></th>\n",
       "      <th>pid</th>\n",
       "      <th>product</th>\n",
       "      <th>bcateid</th>\n",
       "      <th>mcateid</th>\n",
       "      <th>scateid</th>\n",
       "      <th>dcateid</th>\n",
       "    </tr>\n",
       "  </thead>\n",
       "  <tbody>\n",
       "    <tr>\n",
       "      <th>0</th>\n",
       "      <td>O4486751463</td>\n",
       "      <td>직소퍼즐 조각 바다거북의 여행 pl</td>\n",
       "      <td>1</td>\n",
       "      <td>1</td>\n",
       "      <td>2</td>\n",
       "      <td>-1</td>\n",
       "    </tr>\n",
       "    <tr>\n",
       "      <th>1</th>\n",
       "      <td>P3307178849</td>\n",
       "      <td>모리케이스 아이폰 s s tree farm 다이어리케이스 바보사랑 무료배송</td>\n",
       "      <td>3</td>\n",
       "      <td>3</td>\n",
       "      <td>4</td>\n",
       "      <td>-1</td>\n",
       "    </tr>\n",
       "    <tr>\n",
       "      <th>2</th>\n",
       "      <td>R4424255515</td>\n",
       "      <td>크리비아 기모 부 속바지 glg p</td>\n",
       "      <td>5</td>\n",
       "      <td>5</td>\n",
       "      <td>6</td>\n",
       "      <td>-1</td>\n",
       "    </tr>\n",
       "    <tr>\n",
       "      <th>3</th>\n",
       "      <td>F3334315393</td>\n",
       "      <td>하프클럽 잭앤질 남성 솔리드 절개라인 포인트 포켓 팬츠 pt _na</td>\n",
       "      <td>7</td>\n",
       "      <td>7</td>\n",
       "      <td>8</td>\n",
       "      <td>-1</td>\n",
       "    </tr>\n",
       "    <tr>\n",
       "      <th>4</th>\n",
       "      <td>N731678492</td>\n",
       "      <td>코드프리혈당시험지 매 코드프리시험지 최장유효기간</td>\n",
       "      <td>10</td>\n",
       "      <td>9</td>\n",
       "      <td>11</td>\n",
       "      <td>-1</td>\n",
       "    </tr>\n",
       "  </tbody>\n",
       "</table>\n",
       "</div>"
      ],
      "text/plain": [
       "           pid                                    product  bcateid  mcateid  \\\n",
       "0  O4486751463                        직소퍼즐 조각 바다거북의 여행 pl        1        1   \n",
       "1  P3307178849  모리케이스 아이폰 s s tree farm 다이어리케이스 바보사랑 무료배송        3        3   \n",
       "2  R4424255515                        크리비아 기모 부 속바지 glg p        5        5   \n",
       "3  F3334315393      하프클럽 잭앤질 남성 솔리드 절개라인 포인트 포켓 팬츠 pt _na        7        7   \n",
       "4   N731678492                 코드프리혈당시험지 매 코드프리시험지 최장유효기간       10        9   \n",
       "\n",
       "   scateid  dcateid  \n",
       "0        2       -1  \n",
       "1        4       -1  \n",
       "2        6       -1  \n",
       "3        8       -1  \n",
       "4       11       -1  "
      ]
     },
     "execution_count": 18,
     "metadata": {},
     "output_type": "execute_result"
    }
   ],
   "source": [
    "train_df.head()"
   ]
  },
  {
   "cell_type": "code",
   "execution_count": 31,
   "id": "prospective-beatles",
   "metadata": {},
   "outputs": [],
   "source": [
    "with open(os.path.join(VOCAB_DIR, 'product.txt'), 'w') as f:\n",
    "    f.write(train_df['product'].str.cat(sep='\\n'))"
   ]
  },
  {
   "cell_type": "code",
   "execution_count": 32,
   "id": "decent-programming",
   "metadata": {},
   "outputs": [],
   "source": [
    "def train_spm(txt_path, spm_path, vocab_size=32000, input_sentence_size=1000000):\n",
    "    spm.SentencePieceTrainer.Train(f'--input={txt_path} --model_type=bpe ' f'--model_prefix={spm_path} --vocab_size={vocab_size} ' f'--input_sentence_size={input_sentence_size} ' f'--shuffle_input_sentence=true')"
   ]
  },
  {
   "cell_type": "code",
   "execution_count": 33,
   "id": "based-blood",
   "metadata": {},
   "outputs": [
    {
     "name": "stdout",
     "output_type": "stream",
     "text": [
      "CPU times: user 3min 31s, sys: 3.7 s, total: 3min 35s\n",
      "Wall time: 3min 37s\n"
     ]
    }
   ],
   "source": [
    "%%time\n",
    "train_spm(txt_path=os.path.join(VOCAB_DIR, 'product.txt'), spm_path=os.path.join(VOCAB_DIR, 'spm'))"
   ]
  },
  {
   "cell_type": "code",
   "execution_count": 34,
   "id": "cardiovascular-savage",
   "metadata": {},
   "outputs": [],
   "source": [
    "os.remove(os.path.join(VOCAB_DIR, 'product.txt'))"
   ]
  },
  {
   "cell_type": "code",
   "execution_count": 35,
   "id": "specified-knight",
   "metadata": {},
   "outputs": [
    {
     "name": "stdout",
     "output_type": "stream",
     "text": [
      "../input/processed/vocab/spm.model\n",
      "../input/processed/vocab/spm.vocab\n"
     ]
    }
   ],
   "source": [
    "for dirname, _, filenames in os.walk(VOCAB_DIR):\n",
    "    for filename in filenames:\n",
    "        print(os.path.join(dirname, filename))"
   ]
  },
  {
   "cell_type": "code",
   "execution_count": 36,
   "id": "naval-technology",
   "metadata": {},
   "outputs": [
    {
     "data": {
      "text/plain": [
       "True"
      ]
     },
     "execution_count": 36,
     "metadata": {},
     "output_type": "execute_result"
    }
   ],
   "source": [
    "sp = spm.SentencePieceProcessor()\n",
    "sp.Load(os.path.join(VOCAB_DIR, 'spm.model'))"
   ]
  },
  {
   "cell_type": "code",
   "execution_count": 37,
   "id": "premium-pierre",
   "metadata": {},
   "outputs": [],
   "source": [
    "train_df['tokens'] = train_df['product'].map(sp.EncodeAsPieces)"
   ]
  },
  {
   "cell_type": "code",
   "execution_count": 38,
   "id": "british-monitoring",
   "metadata": {},
   "outputs": [
    {
     "data": {
      "text/html": [
       "<div>\n",
       "<style scoped>\n",
       "    .dataframe tbody tr th:only-of-type {\n",
       "        vertical-align: middle;\n",
       "    }\n",
       "\n",
       "    .dataframe tbody tr th {\n",
       "        vertical-align: top;\n",
       "    }\n",
       "\n",
       "    .dataframe thead th {\n",
       "        text-align: right;\n",
       "    }\n",
       "</style>\n",
       "<table border=\"1\" class=\"dataframe\">\n",
       "  <thead>\n",
       "    <tr style=\"text-align: right;\">\n",
       "      <th></th>\n",
       "      <th>product</th>\n",
       "      <th>tokens</th>\n",
       "    </tr>\n",
       "  </thead>\n",
       "  <tbody>\n",
       "    <tr>\n",
       "      <th>0</th>\n",
       "      <td>직소퍼즐 조각 바다거북의 여행 pl</td>\n",
       "      <td>[▁직소퍼즐, ▁조각, ▁바다, 거북, 의, ▁여행, ▁pl]</td>\n",
       "    </tr>\n",
       "    <tr>\n",
       "      <th>1</th>\n",
       "      <td>모리케이스 아이폰 s s tree farm 다이어리케이스 바보사랑 무료배송</td>\n",
       "      <td>[▁모리케이스, ▁아이폰, ▁s, ▁s, ▁tree, ▁farm, ▁다이어리케이스,...</td>\n",
       "    </tr>\n",
       "    <tr>\n",
       "      <th>2</th>\n",
       "      <td>크리비아 기모 부 속바지 glg p</td>\n",
       "      <td>[▁크리비아, ▁기모, ▁부, ▁속바지, ▁gl, g, ▁p]</td>\n",
       "    </tr>\n",
       "    <tr>\n",
       "      <th>3</th>\n",
       "      <td>하프클럽 잭앤질 남성 솔리드 절개라인 포인트 포켓 팬츠 pt _na</td>\n",
       "      <td>[▁하프클럽, ▁잭앤질, ▁남성, ▁솔리드, ▁절개, 라인, ▁포인트, ▁포켓, ▁...</td>\n",
       "    </tr>\n",
       "    <tr>\n",
       "      <th>4</th>\n",
       "      <td>코드프리혈당시험지 매 코드프리시험지 최장유효기간</td>\n",
       "      <td>[▁코드, 프리, 혈, 당, 시험, 지, ▁매, ▁코드, 프리, 시험, 지, ▁최,...</td>\n",
       "    </tr>\n",
       "  </tbody>\n",
       "</table>\n",
       "</div>"
      ],
      "text/plain": [
       "                                     product  \\\n",
       "0                        직소퍼즐 조각 바다거북의 여행 pl   \n",
       "1  모리케이스 아이폰 s s tree farm 다이어리케이스 바보사랑 무료배송   \n",
       "2                        크리비아 기모 부 속바지 glg p   \n",
       "3      하프클럽 잭앤질 남성 솔리드 절개라인 포인트 포켓 팬츠 pt _na   \n",
       "4                 코드프리혈당시험지 매 코드프리시험지 최장유효기간   \n",
       "\n",
       "                                              tokens  \n",
       "0                 [▁직소퍼즐, ▁조각, ▁바다, 거북, 의, ▁여행, ▁pl]  \n",
       "1  [▁모리케이스, ▁아이폰, ▁s, ▁s, ▁tree, ▁farm, ▁다이어리케이스,...  \n",
       "2                 [▁크리비아, ▁기모, ▁부, ▁속바지, ▁gl, g, ▁p]  \n",
       "3  [▁하프클럽, ▁잭앤질, ▁남성, ▁솔리드, ▁절개, 라인, ▁포인트, ▁포켓, ▁...  \n",
       "4  [▁코드, 프리, 혈, 당, 시험, 지, ▁매, ▁코드, 프리, 시험, 지, ▁최,...  "
      ]
     },
     "execution_count": 38,
     "metadata": {},
     "output_type": "execute_result"
    }
   ],
   "source": [
    "train_df[['product', 'tokens']].head()"
   ]
  },
  {
   "cell_type": "code",
   "execution_count": null,
   "id": "normal-jewel",
   "metadata": {},
   "outputs": [],
   "source": []
  }
 ],
 "metadata": {
  "kernelspec": {
   "display_name": "Enjoy Data Science",
   "language": "python",
   "name": "enjoy-data-science"
  },
  "language_info": {
   "codemirror_mode": {
    "name": "ipython",
    "version": 3
   },
   "file_extension": ".py",
   "mimetype": "text/x-python",
   "name": "python",
   "nbconvert_exporter": "python",
   "pygments_lexer": "ipython3",
   "version": "3.8.5"
  }
 },
 "nbformat": 4,
 "nbformat_minor": 5
}
