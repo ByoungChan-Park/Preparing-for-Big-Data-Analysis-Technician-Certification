{
 "cells": [
  {
   "cell_type": "markdown",
   "id": "amino-syracuse",
   "metadata": {},
   "source": [
    "# 07 매트플롯립을 이용한 데이터 시각화"
   ]
  },
  {
   "cell_type": "markdown",
   "id": "allied-familiar",
   "metadata": {},
   "source": [
    "## 7.1 데이터 시각화"
   ]
  },
  {
   "cell_type": "markdown",
   "id": "future-bridges",
   "metadata": {},
   "source": [
    "### 7.1.1 데이터 시각화"
   ]
  },
  {
   "cell_type": "markdown",
   "id": "chief-cassette",
   "metadata": {},
   "source": [
    "### 7.1.2 라이브러리 임포트"
   ]
  },
  {
   "cell_type": "code",
   "execution_count": 2,
   "id": "signed-naples",
   "metadata": {},
   "outputs": [],
   "source": [
    "import numpy as np\n",
    "import pandas as pd\n",
    "import scipy as sp\n",
    "\n",
    "import matplotlib.pyplot as plt\n",
    "import seaborn as sns"
   ]
  },
  {
   "cell_type": "markdown",
   "id": "prostate-cedar",
   "metadata": {},
   "source": [
    "## 7.2 데이터 시각화 기초"
   ]
  },
  {
   "cell_type": "markdown",
   "id": "integrated-occasions",
   "metadata": {},
   "source": [
    "### 7.2.1 막대 그래프"
   ]
  },
  {
   "cell_type": "code",
   "execution_count": 6,
   "id": "genetic-airfare",
   "metadata": {},
   "outputs": [
    {
     "data": {
      "image/png": "[encoded data removed]",
      "text/plain": [
       "<Figure size 720x432 with 1 Axes>"
      ]
     },
     "metadata": {
      "needs_background": "light"
     },
     "output_type": "display_data"
    }
   ],
   "source": [
    "x = [1,2,3]\n",
    "y = [10, 1, 4]\n",
    "\n",
    "plt.figure(figsize=(10,6))\n",
    "plt.bar(x,y, align='center', width=.5)\n",
    "plt.xticks(x, ['A Class', 'B Class', 'C Class'])\n",
    "plt.xlabel('Class')\n",
    "plt.ylabel('Score')\n",
    "plt.grid(True)"
   ]
  },
  {
   "cell_type": "code",
   "execution_count": null,
   "id": "careful-disclosure",
   "metadata": {},
   "outputs": [],
   "source": []
  }
 ],
 "metadata": {
  "kernelspec": {
   "display_name": "Enjoy Data Science",
   "language": "python",
   "name": "enjoy-data-science"
  },
  "language_info": {
   "codemirror_mode": {
    "name": "ipython",
    "version": 3
   },
   "file_extension": ".py",
   "mimetype": "text/x-python",
   "name": "python",
   "nbconvert_exporter": "python",
   "pygments_lexer": "ipython3",
   "version": "3.8.5"
  }
 },
 "nbformat": 4,
 "nbformat_minor": 5
}
