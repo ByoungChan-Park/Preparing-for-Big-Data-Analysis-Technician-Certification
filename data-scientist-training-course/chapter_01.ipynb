{
 "cells": [
  {
   "cell_type": "markdown",
   "id": "funky-mainstream",
   "metadata": {},
   "source": [
    "# 01 책의 개요와 파이썬 기초"
   ]
  },
  {
   "cell_type": "markdown",
   "id": "hollywood-battlefield",
   "metadata": {},
   "source": [
    "## 1.1 데이터 과학자의 업무"
   ]
  },
  {
   "cell_type": "markdown",
   "id": "increasing-politics",
   "metadata": {},
   "source": [
    "### 1.1.1 데이터 과학자의 업무"
   ]
  },
  {
   "cell_type": "markdown",
   "id": "informative-sunday",
   "metadata": {},
   "source": [
    "### 1.2.2 파이썬 기초"
   ]
  },
  {
   "cell_type": "markdown",
   "id": "willing-percentage",
   "metadata": {},
   "source": [
    "#### for문"
   ]
  },
  {
   "cell_type": "code",
   "execution_count": 1,
   "id": "moved-sport",
   "metadata": {},
   "outputs": [
    {
     "name": "stdout",
     "output_type": "stream",
     "text": [
      "num: 1\n",
      "num: 2\n",
      "num: 3\n",
      "total: 6\n"
     ]
    }
   ],
   "source": [
    "total = 0\n",
    "\n",
    "for num in [1,2,3]:\n",
    "    print('num:', num)\n",
    "    total = total + num\n",
    "    \n",
    "print('total:', total)"
   ]
  },
  {
   "cell_type": "code",
   "execution_count": 2,
   "id": "wired-disaster",
   "metadata": {},
   "outputs": [
    {
     "name": "stdout",
     "output_type": "stream",
     "text": [
      "1\n",
      "3\n",
      "5\n",
      "7\n",
      "9\n"
     ]
    }
   ],
   "source": [
    "for i in range(1, 11, 2):\n",
    "    print(i)"
   ]
  },
  {
   "cell_type": "code",
   "execution_count": 3,
   "id": "appointed-fitting",
   "metadata": {},
   "outputs": [],
   "source": [
    "dic_data = {\n",
    "    'apple': 100,\n",
    "    'banana':100,\n",
    "    'orange':300,\n",
    "    'mango':400,\n",
    "    'melon':500\n",
    "}"
   ]
  },
  {
   "cell_type": "code",
   "execution_count": 4,
   "id": "medical-whale",
   "metadata": {},
   "outputs": [
    {
     "name": "stdout",
     "output_type": "stream",
     "text": [
      "apple 100\n",
      "banana 100\n",
      "orange 300\n",
      "mango 400\n",
      "melon 500\n"
     ]
    }
   ],
   "source": [
    "for key, value in dic_data.items():\n",
    "    print(key, value)"
   ]
  },
  {
   "cell_type": "code",
   "execution_count": 5,
   "id": "outside-promotion",
   "metadata": {},
   "outputs": [],
   "source": [
    "data_list = [1,2,3,4,5,6,7,8,9,10]\n",
    "data_list1 = []"
   ]
  },
  {
   "cell_type": "code",
   "execution_count": 6,
   "id": "finished-shelf",
   "metadata": {},
   "outputs": [],
   "source": [
    "data_list1 = [i * 2 for i in data_list]"
   ]
  },
  {
   "cell_type": "code",
   "execution_count": 7,
   "id": "discrete-credits",
   "metadata": {},
   "outputs": [],
   "source": [
    "print(data_list)"
   ]
  },
  {
   "cell_type": "code",
   "execution_count": 25,
   "id": "impressive-norman",
   "metadata": {},
   "outputs": [],
   "source": [
    "data_list11 = [ 'i : {0}, j : {1}'.format(i, j) for i in data_list for j in data_list]"
   ]
  },
  {
   "cell_type": "code",
   "execution_count": 8,
   "id": "super-payment",
   "metadata": {},
   "outputs": [
    {
     "data": {
      "text/plain": [
       "[4, 8, 12, 16, 20]"
      ]
     },
     "execution_count": 8,
     "metadata": {},
     "output_type": "execute_result"
    }
   ],
   "source": [
    "[i * 2 for i in data_list if i % 2 == 0]"
   ]
  },
  {
   "cell_type": "markdown",
   "id": "reflected-onion",
   "metadata": {},
   "source": [
    "#### zip"
   ]
  },
  {
   "cell_type": "code",
   "execution_count": 28,
   "id": "chubby-discount",
   "metadata": {},
   "outputs": [
    {
     "name": "stdout",
     "output_type": "stream",
     "text": [
      "1 과 11\n",
      "2 과 12\n",
      "3 과 13\n"
     ]
    }
   ],
   "source": [
    "for one, two in zip([1,2,3], [11, 12, 13]):\n",
    "    print(one, '과', two)"
   ]
  },
  {
   "cell_type": "markdown",
   "id": "native-float",
   "metadata": {},
   "source": [
    "### 1.2.5 함수"
   ]
  },
  {
   "cell_type": "markdown",
   "id": "6eab4d60-8889-449f-8738-f0d0ac2c6d88",
   "metadata": {},
   "source": [
    "### 1.2.6 클래스와 인스턴스"
   ]
  },
  {
   "cell_type": "code",
   "execution_count": 36,
   "id": "37ef38ee-c518-4fd8-b580-2232d4501d3c",
   "metadata": {},
   "outputs": [],
   "source": [
    "class PrintClass:\n",
    "    def print_me(self):\n",
    "        print(self.x, self.y)"
   ]
  },
  {
   "cell_type": "code",
   "execution_count": 37,
   "id": "870395d7-a93a-4be9-95b0-1bf575c32c34",
   "metadata": {},
   "outputs": [],
   "source": [
    "p1 = PrintClass()"
   ]
  },
  {
   "cell_type": "code",
   "execution_count": 40,
   "id": "4d4b0d70-55a7-4efb-b05b-1b35b47d2f4b",
   "metadata": {},
   "outputs": [],
   "source": [
    "p1.x = 10\n",
    "p1.y = 100\n",
    "p1.z = 1000"
   ]
  },
  {
   "cell_type": "code",
   "execution_count": 41,
   "id": "bb7161f6-af11-480e-96c0-52c1d5e99f62",
   "metadata": {},
   "outputs": [
    {
     "name": "stdout",
     "output_type": "stream",
     "text": [
      "10 100\n"
     ]
    }
   ],
   "source": [
    "p1.print_me()"
   ]
  },
  {
   "cell_type": "code",
   "execution_count": 42,
   "id": "49d6b3a2-98c8-4cef-9a28-b2eb9ea65cf9",
   "metadata": {},
   "outputs": [
    {
     "data": {
      "text/plain": [
       "1000"
      ]
     },
     "execution_count": 42,
     "metadata": {},
     "output_type": "execute_result"
    }
   ],
   "source": [
    "p1.z"
   ]
  },
  {
   "cell_type": "code",
   "execution_count": null,
   "id": "0cb71810-b464-4f24-82fa-b4c56e191e00",
   "metadata": {},
   "outputs": [],
   "source": []
  }
 ],
 "metadata": {
  "kernelspec": {
   "display_name": "Enjoy Data Science",
   "language": "python",
   "name": "enjoy-data-science"
  },
  "language_info": {
   "codemirror_mode": {
    "name": "ipython",
    "version": 3
   },
   "file_extension": ".py",
   "mimetype": "text/x-python",
   "name": "python",
   "nbconvert_exporter": "python",
   "pygments_lexer": "ipython3",
   "version": "3.8.5"
  }
 },
 "nbformat": 4,
 "nbformat_minor": 5
}
