{
 "cells": [
  {
   "cell_type": "markdown",
   "id": "d362bbb1-8185-4265-a6d2-9bef780ad034",
   "metadata": {},
   "source": [
    "# 01 책의 개요와 파이썬 기초"
   ]
  },
  {
   "cell_type": "markdown",
   "id": "dd33c33d-5916-4e9d-93b3-8854aec85f70",
   "metadata": {},
   "source": [
    "## 1.1 데이터 과학자의 업무"
   ]
  },
  {
   "cell_type": "markdown",
   "id": "f170c39e-c445-4ce9-bd0c-0b6c78593ffb",
   "metadata": {},
   "source": [
    "### 1.1.1 데이터 과학자의 업무"
   ]
  },
  {
   "cell_type": "markdown",
   "id": "9e1fbb5d-cca1-49af-8563-179d7d4b12e8",
   "metadata": {},
   "source": [
    "### 1.2.2 파이썬 기초"
   ]
  },
  {
   "cell_type": "markdown",
   "id": "c4a1e4ee-a857-4ccf-af39-260c85b6c358",
   "metadata": {},
   "source": [
    "#### for문"
   ]
  },
  {
   "cell_type": "code",
   "execution_count": 1,
   "id": "2fb244e7-329d-4422-b322-cacff1a3d2d3",
   "metadata": {},
   "outputs": [
    {
     "name": "stdout",
     "output_type": "stream",
     "text": [
      "num: 1\n",
      "num: 2\n",
      "num: 3\n",
      "total: 6\n"
     ]
    }
   ],
   "source": [
    "total = 0\n",
    "\n",
    "for num in [1,2,3]:\n",
    "    print('num:', num)\n",
    "    total = total + num\n",
    "    \n",
    "print('total:', total)"
   ]
  },
  {
   "cell_type": "code",
   "execution_count": 2,
   "id": "79b01c49-491d-4fcc-8e32-b818e51aa69f",
   "metadata": {},
   "outputs": [
    {
     "name": "stdout",
     "output_type": "stream",
     "text": [
      "1\n",
      "3\n",
      "5\n",
      "7\n",
      "9\n"
     ]
    }
   ],
   "source": [
    "for i in range(1, 11, 2):\n",
    "    print(i)"
   ]
  },
  {
   "cell_type": "code",
   "execution_count": 3,
   "id": "f26e154a-ef01-4eb0-8fc6-735dd20294f0",
   "metadata": {},
   "outputs": [],
   "source": [
    "dic_data = {\n",
    "    'apple': 100,\n",
    "    'banana':100,\n",
    "    'orange':300,\n",
    "    'mango':400,\n",
    "    'melon':500\n",
    "}"
   ]
  },
  {
   "cell_type": "code",
   "execution_count": 4,
   "id": "abb81a7c-6259-4b6e-8613-a1381be4bd12",
   "metadata": {},
   "outputs": [
    {
     "name": "stdout",
     "output_type": "stream",
     "text": [
      "apple 100\n",
      "banana 100\n",
      "orange 300\n",
      "mango 400\n",
      "melon 500\n"
     ]
    }
   ],
   "source": [
    "for key, value in dic_data.items():\n",
    "    print(key, value)"
   ]
  },
  {
   "cell_type": "code",
   "execution_count": 5,
   "id": "3607aa6d-916b-45dc-87e4-ec598307665b",
   "metadata": {},
   "outputs": [],
   "source": [
    "data_list = [1,2,3,4,5,6,7,8,9,10]\n",
    "data_list1 = []"
   ]
  },
  {
   "cell_type": "code",
   "execution_count": 6,
   "id": "2a2bf23f-60eb-4481-9867-c81f18888f33",
   "metadata": {},
   "outputs": [],
   "source": [
    "data_list1 = [i * 2 for i in data_list]"
   ]
  },
  {
   "cell_type": "code",
   "execution_count": 7,
   "id": "de66651e-6a77-4069-ae8c-d077ac4235b6",
   "metadata": {},
   "outputs": [],
   "source": [
    "print(data_list)"
   ]
  },
  {
   "cell_type": "code",
   "execution_count": 25,
   "id": "fedbebc5-6c49-464b-8fc8-8ec39dc7109d",
   "metadata": {},
   "outputs": [],
   "source": [
    "data_list11 = [ 'i : {0}, j : {1}'.format(i, j) for i in data_list for j in data_list]"
   ]
  },
  {
   "cell_type": "code",
   "execution_count": 8,
   "id": "16771421-6846-4544-b67a-13219561a503",
   "metadata": {},
   "outputs": [
    {
     "data": {
      "text/plain": [
       "[4, 8, 12, 16, 20]"
      ]
     },
     "execution_count": 8,
     "metadata": {},
     "output_type": "execute_result"
    }
   ],
   "source": [
    "[i * 2 for i in data_list if i % 2 == 0]"
   ]
  },
  {
   "cell_type": "markdown",
   "id": "b3c8b9c5-46d2-46da-9553-9b55e9ac06df",
   "metadata": {},
   "source": [
    "#### zip"
   ]
  },
  {
   "cell_type": "code",
   "execution_count": 28,
   "id": "5cae6dbf-c1e8-48a3-9ad7-08cda825e20a",
   "metadata": {},
   "outputs": [
    {
     "name": "stdout",
     "output_type": "stream",
     "text": [
      "1 과 11\n",
      "2 과 12\n",
      "3 과 13\n"
     ]
    }
   ],
   "source": [
    "for one, two in zip([1,2,3], [11, 12, 13]):\n",
    "    print(one, '과', two)"
   ]
  },
  {
   "cell_type": "markdown",
   "id": "2782c28e-ea86-498c-b402-3864d1830155",
   "metadata": {},
   "source": [
    "### 1.2.5 함수"
   ]
  },
  {
   "cell_type": "code",
   "execution_count": null,
   "id": "bc65619f-32eb-4559-8e81-70a928b9f6ce",
   "metadata": {},
   "outputs": [],
   "source": []
  }
 ],
 "metadata": {
  "kernelspec": {
   "display_name": "Enjoy Data Science",
   "language": "python",
   "name": "enjoy-data-science"
  },
  "language_info": {
   "codemirror_mode": {
    "name": "ipython",
    "version": 3
   },
   "file_extension": ".py",
   "mimetype": "text/x-python",
   "name": "python",
   "nbconvert_exporter": "python",
   "pygments_lexer": "ipython3",
   "version": "3.8.10"
  }
 },
 "nbformat": 4,
 "nbformat_minor": 5
}
