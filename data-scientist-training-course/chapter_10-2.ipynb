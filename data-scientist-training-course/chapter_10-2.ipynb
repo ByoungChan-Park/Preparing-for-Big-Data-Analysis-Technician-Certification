{
 "cells": [
  {
   "cell_type": "markdown",
   "id": "unlikely-weekly",
   "metadata": {},
   "source": [
    "# 모델 검증과 튜닝"
   ]
  },
  {
   "cell_type": "markdown",
   "id": "proper-tulsa",
   "metadata": {},
   "source": [
    "## 10.1 모델 평가와 정확도를 향상시키는 방법"
   ]
  },
  {
   "cell_type": "markdown",
   "id": "brown-ability",
   "metadata": {},
   "source": [
    "### 10.1.1 머신러닝의 과제와 해결 방법"
   ]
  },
  {
   "cell_type": "code",
   "execution_count": null,
   "id": "qualified-cigarette",
   "metadata": {},
   "outputs": [],
   "source": []
  }
 ],
 "metadata": {
  "kernelspec": {
   "display_name": "Enjoy Data Science",
   "language": "python",
   "name": "enjoy-data-science"
  },
  "language_info": {
   "codemirror_mode": {
    "name": "ipython",
    "version": 3
   },
   "file_extension": ".py",
   "mimetype": "text/x-python",
   "name": "python",
   "nbconvert_exporter": "python",
   "pygments_lexer": "ipython3",
   "version": "3.8.5"
  }
 },
 "nbformat": 4,
 "nbformat_minor": 5
}
