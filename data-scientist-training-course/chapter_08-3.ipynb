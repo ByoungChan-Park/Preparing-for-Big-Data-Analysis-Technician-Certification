{
 "cells": [
  {
   "cell_type": "markdown",
   "id": "acquired-florist",
   "metadata": {},
   "source": [
    "# 08 머신러닝 기초 (지도학습)"
   ]
  },
  {
   "cell_type": "markdown",
   "id": "little-porcelain",
   "metadata": {},
   "source": [
    "## 8.1 머신러닝 개요"
   ]
  },
  {
   "cell_type": "markdown",
   "id": "eleven-witch",
   "metadata": {},
   "source": [
    "### 8.1.1 머신러닝이란"
   ]
  },
  {
   "cell_type": "markdown",
   "id": "quick-fellowship",
   "metadata": {},
   "source": [
    "## 8.3 로지스틱회귀"
   ]
  },
  {
   "cell_type": "markdown",
   "id": "fatal-genome",
   "metadata": {},
   "source": [
    "### 8.3.1 로지스틱회귀 예"
   ]
  },
  {
   "cell_type": "code",
   "execution_count": 1,
   "id": "complimentary-driving",
   "metadata": {},
   "outputs": [],
   "source": [
    "import io\n",
    "import requests\n",
    "import zipfile\n",
    "import numpy as np\n",
    "import pandas as pd\n",
    "import scipy as sp"
   ]
  },
  {
   "cell_type": "code",
   "execution_count": 2,
   "id": "minimal-consultation",
   "metadata": {},
   "outputs": [],
   "source": [
    "# 데이터 수집\n",
    "url = 'http://archive.ics.uci.edu/ml/machine-learning-databases/adult/adult.data' \n",
    "res = requests.get(url).content\n",
    "# 수집한 데이터를 DataFrame 객체로 읽어 들이기\n",
    "adult = pd.read_csv(io.StringIO(res.decode('utf-8')), header=None)\n",
    "# 데이터 컬럼에 레이블 설정\n",
    "adult.columns =[\n",
    "    'age','workclass','fnlwgt','education','education-num','marital-status',\n",
    "    'occupation','relationship','race','sex','capital-gain','capital-loss',\n",
    "    'hours-per-week', 'native-country','flg-50K']"
   ]
  },
  {
   "cell_type": "code",
   "execution_count": 3,
   "id": "lyric-dimension",
   "metadata": {},
   "outputs": [
    {
     "name": "stdout",
     "output_type": "stream",
     "text": [
      "데이터 형태 : (32561, 15)\n",
      "결측값 수 : 0\n"
     ]
    }
   ],
   "source": [
    "# 데이터 형태와 결측값 개수 출력\n",
    "print('데이터 형태 : {}'.format(adult.shape))\n",
    "print('결측값 수 : {}'.format(adult.isnull().sum().sum()))"
   ]
  },
  {
   "cell_type": "code",
   "execution_count": 4,
   "id": "dependent-projector",
   "metadata": {},
   "outputs": [
    {
     "data": {
      "text/html": [
       "<div>\n",
       "<style scoped>\n",
       "    .dataframe tbody tr th:only-of-type {\n",
       "        vertical-align: middle;\n",
       "    }\n",
       "\n",
       "    .dataframe tbody tr th {\n",
       "        vertical-align: top;\n",
       "    }\n",
       "\n",
       "    .dataframe thead th {\n",
       "        text-align: right;\n",
       "    }\n",
       "</style>\n",
       "<table border=\"1\" class=\"dataframe\">\n",
       "  <thead>\n",
       "    <tr style=\"text-align: right;\">\n",
       "      <th></th>\n",
       "      <th>age</th>\n",
       "      <th>workclass</th>\n",
       "      <th>fnlwgt</th>\n",
       "      <th>education</th>\n",
       "      <th>education-num</th>\n",
       "      <th>marital-status</th>\n",
       "      <th>occupation</th>\n",
       "      <th>relationship</th>\n",
       "      <th>race</th>\n",
       "      <th>sex</th>\n",
       "      <th>capital-gain</th>\n",
       "      <th>capital-loss</th>\n",
       "      <th>hours-per-week</th>\n",
       "      <th>native-country</th>\n",
       "      <th>flg-50K</th>\n",
       "    </tr>\n",
       "  </thead>\n",
       "  <tbody>\n",
       "    <tr>\n",
       "      <th>0</th>\n",
       "      <td>39</td>\n",
       "      <td>State-gov</td>\n",
       "      <td>77516</td>\n",
       "      <td>Bachelors</td>\n",
       "      <td>13</td>\n",
       "      <td>Never-married</td>\n",
       "      <td>Adm-clerical</td>\n",
       "      <td>Not-in-family</td>\n",
       "      <td>White</td>\n",
       "      <td>Male</td>\n",
       "      <td>2174</td>\n",
       "      <td>0</td>\n",
       "      <td>40</td>\n",
       "      <td>United-States</td>\n",
       "      <td>&lt;=50K</td>\n",
       "    </tr>\n",
       "    <tr>\n",
       "      <th>1</th>\n",
       "      <td>50</td>\n",
       "      <td>Self-emp-not-inc</td>\n",
       "      <td>83311</td>\n",
       "      <td>Bachelors</td>\n",
       "      <td>13</td>\n",
       "      <td>Married-civ-spouse</td>\n",
       "      <td>Exec-managerial</td>\n",
       "      <td>Husband</td>\n",
       "      <td>White</td>\n",
       "      <td>Male</td>\n",
       "      <td>0</td>\n",
       "      <td>0</td>\n",
       "      <td>13</td>\n",
       "      <td>United-States</td>\n",
       "      <td>&lt;=50K</td>\n",
       "    </tr>\n",
       "    <tr>\n",
       "      <th>2</th>\n",
       "      <td>38</td>\n",
       "      <td>Private</td>\n",
       "      <td>215646</td>\n",
       "      <td>HS-grad</td>\n",
       "      <td>9</td>\n",
       "      <td>Divorced</td>\n",
       "      <td>Handlers-cleaners</td>\n",
       "      <td>Not-in-family</td>\n",
       "      <td>White</td>\n",
       "      <td>Male</td>\n",
       "      <td>0</td>\n",
       "      <td>0</td>\n",
       "      <td>40</td>\n",
       "      <td>United-States</td>\n",
       "      <td>&lt;=50K</td>\n",
       "    </tr>\n",
       "    <tr>\n",
       "      <th>3</th>\n",
       "      <td>53</td>\n",
       "      <td>Private</td>\n",
       "      <td>234721</td>\n",
       "      <td>11th</td>\n",
       "      <td>7</td>\n",
       "      <td>Married-civ-spouse</td>\n",
       "      <td>Handlers-cleaners</td>\n",
       "      <td>Husband</td>\n",
       "      <td>Black</td>\n",
       "      <td>Male</td>\n",
       "      <td>0</td>\n",
       "      <td>0</td>\n",
       "      <td>40</td>\n",
       "      <td>United-States</td>\n",
       "      <td>&lt;=50K</td>\n",
       "    </tr>\n",
       "    <tr>\n",
       "      <th>4</th>\n",
       "      <td>28</td>\n",
       "      <td>Private</td>\n",
       "      <td>338409</td>\n",
       "      <td>Bachelors</td>\n",
       "      <td>13</td>\n",
       "      <td>Married-civ-spouse</td>\n",
       "      <td>Prof-specialty</td>\n",
       "      <td>Wife</td>\n",
       "      <td>Black</td>\n",
       "      <td>Female</td>\n",
       "      <td>0</td>\n",
       "      <td>0</td>\n",
       "      <td>40</td>\n",
       "      <td>Cuba</td>\n",
       "      <td>&lt;=50K</td>\n",
       "    </tr>\n",
       "  </tbody>\n",
       "</table>\n",
       "</div>"
      ],
      "text/plain": [
       "   age          workclass  fnlwgt   education  education-num  \\\n",
       "0   39          State-gov   77516   Bachelors             13   \n",
       "1   50   Self-emp-not-inc   83311   Bachelors             13   \n",
       "2   38            Private  215646     HS-grad              9   \n",
       "3   53            Private  234721        11th              7   \n",
       "4   28            Private  338409   Bachelors             13   \n",
       "\n",
       "        marital-status          occupation    relationship    race      sex  \\\n",
       "0        Never-married        Adm-clerical   Not-in-family   White     Male   \n",
       "1   Married-civ-spouse     Exec-managerial         Husband   White     Male   \n",
       "2             Divorced   Handlers-cleaners   Not-in-family   White     Male   \n",
       "3   Married-civ-spouse   Handlers-cleaners         Husband   Black     Male   \n",
       "4   Married-civ-spouse      Prof-specialty            Wife   Black   Female   \n",
       "\n",
       "   capital-gain  capital-loss  hours-per-week  native-country flg-50K  \n",
       "0          2174             0              40   United-States   <=50K  \n",
       "1             0             0              13   United-States   <=50K  \n",
       "2             0             0              40   United-States   <=50K  \n",
       "3             0             0              40   United-States   <=50K  \n",
       "4             0             0              40            Cuba   <=50K  "
      ]
     },
     "execution_count": 4,
     "metadata": {},
     "output_type": "execute_result"
    }
   ],
   "source": [
    "# 데이터의 처음 다섯 행 출력 \n",
    "adult.head()"
   ]
  },
  {
   "cell_type": "code",
   "execution_count": 5,
   "id": "explicit-violin",
   "metadata": {},
   "outputs": [
    {
     "data": {
      "text/plain": [
       "flg-50K\n",
       " <=50K    24720\n",
       " >50K      7841\n",
       "dtype: int64"
      ]
     },
     "execution_count": 5,
     "metadata": {},
     "output_type": "execute_result"
    }
   ],
   "source": [
    "adult.groupby('flg-50K').size()"
   ]
  },
  {
   "cell_type": "code",
   "execution_count": 6,
   "id": "returning-nickel",
   "metadata": {},
   "outputs": [
    {
     "data": {
      "text/plain": [
       "fin_flg\n",
       "0    24720\n",
       "1     7841\n",
       "dtype: int64"
      ]
     },
     "execution_count": 6,
     "metadata": {},
     "output_type": "execute_result"
    }
   ],
   "source": [
    "adult['fin_flg'] = adult['flg-50K'].map(lambda x: 1 if x == ' >50K' else 0)\n",
    "adult.groupby(['fin_flg']).size()"
   ]
  },
  {
   "cell_type": "code",
   "execution_count": 7,
   "id": "industrial-advancement",
   "metadata": {},
   "outputs": [],
   "source": [
    "from sklearn.preprocessing import StandardScaler\n",
    "from sklearn.linear_model import LogisticRegression\n",
    "from sklearn.model_selection import train_test_split"
   ]
  },
  {
   "cell_type": "code",
   "execution_count": 8,
   "id": "rubber-coffee",
   "metadata": {},
   "outputs": [],
   "source": [
    "X = adult[['age', 'fnlwgt', 'education-num', 'capital-gain', 'capital-loss']]\n",
    "y = adult['fin_flg']\n",
    "\n",
    "X_train, X_test, y_train, y_test = train_test_split(X, y, test_size=0.5, random_state=0)"
   ]
  },
  {
   "cell_type": "code",
   "execution_count": 9,
   "id": "flexible-technique",
   "metadata": {},
   "outputs": [
    {
     "data": {
      "text/plain": [
       "LogisticRegression()"
      ]
     },
     "execution_count": 9,
     "metadata": {},
     "output_type": "execute_result"
    }
   ],
   "source": [
    "model = LogisticRegression()\n",
    "model.fit(X_train, y_train)"
   ]
  },
  {
   "cell_type": "code",
   "execution_count": 10,
   "id": "joint-browse",
   "metadata": {},
   "outputs": [
    {
     "name": "stdout",
     "output_type": "stream",
     "text": [
      "정확도(train) : 0.797\n",
      "정확도(test) : 0.798\n"
     ]
    }
   ],
   "source": [
    "print(\"정확도(train) : {:.3f}\".format(model.score(X_train, y_train)))\n",
    "print(\"정확도(test) : {:.3f}\".format(model.score(X_test, y_test)))"
   ]
  },
  {
   "cell_type": "code",
   "execution_count": 11,
   "id": "removed-contemporary",
   "metadata": {},
   "outputs": [
    {
     "data": {
      "text/plain": [
       "array([[-1.18545968e-02, -4.37932054e-06, -2.77432658e-03,\n",
       "         3.27384955e-04,  7.53237842e-04]])"
      ]
     },
     "execution_count": 11,
     "metadata": {},
     "output_type": "execute_result"
    }
   ],
   "source": [
    "model.coef_"
   ]
  },
  {
   "cell_type": "code",
   "execution_count": 12,
   "id": "imposed-seating",
   "metadata": {},
   "outputs": [
    {
     "data": {
      "text/plain": [
       "array([[0.98821539, 0.99999562, 0.99722952, 1.00032744, 1.00075352]])"
      ]
     },
     "execution_count": 12,
     "metadata": {},
     "output_type": "execute_result"
    }
   ],
   "source": [
    "np.exp(model.coef_)"
   ]
  },
  {
   "cell_type": "code",
   "execution_count": 13,
   "id": "expressed-mauritius",
   "metadata": {},
   "outputs": [],
   "source": [
    "X = adult[['age', 'fnlwgt', 'education-num', 'capital-gain', 'capital-loss']]\n",
    "y = adult['fin_flg']\n",
    "\n",
    "X_train, X_test, y_train, y_test = train_test_split(X, y, test_size=0.5, random_state=0)"
   ]
  },
  {
   "cell_type": "code",
   "execution_count": 14,
   "id": "regular-employer",
   "metadata": {},
   "outputs": [],
   "source": [
    "sc = StandardScaler()\n",
    "sc.fit(X_train)\n",
    "X_train_std = sc.transform(X_train)\n",
    "X_test_std = sc.transform(X_test)"
   ]
  },
  {
   "cell_type": "code",
   "execution_count": 16,
   "id": "genuine-screen",
   "metadata": {},
   "outputs": [
    {
     "data": {
      "text/plain": [
       "LogisticRegression()"
      ]
     },
     "execution_count": 16,
     "metadata": {},
     "output_type": "execute_result"
    }
   ],
   "source": [
    "model = LogisticRegression()\n",
    "model.fit(X_train_std, y_train)"
   ]
  },
  {
   "cell_type": "code",
   "execution_count": 17,
   "id": "interim-saver",
   "metadata": {},
   "outputs": [
    {
     "name": "stdout",
     "output_type": "stream",
     "text": [
      "정확도(train) : 0.811\n",
      "정확도(test) : 0.810\n"
     ]
    }
   ],
   "source": [
    "print(\"정확도(train) : {:.3f}\".format(model.score(X_train_std, y_train)))\n",
    "print(\"정확도(test) : {:.3f}\".format(model.score(X_test_std, y_test)))"
   ]
  },
  {
   "cell_type": "markdown",
   "id": "southwest-panama",
   "metadata": {},
   "source": [
    "## 8.4 정규화 항이 있는 회귀: 리지회귀, 라소회귀"
   ]
  },
  {
   "cell_type": "markdown",
   "id": "alternate-monroe",
   "metadata": {},
   "source": [
    "### 8.4.1 라소회귀, 리지회귀의 특징"
   ]
  },
  {
   "cell_type": "markdown",
   "id": "identified-diving",
   "metadata": {},
   "source": [
    "### 8.4.2 다중회귀와 리지회귀 비교"
   ]
  },
  {
   "cell_type": "code",
   "execution_count": 18,
   "id": "front-dynamics",
   "metadata": {},
   "outputs": [],
   "source": [
    "from sklearn.linear_model import Ridge\n",
    "from sklearn.model_selection import train_test_split"
   ]
  },
  {
   "cell_type": "code",
   "execution_count": null,
   "id": "inclusive-funeral",
   "metadata": {},
   "outputs": [],
   "source": []
  }
 ],
 "metadata": {
  "kernelspec": {
   "display_name": "Enjoy Data Science",
   "language": "python",
   "name": "enjoy-data-science"
  },
  "language_info": {
   "codemirror_mode": {
    "name": "ipython",
    "version": 3
   },
   "file_extension": ".py",
   "mimetype": "text/x-python",
   "name": "python",
   "nbconvert_exporter": "python",
   "pygments_lexer": "ipython3",
   "version": "3.8.5"
  }
 },
 "nbformat": 4,
 "nbformat_minor": 5
}
