{
 "cells": [
  {
   "cell_type": "code",
   "execution_count": 1,
   "id": "lesbian-affiliate",
   "metadata": {},
   "outputs": [],
   "source": [
    "import io\n",
    "import zipfile \n",
    "import requests\n",
    "import numpy as np\n",
    "import pandas as pd\n",
    "\n",
    "from sklearn.model_selection import train_test_split\n",
    "from sklearn.linear_model import LinearRegression"
   ]
  },
  {
   "cell_type": "code",
   "execution_count": 2,
   "id": "looking-clear",
   "metadata": {},
   "outputs": [],
   "source": [
    "url = 'http://archive.ics.uci.edu/ml/machine-learning-databases/autos/imports-85.data' \n",
    "res = requests.get(url).content\n",
    "auto = pd.read_csv(io.StringIO(res.decode('utf-8')), header=None)\n",
    "auto.columns =['symboling','normalized-losses','make','fuel-type' ,'aspiration','num-of-doors',\n",
    "               'body-style','drive-wheels','engine-location','wheel-base','length','width','height', \n",
    "               'curb-weight','engine-type','num-of-cylinders','engine-size','fuel-system','bore', \n",
    "               'stroke','compression-ratio','horsepower','peak-rpm','city-mpg','highway-mpg','price']\n",
    "\n",
    "auto = auto[['price', 'width', 'engine-size']]"
   ]
  },
  {
   "cell_type": "code",
   "execution_count": 3,
   "id": "assumed-cookie",
   "metadata": {},
   "outputs": [
    {
     "data": {
      "text/plain": [
       "(201, 3)"
      ]
     },
     "execution_count": 3,
     "metadata": {},
     "output_type": "execute_result"
    }
   ],
   "source": [
    "# 전처리\n",
    "auto.dtypes\n",
    "auto.isin([\"?\"]).sum()\n",
    "auto = auto.replace(\"?\", np.nan).dropna()\n",
    "auto = auto.assign(price=pd.to_numeric(auto['price']))\n",
    "auto.dtypes\n",
    "auto.shape"
   ]
  },
  {
   "cell_type": "code",
   "execution_count": 4,
   "id": "advanced-girlfriend",
   "metadata": {},
   "outputs": [],
   "source": [
    "# 학습용/검증용 데이터 분할\n",
    "X = auto.drop(['price'], axis=1)\n",
    "y = auto['price']\n",
    "X_train, X_test, y_train, y_test = train_test_split(X, y, test_size=0.5, random_state=0)"
   ]
  },
  {
   "cell_type": "code",
   "execution_count": 5,
   "id": "rocky-pasta",
   "metadata": {},
   "outputs": [
    {
     "name": "stdout",
     "output_type": "stream",
     "text": [
      "결정계수 : 0.783\n",
      "결정계수 : 0.778\n"
     ]
    }
   ],
   "source": [
    "# 모델 구축 및 평가\n",
    "model = LinearRegression()\n",
    "model.fit(X_train, y_train)\n",
    "print(\"결정계수 : {:.3f}\".format(model.score(X_train, y_train)))\n",
    "print(\"결정계수 : {:.3f}\".format(model.score(X_test, y_test)))"
   ]
  },
  {
   "cell_type": "code",
   "execution_count": null,
   "id": "alternate-diagram",
   "metadata": {},
   "outputs": [],
   "source": []
  }
 ],
 "metadata": {
  "kernelspec": {
   "display_name": "Enjoy Data Science",
   "language": "python",
   "name": "enjoy-data-science"
  },
  "language_info": {
   "codemirror_mode": {
    "name": "ipython",
    "version": 3
   },
   "file_extension": ".py",
   "mimetype": "text/x-python",
   "name": "python",
   "nbconvert_exporter": "python",
   "pygments_lexer": "ipython3",
   "version": "3.8.5"
  }
 },
 "nbformat": 4,
 "nbformat_minor": 5
}
