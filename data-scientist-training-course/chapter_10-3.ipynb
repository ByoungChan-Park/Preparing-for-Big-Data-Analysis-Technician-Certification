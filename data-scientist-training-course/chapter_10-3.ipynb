{
 "cells": [
  {
   "cell_type": "markdown",
   "id": "sacred-auditor",
   "metadata": {},
   "source": [
    "## 10.3 모델 성능 평가 지표"
   ]
  },
  {
   "cell_type": "markdown",
   "id": "following-australian",
   "metadata": {},
   "source": [
    "### 10.3.1 분류 모델 평가: 오차행렬과 연관 지표"
   ]
  },
  {
   "cell_type": "code",
   "execution_count": 1,
   "id": "ideal-workstation",
   "metadata": {},
   "outputs": [],
   "source": [
    "import pandas as pd\n",
    "import numpy as np\n",
    "import matplotlib.pyplot as plt\n",
    "\n",
    "from sklearn.svm import SVC\n",
    "from sklearn.linear_model import LogisticRegression\n",
    "from sklearn.metrics import confusion_matrix\n",
    "from sklearn.metrics import f1_score, precision_score, recall_score\n",
    "from sklearn.datasets import load_breast_cancer\n",
    "from sklearn.model_selection import train_test_split"
   ]
  },
  {
   "cell_type": "code",
   "execution_count": 2,
   "id": "virgin-venice",
   "metadata": {},
   "outputs": [],
   "source": [
    "# help(train_test_split)"
   ]
  },
  {
   "cell_type": "code",
   "execution_count": 3,
   "id": "lesbian-mount",
   "metadata": {},
   "outputs": [],
   "source": [
    "cancer = load_breast_cancer()\n",
    "X_train, X_test, y_train, y_test = train_test_split(cancer.data, cancer.target, stratify=cancer.target, random_state=66)"
   ]
  },
  {
   "cell_type": "code",
   "execution_count": 4,
   "id": "suited-transcript",
   "metadata": {},
   "outputs": [
    {
     "data": {
      "text/plain": [
       "SVC()"
      ]
     },
     "execution_count": 4,
     "metadata": {},
     "output_type": "execute_result"
    }
   ],
   "source": [
    "model = SVC()\n",
    "model.fit(X_train, y_train)"
   ]
  },
  {
   "cell_type": "code",
   "execution_count": 5,
   "id": "amino-conversion",
   "metadata": {},
   "outputs": [
    {
     "name": "stdout",
     "output_type": "stream",
     "text": [
      "SVC train score: 0.920\n",
      "SVC test score: 0.923\n"
     ]
    }
   ],
   "source": [
    "print('{} train score: {:.3f}'.format(model.__class__.__name__, model.score(X_train,y_train))) \n",
    "print('{} test score: {:.3f}'.format(model.__class__.__name__ , model.score(X_test,y_test)))"
   ]
  },
  {
   "cell_type": "code",
   "execution_count": 6,
   "id": "determined-cause",
   "metadata": {},
   "outputs": [],
   "source": [
    "y_pred = model.predict(X_test)"
   ]
  },
  {
   "cell_type": "code",
   "execution_count": 7,
   "id": "strange-albany",
   "metadata": {},
   "outputs": [],
   "source": [
    "m = confusion_matrix(y_test, y_pred)"
   ]
  },
  {
   "cell_type": "code",
   "execution_count": 8,
   "id": "random-privilege",
   "metadata": {},
   "outputs": [
    {
     "name": "stdout",
     "output_type": "stream",
     "text": [
      "Confution matrix:\n",
      "[[45  8]\n",
      " [ 3 87]]\n"
     ]
    }
   ],
   "source": [
    "print('Confution matrix:\\n{}'.format(m))"
   ]
  },
  {
   "cell_type": "code",
   "execution_count": 9,
   "id": "czech-clause",
   "metadata": {},
   "outputs": [
    {
     "name": "stdout",
     "output_type": "stream",
     "text": [
      "정확도 0.923\n"
     ]
    }
   ],
   "source": [
    "accuracy = (m[0,0] + m[1,1]) / m.sum()\n",
    "print('정확도 {:.3f}'.format(accuracy))"
   ]
  },
  {
   "cell_type": "code",
   "execution_count": 10,
   "id": "still-association",
   "metadata": {},
   "outputs": [
    {
     "name": "stdout",
     "output_type": "stream",
     "text": [
      "정밀도: 0.916\n",
      "재현도: 0.967\n",
      "F1 값: 0.941\n"
     ]
    }
   ],
   "source": [
    "# 정밀도 계산\n",
    "precision = (m[1,1])/m[:, 1].sum()\n",
    "# 재현도 계산\n",
    "recall = (m[1,1])/m[1, :].sum()\n",
    "# F1 점수 계산\n",
    "f1 = 2 * (precision * recall)/(precision + recall)\n",
    "print('정밀도: {:.3f}'.format(precision)) \n",
    "print('재현도: {:.3f}'.format(recall)) \n",
    "print('F1 값: {:.3f}'.format(f1))"
   ]
  },
  {
   "cell_type": "code",
   "execution_count": 11,
   "id": "reported-calvin",
   "metadata": {},
   "outputs": [
    {
     "name": "stdout",
     "output_type": "stream",
     "text": [
      "정밀도:0.916\n",
      "재현도:0.967\n",
      "F1값:0.941\n"
     ]
    }
   ],
   "source": [
    "print('정밀도:{:.3f}'.format(precision_score(y_test, y_pred))) \n",
    "print('재현도:{:.3f}'.format(recall_score(y_test, y_pred))) \n",
    "print('F1값:{:.3f}'.format(f1_score(y_test, y_pred)))"
   ]
  },
  {
   "cell_type": "markdown",
   "id": "supported-logistics",
   "metadata": {},
   "source": [
    "### 10.3.2 분류 모델 평가:ROC 곡선과 AUC"
   ]
  },
  {
   "cell_type": "code",
   "execution_count": 12,
   "id": "meaning-climb",
   "metadata": {},
   "outputs": [],
   "source": [
    "X_train, X_test, y_train, y_test = train_test_split(cancer.data, cancer.target, stratify=cancer.target, random_state=66)"
   ]
  },
  {
   "cell_type": "code",
   "execution_count": 13,
   "id": "acoustic-oracle",
   "metadata": {},
   "outputs": [],
   "source": [
    "model = LogisticRegression(random_state=0, solver='liblinear').fit(X_train, y_train)"
   ]
  },
  {
   "cell_type": "code",
   "execution_count": 14,
   "id": "private-discharge",
   "metadata": {},
   "outputs": [],
   "source": [
    "results = pd.DataFrame(model.predict_proba(X_test), columns=cancer.target_names)"
   ]
  },
  {
   "cell_type": "code",
   "execution_count": 15,
   "id": "meaning-large",
   "metadata": {},
   "outputs": [
    {
     "data": {
      "text/html": [
       "<div>\n",
       "<style scoped>\n",
       "    .dataframe tbody tr th:only-of-type {\n",
       "        vertical-align: middle;\n",
       "    }\n",
       "\n",
       "    .dataframe tbody tr th {\n",
       "        vertical-align: top;\n",
       "    }\n",
       "\n",
       "    .dataframe thead th {\n",
       "        text-align: right;\n",
       "    }\n",
       "</style>\n",
       "<table border=\"1\" class=\"dataframe\">\n",
       "  <thead>\n",
       "    <tr style=\"text-align: right;\">\n",
       "      <th></th>\n",
       "      <th>malignant</th>\n",
       "      <th>benign</th>\n",
       "    </tr>\n",
       "  </thead>\n",
       "  <tbody>\n",
       "    <tr>\n",
       "      <th>0</th>\n",
       "      <td>0.003700</td>\n",
       "      <td>0.996300</td>\n",
       "    </tr>\n",
       "    <tr>\n",
       "      <th>1</th>\n",
       "      <td>0.000523</td>\n",
       "      <td>0.999477</td>\n",
       "    </tr>\n",
       "    <tr>\n",
       "      <th>2</th>\n",
       "      <td>0.028101</td>\n",
       "      <td>0.971899</td>\n",
       "    </tr>\n",
       "    <tr>\n",
       "      <th>3</th>\n",
       "      <td>0.007092</td>\n",
       "      <td>0.992908</td>\n",
       "    </tr>\n",
       "    <tr>\n",
       "      <th>4</th>\n",
       "      <td>0.003170</td>\n",
       "      <td>0.996830</td>\n",
       "    </tr>\n",
       "  </tbody>\n",
       "</table>\n",
       "</div>"
      ],
      "text/plain": [
       "   malignant    benign\n",
       "0   0.003700  0.996300\n",
       "1   0.000523  0.999477\n",
       "2   0.028101  0.971899\n",
       "3   0.007092  0.992908\n",
       "4   0.003170  0.996830"
      ]
     },
     "execution_count": 15,
     "metadata": {},
     "output_type": "execute_result"
    }
   ],
   "source": [
    "results.head()"
   ]
  },
  {
   "cell_type": "code",
   "execution_count": 16,
   "id": "wicked-anniversary",
   "metadata": {},
   "outputs": [],
   "source": [
    "for threshold in [0.4, 0.3, 0.15, 0.05]:\n",
    "    results[f'flag_{threshold}'] = results['benign'].map(lambda x: 1 if x > threshold else 0)"
   ]
  },
  {
   "cell_type": "code",
   "execution_count": 17,
   "id": "empty-louisiana",
   "metadata": {},
   "outputs": [
    {
     "data": {
      "text/html": [
       "<div>\n",
       "<style scoped>\n",
       "    .dataframe tbody tr th:only-of-type {\n",
       "        vertical-align: middle;\n",
       "    }\n",
       "\n",
       "    .dataframe tbody tr th {\n",
       "        vertical-align: top;\n",
       "    }\n",
       "\n",
       "    .dataframe thead th {\n",
       "        text-align: right;\n",
       "    }\n",
       "</style>\n",
       "<table border=\"1\" class=\"dataframe\">\n",
       "  <thead>\n",
       "    <tr style=\"text-align: right;\">\n",
       "      <th></th>\n",
       "      <th>malignant</th>\n",
       "      <th>benign</th>\n",
       "      <th>flag_0.4</th>\n",
       "      <th>flag_0.3</th>\n",
       "      <th>flag_0.15</th>\n",
       "      <th>flag_0.05</th>\n",
       "    </tr>\n",
       "  </thead>\n",
       "  <tbody>\n",
       "    <tr>\n",
       "      <th>0</th>\n",
       "      <td>0.003700</td>\n",
       "      <td>0.996300</td>\n",
       "      <td>1</td>\n",
       "      <td>1</td>\n",
       "      <td>1</td>\n",
       "      <td>1</td>\n",
       "    </tr>\n",
       "    <tr>\n",
       "      <th>1</th>\n",
       "      <td>0.000523</td>\n",
       "      <td>0.999477</td>\n",
       "      <td>1</td>\n",
       "      <td>1</td>\n",
       "      <td>1</td>\n",
       "      <td>1</td>\n",
       "    </tr>\n",
       "    <tr>\n",
       "      <th>2</th>\n",
       "      <td>0.028101</td>\n",
       "      <td>0.971899</td>\n",
       "      <td>1</td>\n",
       "      <td>1</td>\n",
       "      <td>1</td>\n",
       "      <td>1</td>\n",
       "    </tr>\n",
       "    <tr>\n",
       "      <th>3</th>\n",
       "      <td>0.007092</td>\n",
       "      <td>0.992908</td>\n",
       "      <td>1</td>\n",
       "      <td>1</td>\n",
       "      <td>1</td>\n",
       "      <td>1</td>\n",
       "    </tr>\n",
       "    <tr>\n",
       "      <th>4</th>\n",
       "      <td>0.003170</td>\n",
       "      <td>0.996830</td>\n",
       "      <td>1</td>\n",
       "      <td>1</td>\n",
       "      <td>1</td>\n",
       "      <td>1</td>\n",
       "    </tr>\n",
       "    <tr>\n",
       "      <th>5</th>\n",
       "      <td>0.008900</td>\n",
       "      <td>0.991100</td>\n",
       "      <td>1</td>\n",
       "      <td>1</td>\n",
       "      <td>1</td>\n",
       "      <td>1</td>\n",
       "    </tr>\n",
       "    <tr>\n",
       "      <th>6</th>\n",
       "      <td>0.005989</td>\n",
       "      <td>0.994011</td>\n",
       "      <td>1</td>\n",
       "      <td>1</td>\n",
       "      <td>1</td>\n",
       "      <td>1</td>\n",
       "    </tr>\n",
       "    <tr>\n",
       "      <th>7</th>\n",
       "      <td>0.003187</td>\n",
       "      <td>0.996813</td>\n",
       "      <td>1</td>\n",
       "      <td>1</td>\n",
       "      <td>1</td>\n",
       "      <td>1</td>\n",
       "    </tr>\n",
       "    <tr>\n",
       "      <th>8</th>\n",
       "      <td>0.921077</td>\n",
       "      <td>0.078923</td>\n",
       "      <td>0</td>\n",
       "      <td>0</td>\n",
       "      <td>0</td>\n",
       "      <td>1</td>\n",
       "    </tr>\n",
       "    <tr>\n",
       "      <th>9</th>\n",
       "      <td>0.815918</td>\n",
       "      <td>0.184082</td>\n",
       "      <td>0</td>\n",
       "      <td>0</td>\n",
       "      <td>1</td>\n",
       "      <td>1</td>\n",
       "    </tr>\n",
       "  </tbody>\n",
       "</table>\n",
       "</div>"
      ],
      "text/plain": [
       "   malignant    benign  flag_0.4  flag_0.3  flag_0.15  flag_0.05\n",
       "0   0.003700  0.996300         1         1          1          1\n",
       "1   0.000523  0.999477         1         1          1          1\n",
       "2   0.028101  0.971899         1         1          1          1\n",
       "3   0.007092  0.992908         1         1          1          1\n",
       "4   0.003170  0.996830         1         1          1          1\n",
       "5   0.008900  0.991100         1         1          1          1\n",
       "6   0.005989  0.994011         1         1          1          1\n",
       "7   0.003187  0.996813         1         1          1          1\n",
       "8   0.921077  0.078923         0         0          0          1\n",
       "9   0.815918  0.184082         0         0          1          1"
      ]
     },
     "execution_count": 17,
     "metadata": {},
     "output_type": "execute_result"
    }
   ],
   "source": [
    "results.head(10)"
   ]
  },
  {
   "cell_type": "code",
   "execution_count": 18,
   "id": "muslim-device",
   "metadata": {},
   "outputs": [
    {
     "data": {
      "text/plain": [
       "<AxesSubplot:xlabel='false positive rate', ylabel='true positive rate'>"
      ]
     },
     "execution_count": 18,
     "metadata": {},
     "output_type": "execute_result"
    },
    {
     "data": {
      "image/png": "[encoded data removed]",
      "text/plain": [
       "<Figure size 432x288 with 1 Axes>"
      ]
     },
     "metadata": {
      "needs_background": "light"
     },
     "output_type": "display_data"
    }
   ],
   "source": [
    "# 임곗값을 0.01 ~ 0.99 사이에서 50개를 만들고 위양성 비율과 진양성 비율 계산 \n",
    "rates = {}\n",
    "for threshold in np.linspace(0.01, 0.99, num=50):\n",
    "    labels = results['benign'].map(lambda x: 1 if x > threshold else 0) \n",
    "    m = confusion_matrix(y_test, labels)\n",
    "    rates[threshold] = {'false positive rate': m[0,1] / m[0, :].sum(),'true positive rate': m[1,1] / m[1, :].sum()}\n",
    "# 가로축은 false positive rate, 세로축은 true positive rate로 그래프 그리기 \n",
    "pd.DataFrame(rates).T.plot.scatter('false positive rate', 'true positive rate')"
   ]
  },
  {
   "cell_type": "code",
   "execution_count": 19,
   "id": "closing-bankruptcy",
   "metadata": {},
   "outputs": [],
   "source": [
    "from sklearn.svm import SVC\n",
    "from sklearn.metrics import roc_curve, auc\n",
    "\n",
    "cancer = load_breast_cancer()\n",
    "X_train, X_test, y_train, y_test = train_test_split(cancer.data, cancer.target, test_size=0.5, random_state=66)\n",
    "model = SVC(kernel='linear', probability=True, random_state=0).fit(X_train, y_train)"
   ]
  },
  {
   "cell_type": "code",
   "execution_count": 20,
   "id": "sharing-finder",
   "metadata": {},
   "outputs": [
    {
     "data": {
      "text/plain": [
       "<matplotlib.legend.Legend at 0x7f816d8eaee0>"
      ]
     },
     "execution_count": 20,
     "metadata": {},
     "output_type": "execute_result"
    },
    {
     "data": {
      "image/png": "[encoded data removed]",
      "text/plain": [
       "<Figure size 432x288 with 1 Axes>"
      ]
     },
     "metadata": {
      "needs_background": "light"
     },
     "output_type": "display_data"
    }
   ],
   "source": [
    "y_pred = model.predict_proba(X_test)[:,1]\n",
    "fpr, tpr, thresholds = roc_curve(y_test, y_pred)\n",
    "auc = auc(fpr, tpr)\n",
    "plt.plot(fpr, tpr, color='red', label='ROC curve (area = %.3f)' % auc) \n",
    "plt.plot([0, 1], [0, 1], color='black', linestyle='--')\n",
    "plt.xlim([0.0, 1.0])\n",
    "plt.ylim([0.0, 1.05])\n",
    "plt.xlabel('False positive rate') \n",
    "plt.ylabel('True positive rate') \n",
    "plt.title('Receiver operating characteristic') \n",
    "plt.legend(loc=\"best\")"
   ]
  },
  {
   "cell_type": "markdown",
   "id": "surgical-penny",
   "metadata": {},
   "source": [
    "### 10.3.3 회귀 모델 평가지표"
   ]
  },
  {
   "cell_type": "code",
   "execution_count": 21,
   "id": "living-inventory",
   "metadata": {},
   "outputs": [],
   "source": [
    "from sklearn.datasets import load_boston\n",
    "from sklearn.preprocessing import StandardScaler\n",
    "from sklearn.model_selection import cross_val_score, train_test_split\n",
    "from sklearn.linear_model import LinearRegression, Ridge\n",
    "from sklearn.svm import LinearSVR\n",
    "from sklearn.tree import DecisionTreeRegressor\n",
    "from sklearn.metrics import mean_absolute_error, mean_squared_error, median_absolute_error, r2_score"
   ]
  },
  {
   "cell_type": "code",
   "execution_count": 22,
   "id": "valid-invite",
   "metadata": {},
   "outputs": [],
   "source": [
    "boston = load_boston()\n",
    "X = pd.DataFrame(boston.data, columns=boston.feature_names)\n",
    "y = pd.Series(boston.target, name=\"MEDV\")\n",
    "\n",
    "X_train, X_test, y_train, y_test = train_test_split(X, y, test_size=0.5, random_state=0)"
   ]
  },
  {
   "cell_type": "code",
   "execution_count": 23,
   "id": "jewish-shell",
   "metadata": {},
   "outputs": [],
   "source": [
    "sc = StandardScaler()\n",
    "sc.fit(X_train)\n",
    "X_train_std = sc.transform(X_train)\n",
    "X_test_std = sc.transform(X_test)"
   ]
  },
  {
   "cell_type": "code",
   "execution_count": 24,
   "id": "mighty-sympathy",
   "metadata": {},
   "outputs": [],
   "source": [
    "models = {\n",
    "    'LinearRegression': LinearRegression(),\n",
    "    'Ridge': Ridge(random_state=0),\n",
    "    'DecisionTresRegressor': DecisionTreeRegressor(random_state=0),\n",
    "    'LinearSVR':LinearSVR(random_state=0)\n",
    "}"
   ]
  },
  {
   "cell_type": "code",
   "execution_count": 28,
   "id": "future-sword",
   "metadata": {},
   "outputs": [],
   "source": [
    "scores = {}\n",
    "\n",
    "for model_name, model in models.items():\n",
    "    model.fit(X_train_std, y_train)\n",
    "    scores[(model_name, 'MSE')] = mean_squared_error(y_test, model.predict(X_test_std))\n",
    "    scores[(model_name, 'MAE')] = mean_absolute_error(y_test, model.predict(X_test_std))\n",
    "    scores[(model_name, 'MedAE')] = median_absolute_error(y_test, model.predict(X_test_std))\n",
    "    scores[(model_name, 'R2')] = r2_score(y_test, model.predict(X_test_std))"
   ]
  },
  {
   "cell_type": "code",
   "execution_count": 29,
   "id": "technical-integral",
   "metadata": {},
   "outputs": [
    {
     "data": {
      "text/html": [
       "<div>\n",
       "<style scoped>\n",
       "    .dataframe tbody tr th:only-of-type {\n",
       "        vertical-align: middle;\n",
       "    }\n",
       "\n",
       "    .dataframe tbody tr th {\n",
       "        vertical-align: top;\n",
       "    }\n",
       "\n",
       "    .dataframe thead th {\n",
       "        text-align: right;\n",
       "    }\n",
       "</style>\n",
       "<table border=\"1\" class=\"dataframe\">\n",
       "  <thead>\n",
       "    <tr style=\"text-align: right;\">\n",
       "      <th></th>\n",
       "      <th>MAE</th>\n",
       "      <th>MSE</th>\n",
       "      <th>MedAE</th>\n",
       "      <th>R2</th>\n",
       "    </tr>\n",
       "  </thead>\n",
       "  <tbody>\n",
       "    <tr>\n",
       "      <th>DecisionTresRegressor</th>\n",
       "      <td>3.064822</td>\n",
       "      <td>24.590435</td>\n",
       "      <td>1.900000</td>\n",
       "      <td>0.675653</td>\n",
       "    </tr>\n",
       "    <tr>\n",
       "      <th>LinearRegression</th>\n",
       "      <td>3.627793</td>\n",
       "      <td>25.301662</td>\n",
       "      <td>2.903830</td>\n",
       "      <td>0.666272</td>\n",
       "    </tr>\n",
       "    <tr>\n",
       "      <th>LinearSVR</th>\n",
       "      <td>3.275385</td>\n",
       "      <td>26.799616</td>\n",
       "      <td>2.092362</td>\n",
       "      <td>0.646514</td>\n",
       "    </tr>\n",
       "    <tr>\n",
       "      <th>Ridge</th>\n",
       "      <td>3.618201</td>\n",
       "      <td>25.282890</td>\n",
       "      <td>2.930524</td>\n",
       "      <td>0.666520</td>\n",
       "    </tr>\n",
       "  </tbody>\n",
       "</table>\n",
       "</div>"
      ],
      "text/plain": [
       "                            MAE        MSE     MedAE        R2\n",
       "DecisionTresRegressor  3.064822  24.590435  1.900000  0.675653\n",
       "LinearRegression       3.627793  25.301662  2.903830  0.666272\n",
       "LinearSVR              3.275385  26.799616  2.092362  0.646514\n",
       "Ridge                  3.618201  25.282890  2.930524  0.666520"
      ]
     },
     "execution_count": 29,
     "metadata": {},
     "output_type": "execute_result"
    }
   ],
   "source": [
    "pd.Series(scores).unstack()"
   ]
  },
  {
   "cell_type": "code",
   "execution_count": 27,
   "id": "freelance-zimbabwe",
   "metadata": {},
   "outputs": [
    {
     "data": {
      "text/plain": [
       "['BallTree',\n",
       " 'DistanceMetric',\n",
       " 'KDTree',\n",
       " 'KNeighborsClassifier',\n",
       " 'KNeighborsRegressor',\n",
       " 'KNeighborsTransformer',\n",
       " 'KernelDensity',\n",
       " 'LocalOutlierFactor',\n",
       " 'NearestCentroid',\n",
       " 'NearestNeighbors',\n",
       " 'NeighborhoodComponentsAnalysis',\n",
       " 'RadiusNeighborsClassifier',\n",
       " 'RadiusNeighborsRegressor',\n",
       " 'RadiusNeighborsTransformer',\n",
       " 'VALID_METRICS',\n",
       " 'VALID_METRICS_SPARSE',\n",
       " '__all__',\n",
       " '__builtins__',\n",
       " '__cached__',\n",
       " '__doc__',\n",
       " '__file__',\n",
       " '__loader__',\n",
       " '__name__',\n",
       " '__package__',\n",
       " '__path__',\n",
       " '__spec__',\n",
       " '_ball_tree',\n",
       " '_base',\n",
       " '_classification',\n",
       " '_dist_metrics',\n",
       " '_graph',\n",
       " '_kd_tree',\n",
       " '_kde',\n",
       " '_lof',\n",
       " '_nca',\n",
       " '_nearest_centroid',\n",
       " '_quad_tree',\n",
       " '_regression',\n",
       " '_typedefs',\n",
       " '_unsupervised',\n",
       " 'kneighbors_graph',\n",
       " 'radius_neighbors_graph']"
      ]
     },
     "execution_count": 27,
     "metadata": {},
     "output_type": "execute_result"
    }
   ],
   "source": [
    "import sklearn.neighbors\n",
    "dir(sklearn.neighbors)"
   ]
  },
  {
   "cell_type": "code",
   "execution_count": null,
   "id": "wired-short",
   "metadata": {},
   "outputs": [],
   "source": []
  }
 ],
 "metadata": {
  "kernelspec": {
   "display_name": "Enjoy Data Science",
   "language": "python",
   "name": "enjoy-data-science"
  },
  "language_info": {
   "codemirror_mode": {
    "name": "ipython",
    "version": 3
   },
   "file_extension": ".py",
   "mimetype": "text/x-python",
   "name": "python",
   "nbconvert_exporter": "python",
   "pygments_lexer": "ipython3",
   "version": "3.8.5"
  }
 },
 "nbformat": 4,
 "nbformat_minor": 5
}
