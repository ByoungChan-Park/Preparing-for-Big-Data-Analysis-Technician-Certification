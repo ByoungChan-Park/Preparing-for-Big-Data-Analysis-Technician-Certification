{
 "cells": [
  {
   "cell_type": "code",
   "execution_count": 1,
   "id": "internal-paragraph",
   "metadata": {},
   "outputs": [],
   "source": [
    "import numpy as np\n",
    "import pandas as pd\n",
    "import scipy as sp\n",
    "import sklearn\n",
    "import requests, zipfile \n",
    "import io\n",
    "\n",
    "from sklearn.datasets import load_breast_cancer\n",
    "from sklearn.linear_model import Lasso\n",
    "from sklearn.linear_model import LinearRegression\n",
    "from sklearn.model_selection import train_test_split\n",
    "from sklearn.preprocessing import StandardScaler"
   ]
  },
  {
   "cell_type": "code",
   "execution_count": 2,
   "id": "surgical-munich",
   "metadata": {},
   "outputs": [],
   "source": [
    "# 자동차 가격 데이터 가져오기\n",
    "url = 'http://archive.ics.uci.edu/ml/machine-learning-databases/autos/imports-85.data' \n",
    "res = requests.get(url).content\n",
    "auto = pd.read_csv(io.StringIO(res.decode('utf-8')), header=None)\n",
    "auto.columns =['symboling','normalized-losses','make','fuel-type' ,'aspiration','num-of-doors',\n",
    "               'body-style','drive-wheels','engine-location','wheel-base','length','width','height', \n",
    "               'curb-weight','engine-type','num-of-cylinders','engine-size','fuel-system','bore', \n",
    "               'stroke','compression-ratio','horsepower','peak-rpm','city-mpg','highway-mpg','price']"
   ]
  },
  {
   "cell_type": "code",
   "execution_count": 3,
   "id": "desirable-bikini",
   "metadata": {},
   "outputs": [],
   "source": [
    "auto = auto[['price', 'horsepower', 'width', 'height']]\n",
    "# auto.isin(['?']).sum()\n",
    "auto = auto.replace('?', np.nan).dropna()"
   ]
  },
  {
   "cell_type": "code",
   "execution_count": 4,
   "id": "linear-warren",
   "metadata": {},
   "outputs": [],
   "source": [
    "X = auto.drop(['price'], axis=1)\n",
    "y = auto['price']\n",
    "X_train, X_test, y_train, y_test = train_test_split(X, y, test_size=0.5, random_state=0)"
   ]
  },
  {
   "cell_type": "code",
   "execution_count": 5,
   "id": "living-technician",
   "metadata": {},
   "outputs": [],
   "source": [
    "linear = LinearRegression()\n",
    "lasso = Lasso(random_state=0)"
   ]
  },
  {
   "cell_type": "code",
   "execution_count": 6,
   "id": "committed-seeking",
   "metadata": {},
   "outputs": [
    {
     "name": "stdout",
     "output_type": "stream",
     "text": [
      "LinearRegression(train):0.733358\n",
      "LinearRegression(test):0.737069\n",
      "Lasso(train):0.733358\n",
      "Lasso(test):0.737107\n"
     ]
    }
   ],
   "source": [
    "for model in [linear, lasso]:\n",
    "    model.fit(X_train, y_train)\n",
    "    print(\"{}(train):{:.6f}\".format(model.__class__.__name__, model.score(X_train, y_train)))\n",
    "    print(\"{}(test):{:.6f}\".format(model.__class__.__name__, model.score(X_test, y_test)))"
   ]
  }
 ],
 "metadata": {
  "kernelspec": {
   "display_name": "Enjoy Data Science",
   "language": "python",
   "name": "enjoy-data-science"
  },
  "language_info": {
   "codemirror_mode": {
    "name": "ipython",
    "version": 3
   },
   "file_extension": ".py",
   "mimetype": "text/x-python",
   "name": "python",
   "nbconvert_exporter": "python",
   "pygments_lexer": "ipython3",
   "version": "3.8.5"
  }
 },
 "nbformat": 4,
 "nbformat_minor": 5
}
