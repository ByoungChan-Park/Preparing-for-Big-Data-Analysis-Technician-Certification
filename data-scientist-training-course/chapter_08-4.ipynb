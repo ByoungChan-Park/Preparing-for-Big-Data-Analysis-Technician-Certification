{
 "cells": [
  {
   "cell_type": "markdown",
   "id": "virtual-painting",
   "metadata": {},
   "source": [
    "## 8.4 정규화 항이 있는 회귀: 리지회귀, 라소회귀"
   ]
  },
  {
   "cell_type": "markdown",
   "id": "swiss-screening",
   "metadata": {},
   "source": [
    "### 8.4.1 라소회귀, 리지회귀의 특징"
   ]
  },
  {
   "cell_type": "markdown",
   "id": "suitable-above",
   "metadata": {},
   "source": [
    "### 8.4.2 다중회귀와 리지회귀 비교"
   ]
  },
  {
   "cell_type": "code",
   "execution_count": 1,
   "id": "unsigned-parent",
   "metadata": {},
   "outputs": [],
   "source": [
    "import numpy as np\n",
    "import pandas as pd\n",
    "import scipy as sp\n",
    "import sklearn\n",
    "import requests, zipfile \n",
    "import io\n",
    "\n",
    "# 자동차 가격 데이터 가져오기\n",
    "url = 'http://archive.ics.uci.edu/ml/machine-learning-databases/autos/imports-85.data' \n",
    "res = requests.get(url).content\n",
    "auto = pd.read_csv(io.StringIO(res.decode('utf-8')), header=None)\n",
    "auto.columns =['symboling','normalized-losses','make','fuel-type' ,'aspiration','num-of-doors',\n",
    "               'body-style','drive-wheels','engine-location','wheel-base','length','width','height', \n",
    "               'curb-weight','engine-type','num-of-cylinders','engine-size','fuel-system','bore', \n",
    "               'stroke','compression-ratio','horsepower','peak-rpm','city-mpg','highway-mpg','price']"
   ]
  },
  {
   "cell_type": "code",
   "execution_count": 2,
   "id": "empirical-blind",
   "metadata": {},
   "outputs": [],
   "source": [
    "from sklearn.linear_model import Ridge\n",
    "from sklearn.linear_model import LinearRegression\n",
    "from sklearn.model_selection import train_test_split"
   ]
  },
  {
   "cell_type": "code",
   "execution_count": 3,
   "id": "competitive-battery",
   "metadata": {},
   "outputs": [],
   "source": [
    "auto = auto[['price', 'horsepower', 'width', 'height']]\n",
    "auto = auto.replace('?', np.nan).dropna()"
   ]
  },
  {
   "cell_type": "code",
   "execution_count": 4,
   "id": "criminal-village",
   "metadata": {},
   "outputs": [],
   "source": [
    "X = auto.drop(['price'], axis=1)\n",
    "y = auto['price']\n",
    "X_train, X_test, y_train, y_test = train_test_split(X, y, test_size=0.5, random_state=0)"
   ]
  },
  {
   "cell_type": "code",
   "execution_count": 5,
   "id": "smoking-peter",
   "metadata": {},
   "outputs": [],
   "source": [
    "linear = LinearRegression()\n",
    "ridge = Ridge(random_state=0)"
   ]
  },
  {
   "cell_type": "code",
   "execution_count": 6,
   "id": "unable-michigan",
   "metadata": {},
   "outputs": [
    {
     "name": "stdout",
     "output_type": "stream",
     "text": [
      "LinearRegression(train):0.733358\n",
      "LinearRegression(test):0.737069\n",
      "Ridge(train):0.733355\n",
      "Ridge(test):0.737768\n"
     ]
    }
   ],
   "source": [
    "for model in [linear, ridge]:\n",
    "    model.fit(X_train, y_train)\n",
    "    print(\"{}(train):{:.6f}\".format(model.__class__.__name__, model.score(X_train, y_train)))\n",
    "    print(\"{}(test):{:.6f}\".format(model.__class__.__name__, model.score(X_test, y_test)))"
   ]
  },
  {
   "cell_type": "code",
   "execution_count": null,
   "id": "obvious-manufacturer",
   "metadata": {},
   "outputs": [],
   "source": []
  }
 ],
 "metadata": {
  "kernelspec": {
   "display_name": "Enjoy Data Science",
   "language": "python",
   "name": "enjoy-data-science"
  },
  "language_info": {
   "codemirror_mode": {
    "name": "ipython",
    "version": 3
   },
   "file_extension": ".py",
   "mimetype": "text/x-python",
   "name": "python",
   "nbconvert_exporter": "python",
   "pygments_lexer": "ipython3",
   "version": "3.8.5"
  }
 },
 "nbformat": 4,
 "nbformat_minor": 5
}
