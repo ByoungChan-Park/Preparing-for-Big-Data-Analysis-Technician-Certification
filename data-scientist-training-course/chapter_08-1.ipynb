{
 "cells": [
  {
   "cell_type": "markdown",
   "id": "sharing-traffic",
   "metadata": {},
   "source": [
    "# 08 머신러닝 기초 (지도학습)"
   ]
  },
  {
   "cell_type": "markdown",
   "id": "engaging-static",
   "metadata": {},
   "source": [
    "## 8.1 머신러닝 개요"
   ]
  },
  {
   "cell_type": "markdown",
   "id": "ordinary-uzbekistan",
   "metadata": {},
   "source": [
    "### 8.1.1 머신러닝이란"
   ]
  },
  {
   "cell_type": "markdown",
   "id": "offensive-foundation",
   "metadata": {},
   "source": [
    "### 8.1.2 지도학습"
   ]
  },
  {
   "cell_type": "markdown",
   "id": "fewer-native",
   "metadata": {},
   "source": [
    "### 8.1.3 비지도학습"
   ]
  },
  {
   "cell_type": "markdown",
   "id": "emerging-lancaster",
   "metadata": {},
   "source": [
    "### 8.1.4 강화학습"
   ]
  },
  {
   "cell_type": "markdown",
   "id": "adult-postcard",
   "metadata": {},
   "source": [
    "### 8.1.5 라이브러리 임포트"
   ]
  },
  {
   "cell_type": "code",
   "execution_count": 1,
   "id": "greek-kingston",
   "metadata": {},
   "outputs": [],
   "source": [
    "import numpy as np\n",
    "import pandas as pd\n",
    "import scipy as sp\n",
    "import sklearn"
   ]
  }
 ],
 "metadata": {
  "kernelspec": {
   "display_name": "Enjoy Data Science",
   "language": "python",
   "name": "enjoy-data-science"
  },
  "language_info": {
   "codemirror_mode": {
    "name": "ipython",
    "version": 3
   },
   "file_extension": ".py",
   "mimetype": "text/x-python",
   "name": "python",
   "nbconvert_exporter": "python",
   "pygments_lexer": "ipython3",
   "version": "3.8.5"
  }
 },
 "nbformat": 4,
 "nbformat_minor": 5
}
