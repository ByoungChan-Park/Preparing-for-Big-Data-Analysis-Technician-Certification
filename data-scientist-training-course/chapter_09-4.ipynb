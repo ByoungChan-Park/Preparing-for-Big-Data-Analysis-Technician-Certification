{
 "cells": [
  {
   "cell_type": "markdown",
   "id": "spare-hebrew",
   "metadata": {},
   "source": [
    "## 9.4 장바구니 분석과 연관 규칙"
   ]
  },
  {
   "cell_type": "markdown",
   "id": "documented-douglas",
   "metadata": {},
   "source": [
    "### 9.4.1 장바구니 분석"
   ]
  },
  {
   "cell_type": "markdown",
   "id": "pending-payday",
   "metadata": {},
   "source": [
    "### 9.4.2 장바구니 분석을 위한 샘플 데이터 입력"
   ]
  },
  {
   "cell_type": "code",
   "execution_count": 1,
   "id": "english-yacht",
   "metadata": {},
   "outputs": [],
   "source": [
    "import pandas as pd"
   ]
  },
  {
   "cell_type": "code",
   "execution_count": 2,
   "id": "prompt-volleyball",
   "metadata": {},
   "outputs": [
    {
     "data": {
      "text/html": [
       "<div>\n",
       "<style scoped>\n",
       "    .dataframe tbody tr th:only-of-type {\n",
       "        vertical-align: middle;\n",
       "    }\n",
       "\n",
       "    .dataframe tbody tr th {\n",
       "        vertical-align: top;\n",
       "    }\n",
       "\n",
       "    .dataframe thead th {\n",
       "        text-align: right;\n",
       "    }\n",
       "</style>\n",
       "<table border=\"1\" class=\"dataframe\">\n",
       "  <thead>\n",
       "    <tr style=\"text-align: right;\">\n",
       "      <th></th>\n",
       "      <th>InvoiceNo</th>\n",
       "      <th>StockCode</th>\n",
       "      <th>Description</th>\n",
       "      <th>Quantity</th>\n",
       "      <th>InvoiceDate</th>\n",
       "      <th>UnitPrice</th>\n",
       "      <th>CustomerID</th>\n",
       "      <th>Country</th>\n",
       "    </tr>\n",
       "  </thead>\n",
       "  <tbody>\n",
       "    <tr>\n",
       "      <th>0</th>\n",
       "      <td>536365</td>\n",
       "      <td>85123A</td>\n",
       "      <td>WHITE HANGING HEART T-LIGHT HOLDER</td>\n",
       "      <td>6</td>\n",
       "      <td>2010-12-01 08:26:00</td>\n",
       "      <td>2.55</td>\n",
       "      <td>17850.0</td>\n",
       "      <td>United Kingdom</td>\n",
       "    </tr>\n",
       "    <tr>\n",
       "      <th>1</th>\n",
       "      <td>536365</td>\n",
       "      <td>71053</td>\n",
       "      <td>WHITE METAL LANTERN</td>\n",
       "      <td>6</td>\n",
       "      <td>2010-12-01 08:26:00</td>\n",
       "      <td>3.39</td>\n",
       "      <td>17850.0</td>\n",
       "      <td>United Kingdom</td>\n",
       "    </tr>\n",
       "    <tr>\n",
       "      <th>2</th>\n",
       "      <td>536365</td>\n",
       "      <td>84406B</td>\n",
       "      <td>CREAM CUPID HEARTS COAT HANGER</td>\n",
       "      <td>8</td>\n",
       "      <td>2010-12-01 08:26:00</td>\n",
       "      <td>2.75</td>\n",
       "      <td>17850.0</td>\n",
       "      <td>United Kingdom</td>\n",
       "    </tr>\n",
       "    <tr>\n",
       "      <th>3</th>\n",
       "      <td>536365</td>\n",
       "      <td>84029G</td>\n",
       "      <td>KNITTED UNION FLAG HOT WATER BOTTLE</td>\n",
       "      <td>6</td>\n",
       "      <td>2010-12-01 08:26:00</td>\n",
       "      <td>3.39</td>\n",
       "      <td>17850.0</td>\n",
       "      <td>United Kingdom</td>\n",
       "    </tr>\n",
       "    <tr>\n",
       "      <th>4</th>\n",
       "      <td>536365</td>\n",
       "      <td>84029E</td>\n",
       "      <td>RED WOOLLY HOTTIE WHITE HEART.</td>\n",
       "      <td>6</td>\n",
       "      <td>2010-12-01 08:26:00</td>\n",
       "      <td>3.39</td>\n",
       "      <td>17850.0</td>\n",
       "      <td>United Kingdom</td>\n",
       "    </tr>\n",
       "  </tbody>\n",
       "</table>\n",
       "</div>"
      ],
      "text/plain": [
       "  InvoiceNo StockCode                          Description  Quantity  \\\n",
       "0    536365    85123A   WHITE HANGING HEART T-LIGHT HOLDER         6   \n",
       "1    536365     71053                  WHITE METAL LANTERN         6   \n",
       "2    536365    84406B       CREAM CUPID HEARTS COAT HANGER         8   \n",
       "3    536365    84029G  KNITTED UNION FLAG HOT WATER BOTTLE         6   \n",
       "4    536365    84029E       RED WOOLLY HOTTIE WHITE HEART.         6   \n",
       "\n",
       "          InvoiceDate  UnitPrice  CustomerID         Country  \n",
       "0 2010-12-01 08:26:00       2.55     17850.0  United Kingdom  \n",
       "1 2010-12-01 08:26:00       3.39     17850.0  United Kingdom  \n",
       "2 2010-12-01 08:26:00       2.75     17850.0  United Kingdom  \n",
       "3 2010-12-01 08:26:00       3.39     17850.0  United Kingdom  \n",
       "4 2010-12-01 08:26:00       3.39     17850.0  United Kingdom  "
      ]
     },
     "execution_count": 2,
     "metadata": {},
     "output_type": "execute_result"
    }
   ],
   "source": [
    "trans = pd.read_excel('./data/Online-Retail.xlsx', sheet_name='Online Retail')\n",
    "trans.head()"
   ]
  },
  {
   "cell_type": "code",
   "execution_count": 3,
   "id": "turkish-taiwan",
   "metadata": {},
   "outputs": [
    {
     "data": {
      "text/plain": [
       "cancel_flg\n",
       "5    532618\n",
       "A         3\n",
       "C      9288\n",
       "dtype: int64"
      ]
     },
     "execution_count": 3,
     "metadata": {},
     "output_type": "execute_result"
    }
   ],
   "source": [
    "trans['cancel_flg'] = trans.InvoiceNo.map(lambda x:str(x)[0])\n",
    "trans.groupby('cancel_flg').size()"
   ]
  },
  {
   "cell_type": "code",
   "execution_count": 5,
   "id": "divided-certification",
   "metadata": {},
   "outputs": [],
   "source": [
    "trans = trans[(trans.cancel_flg == '5') & (trans.CustomerID.notnull())]"
   ]
  },
  {
   "cell_type": "markdown",
   "id": "processed-subsection",
   "metadata": {},
   "source": [
    "### 9.4.3 연관 규칙"
   ]
  },
  {
   "cell_type": "code",
   "execution_count": 6,
   "id": "alternate-issue",
   "metadata": {},
   "outputs": [
    {
     "data": {
      "text/plain": [
       "85123A    2035\n",
       "22423     1724\n",
       "85099B    1618\n",
       "84879     1408\n",
       "47566     1397\n",
       "Name: StockCode, dtype: int64"
      ]
     },
     "execution_count": 6,
     "metadata": {},
     "output_type": "execute_result"
    }
   ],
   "source": [
    "trans['StockCode'].value_counts().head(5)"
   ]
  },
  {
   "cell_type": "markdown",
   "id": "downtown-wisdom",
   "metadata": {},
   "source": [
    "#### 지지도(support)"
   ]
  },
  {
   "cell_type": "code",
   "execution_count": 9,
   "id": "voluntary-projector",
   "metadata": {},
   "outputs": [
    {
     "name": "stdout",
     "output_type": "stream",
     "text": [
      "1978\n",
      "1600\n"
     ]
    }
   ],
   "source": [
    "trans_all = set(trans.InvoiceNo)\n",
    "trans_a = set(trans[trans['StockCode'] == '85123A'].InvoiceNo)\n",
    "print(len(trans_a))\n",
    "trans_b = set(trans[trans['StockCode']=='85099B'].InvoiceNo)\n",
    "print(len(trans_b))"
   ]
  },
  {
   "cell_type": "code",
   "execution_count": 10,
   "id": "settled-basement",
   "metadata": {},
   "outputs": [
    {
     "name": "stdout",
     "output_type": "stream",
     "text": [
      "252\n"
     ]
    }
   ],
   "source": [
    "trans_ab = trans_a&trans_b\n",
    "print(len(trans_ab))"
   ]
  },
  {
   "cell_type": "code",
   "execution_count": 11,
   "id": "floral-newspaper",
   "metadata": {},
   "outputs": [
    {
     "name": "stdout",
     "output_type": "stream",
     "text": [
      "두 상품을 모두 포함하는 장바구니 수: 252\n",
      "두 상품을 모두 포함하는 장바구니가 전체에서 차지하는 비율: 0.014\n"
     ]
    }
   ],
   "source": [
    "print('두 상품을 모두 포함하는 장바구니 수: {}'.format(len(trans_ab)))\n",
    "print('두 상품을 모두 포함하는 장바구니가 전체에서 차지하는 비율: {:.3f}'.format(len(trans_ab)/len(trans_all)))"
   ]
  },
  {
   "cell_type": "code",
   "execution_count": 13,
   "id": "absent-pacific",
   "metadata": {},
   "outputs": [
    {
     "name": "stdout",
     "output_type": "stream",
     "text": [
      "상품 85123A를 포함하는 장바구니 수: 1978\n",
      "상품 85123A를 포함하는 장바구니가 전체에서 차지하는 비율: 0.107\n"
     ]
    }
   ],
   "source": [
    "print('상품 85123A를 포함하는 장바구니 수: {}'.format(len(trans_a)))\n",
    "print('상품 85123A를 포함하는 장바구니가 전체에서 차지하는 비율: {:.3f}'.format(len(trans_a)/len(trans_all)))"
   ]
  },
  {
   "cell_type": "code",
   "execution_count": null,
   "id": "mineral-vietnam",
   "metadata": {},
   "outputs": [],
   "source": []
  }
 ],
 "metadata": {
  "kernelspec": {
   "display_name": "Enjoy Data Science",
   "language": "python",
   "name": "enjoy-data-science"
  },
  "language_info": {
   "codemirror_mode": {
    "name": "ipython",
    "version": 3
   },
   "file_extension": ".py",
   "mimetype": "text/x-python",
   "name": "python",
   "nbconvert_exporter": "python",
   "pygments_lexer": "ipython3",
   "version": "3.8.5"
  }
 },
 "nbformat": 4,
 "nbformat_minor": 5
}
