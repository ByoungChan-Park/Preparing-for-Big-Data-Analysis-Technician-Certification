{
 "cells": [
  {
   "cell_type": "code",
   "execution_count": 1,
   "id": "213ac2e1-a07a-4a53-8165-33f87c9e9991",
   "metadata": {},
   "outputs": [],
   "source": [
    "from sklearn.datasets import load_iris\n",
    "from sklearn.tree import DecisionTreeClassifier\n",
    "from sklearn.tree import plot_tree\n",
    "from sklearn.metrics import accuracy_score"
   ]
  },
  {
   "cell_type": "code",
   "execution_count": 2,
   "id": "3c8edf8b-cb2e-4311-8087-eadb74289a1c",
   "metadata": {},
   "outputs": [],
   "source": [
    "iris = load_iris()\n",
    "dt_clf = DecisionTreeClassifier()\n",
    "train_data = iris.data\n",
    "train_label = iris.target\n",
    "dt_clf.fit(train_data, train_label)\n",
    "pred = dt_clf.predict(train_data)"
   ]
  },
  {
   "cell_type": "code",
   "execution_count": 2,
   "id": "374a3002-b0b4-4278-bc14-d505a6280a71",
   "metadata": {},
   "outputs": [
    {
     "name": "stdout",
     "output_type": "stream",
     "text": [
      "예측 정확도 : 1.0\n"
     ]
    }
   ],
   "source": [
    "print(\"예측 정확도 :\" , accuracy_score(train_label, pred))"
   ]
  },
  {
   "cell_type": "code",
   "execution_count": 3,
   "id": "8f3e1dc8-8e69-46c9-b508-78cc73b27e88",
   "metadata": {},
   "outputs": [],
   "source": [
    "from sklearn.model_selection import train_test_split\n",
    "import matplotlib.pyplot as plt\n",
    "\n",
    "dt_clf = DecisionTreeClassifier()\n",
    "iris_data = load_iris()\n",
    "X_train, X_test, y_train, y_test = train_test_split(iris_data.data, iris_data.target, test_size=0.1)\n",
    "\n",
    "clf = dt_clf.fit(X_train, y_train)\n",
    "pred = clf.predict(X_test)"
   ]
  },
  {
   "cell_type": "code",
   "execution_count": 4,
   "id": "14ac1690-a395-4d24-97be-c61d7c99382a",
   "metadata": {},
   "outputs": [
    {
     "name": "stdout",
     "output_type": "stream",
     "text": [
      "예측 정확도 : 1.0000\n"
     ]
    }
   ],
   "source": [
    "print(\"예측 정확도 : {0:.4f}\".format(accuracy_score(y_test, pred)))"
   ]
  },
  {
   "cell_type": "code",
   "execution_count": 5,
   "id": "9e8c2b4c-4df9-4107-aecc-97588797556a",
   "metadata": {},
   "outputs": [],
   "source": [
    "import pickle\n",
    "\n",
    "with open('decision_tree_classifier.pkl', 'wb') as fid:\n",
    "    pickle.dump(clf, fid)"
   ]
  },
  {
   "cell_type": "code",
   "execution_count": 6,
   "id": "9584b487-9311-40f7-9d8c-7149aadaadab",
   "metadata": {},
   "outputs": [],
   "source": [
    "with open('decision_tree_classifier.pkl', 'rb') as fid:\n",
    "    clf = pickle.load(fid)"
   ]
  },
  {
   "cell_type": "code",
   "execution_count": 7,
   "id": "ad419105-699b-4dd0-8ae4-af03dbb6f04a",
   "metadata": {},
   "outputs": [
    {
     "data": {
      "text/plain": [
       "[Text(167.4, 199.32, 'X[2] <= 2.45\\ngini = 0.665\\nsamples = 135\\nvalue = [44, 49, 42]'),\n",
       " Text(141.64615384615385, 163.07999999999998, 'gini = 0.0\\nsamples = 44\\nvalue = [44, 0, 0]'),\n",
       " Text(193.15384615384616, 163.07999999999998, 'X[3] <= 1.75\\ngini = 0.497\\nsamples = 91\\nvalue = [0, 49, 42]'),\n",
       " Text(103.01538461538462, 126.83999999999999, 'X[2] <= 4.95\\ngini = 0.171\\nsamples = 53\\nvalue = [0, 48, 5]'),\n",
       " Text(51.50769230769231, 90.6, 'X[3] <= 1.65\\ngini = 0.042\\nsamples = 47\\nvalue = [0, 46, 1]'),\n",
       " Text(25.753846153846155, 54.359999999999985, 'gini = 0.0\\nsamples = 46\\nvalue = [0, 46, 0]'),\n",
       " Text(77.26153846153846, 54.359999999999985, 'gini = 0.0\\nsamples = 1\\nvalue = [0, 0, 1]'),\n",
       " Text(154.52307692307693, 90.6, 'X[3] <= 1.55\\ngini = 0.444\\nsamples = 6\\nvalue = [0, 2, 4]'),\n",
       " Text(128.76923076923077, 54.359999999999985, 'gini = 0.0\\nsamples = 3\\nvalue = [0, 0, 3]'),\n",
       " Text(180.27692307692308, 54.359999999999985, 'X[2] <= 5.45\\ngini = 0.444\\nsamples = 3\\nvalue = [0, 2, 1]'),\n",
       " Text(154.52307692307693, 18.119999999999976, 'gini = 0.0\\nsamples = 2\\nvalue = [0, 2, 0]'),\n",
       " Text(206.03076923076924, 18.119999999999976, 'gini = 0.0\\nsamples = 1\\nvalue = [0, 0, 1]'),\n",
       " Text(283.2923076923077, 126.83999999999999, 'X[2] <= 4.85\\ngini = 0.051\\nsamples = 38\\nvalue = [0, 1, 37]'),\n",
       " Text(257.53846153846155, 90.6, 'X[1] <= 3.1\\ngini = 0.444\\nsamples = 3\\nvalue = [0, 1, 2]'),\n",
       " Text(231.7846153846154, 54.359999999999985, 'gini = 0.0\\nsamples = 2\\nvalue = [0, 0, 2]'),\n",
       " Text(283.2923076923077, 54.359999999999985, 'gini = 0.0\\nsamples = 1\\nvalue = [0, 1, 0]'),\n",
       " Text(309.04615384615386, 90.6, 'gini = 0.0\\nsamples = 35\\nvalue = [0, 0, 35]')]"
      ]
     },
     "execution_count": 7,
     "metadata": {},
     "output_type": "execute_result"
    },
    {
     "data": {
      "image/png": "[encoded data removed]",
      "text/plain": [
       "<Figure size 432x288 with 1 Axes>"
      ]
     },
     "metadata": {
      "needs_background": "light"
     },
     "output_type": "display_data"
    }
   ],
   "source": [
    "plot_tree(clf)"
   ]
  },
  {
   "cell_type": "code",
   "execution_count": 21,
   "id": "c0607045-1e96-4e4a-ae0f-0932d0e1b7e9",
   "metadata": {},
   "outputs": [],
   "source": [
    "import glob\n",
    "import pandas as pd"
   ]
  },
  {
   "cell_type": "code",
   "execution_count": 21,
   "id": "c32926d8-aff9-4c4d-a7c6-15cb92353dc1",
   "metadata": {},
   "outputs": [],
   "source": [
    "paths = glob.glob('/Users/choisj2/data/da-datalake-prod/ml-mart/rds/product/year=2021/month=06/day=15/*')"
   ]
  },
  {
   "cell_type": "code",
   "execution_count": 23,
   "id": "cb92938d-b18a-424d-82ff-7abaa98ae408",
   "metadata": {},
   "outputs": [],
   "source": [
    "df = pd.concat([pd.read_parquet(path=path) for path in paths[:2]])"
   ]
  },
  {
   "cell_type": "code",
   "execution_count": 25,
   "id": "2af92a43-5874-4884-9f3f-76ad077e515f",
   "metadata": {
    "collapsed": true,
    "jupyter": {
     "outputs_hidden": true
    },
    "tags": []
   },
   "outputs": [
    {
     "name": "stdout",
     "output_type": "stream",
     "text": [
      "<class 'pandas.core.frame.DataFrame'>\n",
      "Int64Index: 960343 entries, 0 to 480252\n",
      "Data columns (total 74 columns):\n",
      " #   Column                      Non-Null Count   Dtype         \n",
      "---  ------                      --------------   -----         \n",
      " 0   C_BUNDLE_PRDUCT_NO          960343 non-null  object        \n",
      " 1   C_BUNDLE_PRDUCT_YN          960343 non-null  object        \n",
      " 2   C_PRDUCT_NO                 960343 non-null  object        \n",
      " 3   C_PRDUCT_NAME               960343 non-null  object        \n",
      " 4   C_PRDUCT_EN_NAME            960332 non-null  object        \n",
      " 5   C_PRDUCT_OPTION_NAME        960343 non-null  object        \n",
      " 6   C_PRDUCT_SKU                960343 non-null  object        \n",
      " 7   C_PRDUCT_ONSLF_SKU          173423 non-null  object        \n",
      " 8   C_PRDUCT_INVNTRY            960343 non-null  int32         \n",
      " 9   C_PRDUCT_NORMAL_INVNTRY_YN  960343 non-null  object        \n",
      " 10  C_PRDUCT_TODAY_INVNTRY_YN   960343 non-null  object        \n",
      " 11  C_PRDUCT_DLVY_CD            960343 non-null  object        \n",
      " 12  C_PRDUCT_INVNTRY_CNFIRM_YN  960343 non-null  object        \n",
      " 13  C_PRDUCT_SUPLY_PC           960343 non-null  int32         \n",
      " 14  C_PRDUCT_SELL_PC            960343 non-null  int32         \n",
      " 15  C_PRDUCT_DSCNT_PC           960343 non-null  int32         \n",
      " 16  C_PRDUCT_DSCNT_RATE         960343 non-null  float64       \n",
      " 17  C_PRDUCT_DSCNT_BGNDETE      448323 non-null  datetime64[ns]\n",
      " 18  C_PRDUCT_DSCNT_ENDDETE      448323 non-null  datetime64[ns]\n",
      " 19  C_PRDUCT_EXHBI_YN           960343 non-null  object        \n",
      " 20  C_PRDUCT_SELL_YN            960343 non-null  object        \n",
      " 21  C_PRDUCT_MAIN_EXPSR_YN      960343 non-null  object        \n",
      " 22  C_PRDUCT_RESTOCK_NOTICE_YN  960343 non-null  object        \n",
      " 23  C_PRDUCT_MARGIN_RATE        960343 non-null  float64       \n",
      " 24  C_PRDUCT_ADIT_PC            960343 non-null  int32         \n",
      " 25  C_PRDUCT_OPTN_ADIT_PC       960343 non-null  int32         \n",
      " 26  C_PRDUCT_MNFCTUR_DATE       933271 non-null  datetime64[ns]\n",
      " 27  C_PRDUCT_MATR               0 non-null       object        \n",
      " 28  C_PRDUCT_RDCNT              960343 non-null  int64         \n",
      " 29  C_PRDUCT_ONSLF_YN           960343 non-null  object        \n",
      " 30  C_PRDUCT_USE_YN             960343 non-null  object        \n",
      " 31  C_PRDUCT_KND_CD             960343 non-null  object        \n",
      " 32  C_OPTN_KND_CD               960343 non-null  object        \n",
      " 33  C_BRAND_NO                  960343 non-null  int64         \n",
      " 34  PROD_STYLE_NM               960343 non-null  object        \n",
      " 35  PROD_COLOR_NM               960343 non-null  object        \n",
      " 36  C_PRDUCT_REGIST_DETE        960299 non-null  datetime64[ns]\n",
      " 37  REG_ACNT_NO                 960343 non-null  int64         \n",
      " 38  REG_SLUTN_NO                960343 non-null  int32         \n",
      " 39  C_PRDUCT_UPDATE_DETE        960301 non-null  datetime64[ns]\n",
      " 40  CHG_ACNT_NO                 960343 non-null  int64         \n",
      " 41  CHG_SLUTN_NO                960343 non-null  int32         \n",
      " 42  C_MD_NO                     960343 non-null  int64         \n",
      " 43  C_SRVC_SE_NO                348885 non-null  float64       \n",
      " 44  PROD_TRT_TYPE_CD            960343 non-null  object        \n",
      " 45  RCMD_SALE_PRIC_CPLY_CD      960343 non-null  object        \n",
      " 46  C_PRDUCT1_LARGE_URL         960317 non-null  object        \n",
      " 47  C_PRDUCT1_MEDIUM_URL        960317 non-null  object        \n",
      " 48  C_PRDUCT2_LARGE_URL         960317 non-null  object        \n",
      " 49  C_PRDUCT2_MEDIUM_URL        960317 non-null  object        \n",
      " 50  C_PRDUCT3_LARGE_URL         960317 non-null  object        \n",
      " 51  C_PRDUCT3_MEDIUM_URL        960317 non-null  object        \n",
      " 52  C_PRDUCT4_LARGE_URL         960317 non-null  object        \n",
      " 53  C_PRDUCT4_MEDIUM_URL        960317 non-null  object        \n",
      " 54  C_PRDUCT5_LARGE_URL         960317 non-null  object        \n",
      " 55  C_PRDUCT5_MEDIUM_URL        960317 non-null  object        \n",
      " 56  C_BRAND_KO_NAME             960343 non-null  object        \n",
      " 57  C_BRAND_USE_YN              960343 non-null  object        \n",
      " 58  C_CTGRY_NO_THIRD            951062 non-null  float64       \n",
      " 59  C_CTGRY_NAME_THIRD          951062 non-null  object        \n",
      " 60  C_CTGRY_USE_YN_THIRD        951062 non-null  object        \n",
      " 61  C_CTGRY_NO_SECOND           951062 non-null  float64       \n",
      " 62  C_CTGRY_NAME_SECOND         951062 non-null  object        \n",
      " 63  C_CTGRY_USE_YN_SECOND       951062 non-null  object        \n",
      " 64  C_CTGRY_NO_FIRST            951062 non-null  float64       \n",
      " 65  C_CTGRY_NAME_FIRST          951062 non-null  object        \n",
      " 66  C_CTGRY_USE_YN_FIRST        951062 non-null  object        \n",
      " 67  C_CTGRY_SIZE_INFO_NO        960343 non-null  object        \n",
      " 68  C_CTGRY_SIZE_INFO_VALUE     960343 non-null  object        \n",
      " 69  C_CTGRY_ETC_INFO_NO         960343 non-null  object        \n",
      " 70  C_CTGRY_ETC_INFO_VALUE_NO   960343 non-null  object        \n",
      " 71  TAG_NO                      903488 non-null  object        \n",
      " 72  TAG_NAME                    903488 non-null  object        \n",
      " 73  C_PRDUCT_REVIEW_CNT         958412 non-null  float64       \n",
      "dtypes: datetime64[ns](5), float64(7), int32(8), int64(5), object(49)\n",
      "memory usage: 520.2+ MB\n"
     ]
    }
   ],
   "source": [
    "df.info()"
   ]
  },
  {
   "cell_type": "code",
   "execution_count": 26,
   "id": "48699392-bd94-40a2-8dfd-9b466f05a690",
   "metadata": {},
   "outputs": [],
   "source": [
    "df = df[['C_PRDUCT_NO', 'C_PRDUCT_NAME', 'C_PRDUCT_DSCNT_PC', 'C_PRDUCT_SELL_PC', 'TAG_NO', 'C_CTGRY_NO_THIRD']]"
   ]
  },
  {
   "cell_type": "code",
   "execution_count": 28,
   "id": "468e1c58-3a12-482f-b7e5-81f8e1efddff",
   "metadata": {},
   "outputs": [],
   "source": [
    "df = df.dropna()"
   ]
  },
  {
   "cell_type": "code",
   "execution_count": 31,
   "id": "93ec5dfd-640d-4b0c-9c6c-b97021c8c5a3",
   "metadata": {},
   "outputs": [],
   "source": [
    "df.['C_CTGRY_NO_THIRD'].astype('int64')"
   ]
  },
  {
   "cell_type": "code",
   "execution_count": 32,
   "id": "1f60109c-6915-4f3f-8849-11b204011aa2",
   "metadata": {},
   "outputs": [
    {
     "data": {
      "text/html": [
       "<div>\n",
       "<style scoped>\n",
       "    .dataframe tbody tr th:only-of-type {\n",
       "        vertical-align: middle;\n",
       "    }\n",
       "\n",
       "    .dataframe tbody tr th {\n",
       "        vertical-align: top;\n",
       "    }\n",
       "\n",
       "    .dataframe thead th {\n",
       "        text-align: right;\n",
       "    }\n",
       "</style>\n",
       "<table border=\"1\" class=\"dataframe\">\n",
       "  <thead>\n",
       "    <tr style=\"text-align: right;\">\n",
       "      <th></th>\n",
       "      <th>C_PRDUCT_NO</th>\n",
       "      <th>C_PRDUCT_NAME</th>\n",
       "      <th>C_PRDUCT_DSCNT_PC</th>\n",
       "      <th>C_PRDUCT_SELL_PC</th>\n",
       "      <th>TAG_NO</th>\n",
       "      <th>C_CTGRY_NO_THIRD</th>\n",
       "    </tr>\n",
       "  </thead>\n",
       "  <tbody>\n",
       "    <tr>\n",
       "      <th>1</th>\n",
       "      <td>81</td>\n",
       "      <td>VENNIS 니트</td>\n",
       "      <td>91000</td>\n",
       "      <td>91000</td>\n",
       "      <td>10,11,12,14,15,16,17,13</td>\n",
       "      <td>17.0</td>\n",
       "    </tr>\n",
       "    <tr>\n",
       "      <th>2</th>\n",
       "      <td>288</td>\n",
       "      <td>MUMU 체크 테니스 스커트</td>\n",
       "      <td>15750</td>\n",
       "      <td>17500</td>\n",
       "      <td>10,11,12,14,15,16,17,13</td>\n",
       "      <td>48.0</td>\n",
       "    </tr>\n",
       "    <tr>\n",
       "      <th>13</th>\n",
       "      <td>1421</td>\n",
       "      <td>KOE 데님 스커트</td>\n",
       "      <td>32000</td>\n",
       "      <td>32000</td>\n",
       "      <td>10,11,12,13,14,15,16,17</td>\n",
       "      <td>48.0</td>\n",
       "    </tr>\n",
       "    <tr>\n",
       "      <th>16</th>\n",
       "      <td>1568</td>\n",
       "      <td>Aila linen skirt</td>\n",
       "      <td>22000</td>\n",
       "      <td>22000</td>\n",
       "      <td>13,14,15,16,17,10,11,12</td>\n",
       "      <td>48.0</td>\n",
       "    </tr>\n",
       "    <tr>\n",
       "      <th>20</th>\n",
       "      <td>1782</td>\n",
       "      <td>Koe button denim skirt</td>\n",
       "      <td>32000</td>\n",
       "      <td>32000</td>\n",
       "      <td>10,11,12,13,14,15,16,17</td>\n",
       "      <td>48.0</td>\n",
       "    </tr>\n",
       "  </tbody>\n",
       "</table>\n",
       "</div>"
      ],
      "text/plain": [
       "   C_PRDUCT_NO           C_PRDUCT_NAME  C_PRDUCT_DSCNT_PC  C_PRDUCT_SELL_PC  \\\n",
       "1           81               VENNIS 니트              91000             91000   \n",
       "2          288         MUMU 체크 테니스 스커트              15750             17500   \n",
       "13        1421              KOE 데님 스커트              32000             32000   \n",
       "16        1568        Aila linen skirt              22000             22000   \n",
       "20        1782  Koe button denim skirt              32000             32000   \n",
       "\n",
       "                     TAG_NO  C_CTGRY_NO_THIRD  \n",
       "1   10,11,12,14,15,16,17,13              17.0  \n",
       "2   10,11,12,14,15,16,17,13              48.0  \n",
       "13  10,11,12,13,14,15,16,17              48.0  \n",
       "16  13,14,15,16,17,10,11,12              48.0  \n",
       "20  10,11,12,13,14,15,16,17              48.0  "
      ]
     },
     "execution_count": 32,
     "metadata": {},
     "output_type": "execute_result"
    }
   ],
   "source": [
    "df.head(5)"
   ]
  },
  {
   "cell_type": "code",
   "execution_count": null,
   "id": "856e0f4a-d840-4b22-8628-fb2ee3d4db19",
   "metadata": {},
   "outputs": [],
   "source": []
  }
 ],
 "metadata": {
  "kernelspec": {
   "display_name": "Enjoy Data Science",
   "language": "python",
   "name": "enjoy-data-science"
  },
  "language_info": {
   "codemirror_mode": {
    "name": "ipython",
    "version": 3
   },
   "file_extension": ".py",
   "mimetype": "text/x-python",
   "name": "python",
   "nbconvert_exporter": "python",
   "pygments_lexer": "ipython3",
   "version": "3.8.10"
  }
 },
 "nbformat": 4,
 "nbformat_minor": 5
}
