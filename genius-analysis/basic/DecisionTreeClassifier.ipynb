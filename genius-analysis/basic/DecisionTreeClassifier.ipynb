{
 "cells": [
  {
   "cell_type": "code",
   "execution_count": 1,
   "id": "213ac2e1-a07a-4a53-8165-33f87c9e9991",
   "metadata": {},
   "outputs": [],
   "source": [
    "import glob\n",
    "import pandas as pd\n",
    "\n",
    "from sklearn.datasets import load_iris\n",
    "from sklearn.tree import DecisionTreeClassifier\n",
    "from sklearn.tree import plot_tree\n",
    "from sklearn.metrics import accuracy_score\n",
    "from sklearn.model_selection import train_test_split"
   ]
  },
  {
   "cell_type": "code",
   "execution_count": 2,
   "id": "c32926d8-aff9-4c4d-a7c6-15cb92353dc1",
   "metadata": {},
   "outputs": [],
   "source": [
    "paths = glob.glob('/Users/choisj2/data/da-datalake-prod/ml-mart/rds/product/year=2021/month=06/day=15/*')"
   ]
  },
  {
   "cell_type": "code",
   "execution_count": 3,
   "id": "65c7a765-8e69-46c2-a34c-931f853680e1",
   "metadata": {},
   "outputs": [],
   "source": [
    "df = pd.concat([pd.read_parquet(path=path) for path in paths[:30]])"
   ]
  },
  {
   "cell_type": "code",
   "execution_count": 4,
   "id": "7021226d-2eaa-4294-9ade-136909d020e8",
   "metadata": {
    "tags": []
   },
   "outputs": [],
   "source": [
    "# df.info()"
   ]
  },
  {
   "cell_type": "code",
   "execution_count": null,
   "id": "1931a866-c9fa-49f5-93f2-e5cce9b7ba60",
   "metadata": {},
   "outputs": [],
   "source": [
    "dff = df[['C_PRDUCT_NO', 'C_PRDUCT_NAME', 'C_PRDUCT_DSCNT_PC', 'C_PRDUCT_SELL_PC', 'TAG_NO', 'C_PRDUCT_KND_CD', 'PROD_STYLE_NM', 'PROD_COLOR_NM',  'C_MD_NO', 'C_CTGRY_NO_THIRD']].copy()\n",
    "dff = dff.dropna()\n",
    "dff = dff.astype({'C_CTGRY_NO_THIRD':'int64'})"
   ]
  },
  {
   "cell_type": "code",
   "execution_count": null,
   "id": "fe92b46b-19e0-4a84-93cb-d61bd606981b",
   "metadata": {},
   "outputs": [],
   "source": [
    "dff.replace({\"C_PRDUCT_KND_CD\": {\"B\":0, \"N\":1, \"S\":2}}, inplace=True)"
   ]
  },
  {
   "cell_type": "code",
   "execution_count": null,
   "id": "23db9f6c-df5c-472e-9ed6-cbfbd4b1d8f6",
   "metadata": {},
   "outputs": [],
   "source": [
    "dff.replace({\"PROD_STYLE_NM\": {\"선택안함\":0, \"심플베이직\":1, \"캐주얼\":2, \"오피스룩\":3, \"페미닌\":4, \"바캉스\": 5, \"러블리\":6, \"섹시글램\": 7, \"스포츠\":8}}, inplace=True)\n",
    "dff.replace({\"PROD_COLOR_NM\": {\"선택안함\":0, \"블랙\":1, \"그레이\":2, \"화이트\":3, \"네이비\":4, \"베이지\":5, \"블루\":6, \"와인\":7, \"레드\":8, \"핑크\":9, \"스카이\":10, \"라벤더\":11, \"옐로우\":12, \"민트\":13,\"실버\":14,\"그린\":15,\"카키\":16,\"골드\":17,\"퍼플\":18,\"로즈골드\":19,\"오렌지\":20, \"브라운\": 21}}, inplace=True)"
   ]
  },
  {
   "cell_type": "code",
   "execution_count": null,
   "id": "dbb3fb63-f344-47c3-a7ff-9c1e869dd629",
   "metadata": {},
   "outputs": [],
   "source": [
    "X_train, X_test, y_train, y_test = train_test_split(dff[['C_PRDUCT_DSCNT_PC', 'C_PRDUCT_SELL_PC', 'C_PRDUCT_KND_CD', 'PROD_STYLE_NM', 'PROD_COLOR_NM', 'C_MD_NO']], dff['C_CTGRY_NO_THIRD'], test_size=0.3, random_state=121)"
   ]
  },
  {
   "cell_type": "code",
   "execution_count": null,
   "id": "93ec5dfd-640d-4b0c-9c6c-b97021c8c5a3",
   "metadata": {},
   "outputs": [],
   "source": [
    "dt_clf = DecisionTreeClassifier()\n",
    "clf = dt_clf.fit(X_train, y_train)\n",
    "pred = dt_clf.predict(X_test)"
   ]
  },
  {
   "cell_type": "code",
   "execution_count": null,
   "id": "04d62d34-19bf-4a42-864a-02740a36f61b",
   "metadata": {},
   "outputs": [],
   "source": [
    "accuracy_score(y_test, pred)"
   ]
  },
  {
   "cell_type": "code",
   "execution_count": null,
   "id": "228abb8c-2ad0-40d8-a90a-b5ca536a283a",
   "metadata": {},
   "outputs": [],
   "source": [
    "# 0.6020168167363019\n",
    "# 0.6093929441204727\n",
    "# 0.6536077548158723"
   ]
  }
 ],
 "metadata": {
  "kernelspec": {
   "display_name": "Enjoy Data Science",
   "language": "python",
   "name": "enjoy-data-science"
  },
  "language_info": {
   "codemirror_mode": {
    "name": "ipython",
    "version": 3
   },
   "file_extension": ".py",
   "mimetype": "text/x-python",
   "name": "python",
   "nbconvert_exporter": "python",
   "pygments_lexer": "ipython3",
   "version": "3.8.10"
  }
 },
 "nbformat": 4,
 "nbformat_minor": 5
}
