{
 "cells": [
  {
   "cell_type": "code",
   "execution_count": 1,
   "id": "7f465e50-ef90-4c8e-8a66-f84adc1cd374",
   "metadata": {},
   "outputs": [],
   "source": [
    "import mxnet as mx\n",
    "\n",
    "from mxnet.gluon.nn import HybridSequential, Dense\n",
    "from mxnet.gluon.loss import L2Loss\n",
    "from mxnet import autograd"
   ]
  },
  {
   "cell_type": "code",
   "execution_count": 2,
   "id": "422b6ed3-65e7-478f-b09e-ed77397c495d",
   "metadata": {},
   "outputs": [],
   "source": [
    "# Define network\n",
    "net = HybridSequential()\n",
    "net.add(Dense(units=3))\n",
    "net.add(Dense(units=1))\n",
    "net.initialize()\n",
    "\n",
    "# Define loss\n",
    "loss_fn = L2Loss()\n",
    "\n",
    "# Create dummy data\n",
    "x = mx.nd.array([[0.3, 0.5]])\n",
    "y = mx.nd.array([[1.5]])"
   ]
  },
  {
   "cell_type": "code",
   "execution_count": 3,
   "id": "1cad2ba1-2a86-479d-8228-37d5c6e657ad",
   "metadata": {},
   "outputs": [],
   "source": [
    "with autograd.record():\n",
    "    y_hat = net(x)\n",
    "    loss = loss_fn(y_hat, y)"
   ]
  },
  {
   "cell_type": "code",
   "execution_count": 4,
   "id": "746dd89a-8a4e-4302-ac4d-17d5c2af4cbe",
   "metadata": {},
   "outputs": [],
   "source": [
    "loss.backward()"
   ]
  },
  {
   "cell_type": "code",
   "execution_count": 5,
   "id": "8344fe7c-53f1-4193-861c-a676956e2831",
   "metadata": {},
   "outputs": [
    {
     "data": {
      "text/plain": [
       "\n",
       "[[-0.0028251  -0.00470849]\n",
       " [-0.02185716 -0.0364286 ]\n",
       " [ 0.00480542  0.00800903]]\n",
       "<NDArray 3x2 @cpu(0)>"
      ]
     },
     "execution_count": 5,
     "metadata": {},
     "output_type": "execute_result"
    }
   ],
   "source": [
    "net[0].weight.grad()"
   ]
  },
  {
   "cell_type": "code",
   "execution_count": null,
   "id": "9ced9be0-f678-4787-8777-2b21694ad707",
   "metadata": {},
   "outputs": [],
   "source": []
  }
 ],
 "metadata": {
  "kernelspec": {
   "display_name": "Enjoy Data Science",
   "language": "python",
   "name": "enjoy-data-science"
  },
  "language_info": {
   "codemirror_mode": {
    "name": "ipython",
    "version": 3
   },
   "file_extension": ".py",
   "mimetype": "text/x-python",
   "name": "python",
   "nbconvert_exporter": "python",
   "pygments_lexer": "ipython3",
   "version": "3.8.10"
  }
 },
 "nbformat": 4,
 "nbformat_minor": 5
}
