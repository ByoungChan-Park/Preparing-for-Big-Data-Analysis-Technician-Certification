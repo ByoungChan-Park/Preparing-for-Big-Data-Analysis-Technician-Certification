{
 "cells": [
  {
   "cell_type": "code",
   "execution_count": 1,
   "id": "1621c2c4-e13c-4898-9c94-ee8b8c99bef9",
   "metadata": {},
   "outputs": [],
   "source": [
    "import numpy as np\n",
    "import tensorflow as tf\n",
    "import matplotlib.pyplot as plt\n",
    "\n",
    "from tensorflow.keras.datasets import fashion_mnist\n",
    "from tensorflow.keras.layers import Layer, Input, Dense, Flatten\n",
    "from tensorflow.keras.models import Model\n",
    "from tensorflow.keras.utils import to_categorical\n",
    "from tensorflow.keras.optimizers import Adam\n",
    "from sklearn.model_selection import train_test_split"
   ]
  },
  {
   "cell_type": "code",
   "execution_count": 2,
   "id": "b8caa73b-7c35-47e6-9a45-86b9b3328bd5",
   "metadata": {},
   "outputs": [],
   "source": [
    "class CustomDense(tf.keras.layers.Layer):\n",
    "    \n",
    "    def __init__(self, units=32):\n",
    "        super(CustomDense, self).__init__()\n",
    "        self.units = units\n",
    "    \n",
    "    def build(self, input_shape):\n",
    "        self.w = self.add_weight(shape = (input_shape[-1], self.units), initializer=\"random_normal\", trainable=True)\n",
    "        self.b = self.add_weight(shape = (self.units,), initializer=\"random_normal\", trainable=True)\n",
    "        \n",
    "    def call(self, inputs):\n",
    "        return tf.matmul(inputs, self.w) + self.b"
   ]
  },
  {
   "cell_type": "code",
   "execution_count": 3,
   "id": "4738be1f-0503-4b53-9cd2-4ebfcbbe6b7f",
   "metadata": {
    "tags": []
   },
   "outputs": [],
   "source": [
    "inputs = Input((4,))\n",
    "outputs = CustomDense(10)(inputs)"
   ]
  },
  {
   "cell_type": "code",
   "execution_count": 4,
   "id": "df0b45d2-0228-4d86-9180-d5ae7e7a8594",
   "metadata": {
    "tags": []
   },
   "outputs": [],
   "source": [
    "# model = Model(inputs, outputs)\n",
    "# model.summary()"
   ]
  },
  {
   "cell_type": "code",
   "execution_count": 5,
   "id": "3adf88a7-6ebc-4af8-84fa-fed8ee72b4cf",
   "metadata": {
    "tags": []
   },
   "outputs": [],
   "source": [
    "INPUT_SIZE = 28\n",
    "\n",
    "def create_model():\n",
    "    input_tensor = Input(shape=(INPUT_SIZE, INPUT_SIZE))\n",
    "    x = Flatten()(input_tensor)\n",
    "    x = Dense(100, activation='relu')(x)\n",
    "    x = Dense(30, activation='relu')(x)\n",
    "    output = Dense(10, activation='softmax')(x)\n",
    "    \n",
    "    model = Model(inputs=input_tensor, outputs=output)\n",
    "    return model"
   ]
  },
  {
   "cell_type": "code",
   "execution_count": 6,
   "id": "56f98f14-82c8-4c09-936c-821df5dd6704",
   "metadata": {},
   "outputs": [],
   "source": [
    "# model = create_model()\n",
    "# model.summary()"
   ]
  },
  {
   "cell_type": "code",
   "execution_count": 7,
   "id": "1a081cb0-5357-41c2-bdc2-fd35113c2d1e",
   "metadata": {},
   "outputs": [],
   "source": [
    "def get_preprocessed_data(images, labels):\n",
    "    images = np.array(images/255.0, dtype=np.float32)\n",
    "    labels = np.array(labels, dtype=np.float32)\n",
    "    return images, labels\n",
    "\n",
    "def get_preprocessed_ohe(images, labels):\n",
    "    images, labels = get_preprocessed_data(images, labels)\n",
    "    oh_labels = to_categorical(labels)\n",
    "    return images, oh_labels\n",
    "\n",
    "def get_train_valid_test_set(train_images, train_labels, test_images, test_labels, valid_size=0.15, random_state=2021):\n",
    "    train_images, train_oh_labels = get_preprocessed_ohe(train_images, train_labels)\n",
    "    test_images, test_oh_labels = get_preprocessed_ohe(test_images, test_labels)\n",
    "    tr_images, val_images, tr_oh_labels, val_oh_labels = train_test_split(train_images, train_oh_labels, test_size=valid_size, random_state=random_state)\n",
    "    return (tr_images, tr_oh_labels), (val_images, val_oh_labels), (test_images, test_oh_labels)"
   ]
  },
  {
   "cell_type": "code",
   "execution_count": 8,
   "id": "5b56df43-3973-4c42-8af6-cca3c689d465",
   "metadata": {},
   "outputs": [
    {
     "name": "stdout",
     "output_type": "stream",
     "text": [
      "(60000, 28, 28) (60000,) (10000, 28, 28) (10000,)\n"
     ]
    }
   ],
   "source": [
    "(train_images, train_labels),(test_images, test_labels) = fashion_mnist.load_data()\n",
    "print(train_images.shape, train_labels.shape, test_images.shape, test_labels.shape)"
   ]
  },
  {
   "cell_type": "code",
   "execution_count": 9,
   "id": "b2dd37bc-0a87-4793-aa64-3158591a0856",
   "metadata": {},
   "outputs": [
    {
     "name": "stdout",
     "output_type": "stream",
     "text": [
      "(51000, 28, 28) (51000, 10) (9000, 28, 28) (9000, 10) (10000, 28, 28) (10000,)\n"
     ]
    }
   ],
   "source": [
    "(tr_images, tr_oh_labels), (val_images, val_oh_labels), (test_images, test_oh_labels) = \\\n",
    "    get_train_valid_test_set(train_images, train_labels, test_images, test_labels, valid_size=0.15, random_state=2021)\n",
    "\n",
    "print(tr_images.shape, tr_oh_labels.shape, val_images.shape, val_oh_labels.shape, test_images.shape, test_labels.shape)"
   ]
  },
  {
   "cell_type": "code",
   "execution_count": 10,
   "id": "63f0528c-4f35-401e-91ef-a2adb7b92542",
   "metadata": {},
   "outputs": [
    {
     "name": "stdout",
     "output_type": "stream",
     "text": [
      "Model: \"model\"\n",
      "_________________________________________________________________\n",
      "Layer (type)                 Output Shape              Param #   \n",
      "=================================================================\n",
      "input_2 (InputLayer)         [(None, 28, 28)]          0         \n",
      "_________________________________________________________________\n",
      "flatten (Flatten)            (None, 784)               0         \n",
      "_________________________________________________________________\n",
      "dense (Dense)                (None, 100)               78500     \n",
      "_________________________________________________________________\n",
      "dense_1 (Dense)              (None, 30)                3030      \n",
      "_________________________________________________________________\n",
      "dense_2 (Dense)              (None, 10)                310       \n",
      "=================================================================\n",
      "Total params: 81,840\n",
      "Trainable params: 81,840\n",
      "Non-trainable params: 0\n",
      "_________________________________________________________________\n"
     ]
    }
   ],
   "source": [
    "model = create_model()\n",
    "model.summary()\n",
    "model.compile(optimizer=Adam(0.001), loss='categorical_crossentropy', metrics=['accuracy'])"
   ]
  },
  {
   "cell_type": "code",
   "execution_count": 11,
   "id": "61dd99df-395f-4535-b532-28534e1ee1d0",
   "metadata": {
    "tags": []
   },
   "outputs": [
    {
     "name": "stdout",
     "output_type": "stream",
     "text": [
      "Epoch 1/20\n",
      "1594/1594 [==============================] - 2s 945us/step - loss: 0.5439 - accuracy: 0.8092 - val_loss: 0.4253 - val_accuracy: 0.8471\n",
      "Epoch 2/20\n",
      "1594/1594 [==============================] - 2s 944us/step - loss: 0.3927 - accuracy: 0.8602 - val_loss: 0.4079 - val_accuracy: 0.8466\n",
      "Epoch 3/20\n",
      "1594/1594 [==============================] - 2s 955us/step - loss: 0.3510 - accuracy: 0.8738 - val_loss: 0.3761 - val_accuracy: 0.8668\n",
      "Epoch 4/20\n",
      "1594/1594 [==============================] - 1s 895us/step - loss: 0.3271 - accuracy: 0.8806 - val_loss: 0.3575 - val_accuracy: 0.8691\n",
      "Epoch 5/20\n",
      "1594/1594 [==============================] - 1s 873us/step - loss: 0.3113 - accuracy: 0.8863 - val_loss: 0.3437 - val_accuracy: 0.8727\n",
      "Epoch 6/20\n",
      "1594/1594 [==============================] - 1s 893us/step - loss: 0.2957 - accuracy: 0.8918 - val_loss: 0.3600 - val_accuracy: 0.8700\n",
      "Epoch 7/20\n",
      "1594/1594 [==============================] - 1s 892us/step - loss: 0.2824 - accuracy: 0.8965 - val_loss: 0.3201 - val_accuracy: 0.8863\n",
      "Epoch 8/20\n",
      "1594/1594 [==============================] - 1s 886us/step - loss: 0.2719 - accuracy: 0.9002 - val_loss: 0.3200 - val_accuracy: 0.8847\n",
      "Epoch 9/20\n",
      "1594/1594 [==============================] - 1s 898us/step - loss: 0.2631 - accuracy: 0.9025 - val_loss: 0.3472 - val_accuracy: 0.8727\n",
      "Epoch 10/20\n",
      "1594/1594 [==============================] - 1s 876us/step - loss: 0.2547 - accuracy: 0.9051 - val_loss: 0.3222 - val_accuracy: 0.8858\n",
      "Epoch 11/20\n",
      "1594/1594 [==============================] - 1s 885us/step - loss: 0.2449 - accuracy: 0.9086 - val_loss: 0.3213 - val_accuracy: 0.8854\n",
      "Epoch 12/20\n",
      "1594/1594 [==============================] - 1s 888us/step - loss: 0.2389 - accuracy: 0.9105 - val_loss: 0.3143 - val_accuracy: 0.8863\n",
      "Epoch 13/20\n",
      "1594/1594 [==============================] - 1s 887us/step - loss: 0.2314 - accuracy: 0.9139 - val_loss: 0.3416 - val_accuracy: 0.8782\n",
      "Epoch 14/20\n",
      "1594/1594 [==============================] - 1s 876us/step - loss: 0.2256 - accuracy: 0.9155 - val_loss: 0.3379 - val_accuracy: 0.8841\n",
      "Epoch 15/20\n",
      "1594/1594 [==============================] - 1s 881us/step - loss: 0.2181 - accuracy: 0.9193 - val_loss: 0.3509 - val_accuracy: 0.8780\n",
      "Epoch 16/20\n",
      "1594/1594 [==============================] - 1s 890us/step - loss: 0.2138 - accuracy: 0.9194 - val_loss: 0.3261 - val_accuracy: 0.8856\n",
      "Epoch 17/20\n",
      "1594/1594 [==============================] - 1s 890us/step - loss: 0.2088 - accuracy: 0.9225 - val_loss: 0.3271 - val_accuracy: 0.8892\n",
      "Epoch 18/20\n",
      "1594/1594 [==============================] - 1s 902us/step - loss: 0.2030 - accuracy: 0.9248 - val_loss: 0.3361 - val_accuracy: 0.8856\n",
      "Epoch 19/20\n",
      "1594/1594 [==============================] - 1s 893us/step - loss: 0.1966 - accuracy: 0.9259 - val_loss: 0.3733 - val_accuracy: 0.8796\n",
      "Epoch 20/20\n",
      "1594/1594 [==============================] - 1s 879us/step - loss: 0.1942 - accuracy: 0.9273 - val_loss: 0.3383 - val_accuracy: 0.8860\n"
     ]
    }
   ],
   "source": [
    "history = model.fit(x=tr_images, y=tr_oh_labels, batch_size=32, epochs=20, validation_data=(val_images, val_oh_labels))"
   ]
  },
  {
   "cell_type": "code",
   "execution_count": 12,
   "id": "13629405-7513-4365-bdc1-b45daa7acb86",
   "metadata": {},
   "outputs": [
    {
     "data": {
      "image/png": "[encoded data removed]",
      "text/plain": [
       "<Figure size 432x288 with 1 Axes>"
      ]
     },
     "metadata": {
      "needs_background": "light"
     },
     "output_type": "display_data"
    }
   ],
   "source": [
    "def show_history(history):\n",
    "    plt.plot(history.history['accuracy'], label='train')\n",
    "    plt.plot(history.history['val_accuracy'], label='valid')\n",
    "    plt.legend()\n",
    "    \n",
    "show_history(history)"
   ]
  },
  {
   "cell_type": "code",
   "execution_count": 13,
   "id": "612ad351-bce7-42bc-b09d-819d6d00fbcd",
   "metadata": {},
   "outputs": [
    {
     "name": "stdout",
     "output_type": "stream",
     "text": [
      "40/40 [==============================] - 0s 901us/step - loss: 0.3666 - accuracy: 0.8877\n"
     ]
    },
    {
     "data": {
      "text/plain": [
       "[0.36655867099761963, 0.8877000212669373]"
      ]
     },
     "execution_count": 13,
     "metadata": {},
     "output_type": "execute_result"
    }
   ],
   "source": [
    "model.evaluate(test_images, test_oh_labels, batch_size=256, verbose=1)"
   ]
  },
  {
   "cell_type": "code",
   "execution_count": null,
   "id": "5dac25ca-c83a-4416-acd9-0f43ec3ff0ff",
   "metadata": {},
   "outputs": [],
   "source": []
  }
 ],
 "metadata": {
  "kernelspec": {
   "display_name": "Enjoy Data Science",
   "language": "python",
   "name": "enjoy-data-science"
  },
  "language_info": {
   "codemirror_mode": {
    "name": "ipython",
    "version": 3
   },
   "file_extension": ".py",
   "mimetype": "text/x-python",
   "name": "python",
   "nbconvert_exporter": "python",
   "pygments_lexer": "ipython3",
   "version": "3.8.10"
  }
 },
 "nbformat": 4,
 "nbformat_minor": 5
}
